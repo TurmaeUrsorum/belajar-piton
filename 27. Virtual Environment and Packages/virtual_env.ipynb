{
 "cells": [
  {
   "cell_type": "markdown",
   "id": "f3e8cc1e",
   "metadata": {},
   "source": [
    "aduhai ternyta kagak ada praktik koding nya"
   ]
  },
  {
   "cell_type": "markdown",
   "id": "4cd08401",
   "metadata": {},
   "source": []
  }
 ],
 "metadata": {
  "language_info": {
   "name": "python"
  }
 },
 "nbformat": 4,
 "nbformat_minor": 5
}
