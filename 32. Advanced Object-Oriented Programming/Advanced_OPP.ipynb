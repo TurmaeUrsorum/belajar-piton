{
 "cells": [
  {
   "cell_type": "markdown",
   "id": "5f7bea77",
   "metadata": {},
   "source": [
    "# Simple"
   ]
  },
  {
   "cell_type": "code",
   "execution_count": 1,
   "id": "635620fd",
   "metadata": {},
   "outputs": [
    {
     "name": "stdout",
     "output_type": "stream",
     "text": [
      "Daftar Buku di Library A : ['Book 2']\n",
      "Daftar Anggota: ['Member 1']\n",
      "Book 1 berhasil dipinjam oleh Member 1.\n"
     ]
    }
   ],
   "source": [
    "class Library:\n",
    "    def __init__(self, name):\n",
    "        self.name = name\n",
    "        self.books = []\n",
    "        self.members = []\n",
    "\n",
    "    def add_book(self, book):\n",
    "        self.books.append(book)\n",
    "\n",
    "    def add_member(self, member):\n",
    "        self.members.append(member)\n",
    "\n",
    "    def lend_book(self, book, member):\n",
    "        if book in self.books and member in self.members:\n",
    "            self.books.remove(book)\n",
    "            return f\"{book} berhasil dipinjam oleh {member}.\"\n",
    "        else:\n",
    "            return \"Buku tidak tersedia atau anggota tidak terdaftar.\"\n",
    "\n",
    "# Contoh Penggunaan\n",
    "my_library = Library(\"Library A\")\n",
    "book1 = \"Book 1\"\n",
    "book2 = \"Book 2\"\n",
    "member1 = \"Member 1\"\n",
    "\n",
    "my_library.add_book(book1)\n",
    "my_library.add_book(book2)\n",
    "my_library.add_member(member1)\n",
    "lending_result = my_library.lend_book(book1, member1)\n",
    "\n",
    "print(\"Daftar Buku di\", my_library.name, \":\", my_library.books)\n",
    "print(\"Daftar Anggota:\", my_library.members)\n",
    "print(lending_result)\n"
   ]
  },
  {
   "cell_type": "markdown",
   "id": "f9d0a311",
   "metadata": {},
   "source": [
    "Penjelasan: Kelas Library menciptakan objek perpustakaan dan mengelola daftar buku. Kami menggunakan objek my_library untuk menambahkan dan menghapus buku."
   ]
  },
  {
   "cell_type": "markdown",
   "id": "af1b5ed8",
   "metadata": {},
   "source": [
    "Membuat kelas BankAccount yang mencakup atribut seperti saldo dan metode untuk setoran dan penarikan."
   ]
  },
  {
   "cell_type": "code",
   "execution_count": 2,
   "id": "fc64954a",
   "metadata": {},
   "outputs": [
    {
     "name": "stdout",
     "output_type": "stream",
     "text": [
      "Saldo Akun Alice: 500\n",
      "Saldo Akun Bob: 500\n",
      "500 berhasil ditransfer.\n"
     ]
    }
   ],
   "source": [
    "class BankAccount:\n",
    "    def __init__(self, balance=0):\n",
    "        self.balance = balance\n",
    "\n",
    "    def deposit(self, amount):\n",
    "        self.balance += amount\n",
    "\n",
    "    def withdraw(self, amount):\n",
    "        if amount <= self.balance:\n",
    "            self.balance -= amount\n",
    "            return amount\n",
    "        else:\n",
    "            return \"Saldo tidak mencukupi.\"\n",
    "\n",
    "    def transfer(self, amount, recipient):\n",
    "        withdrawal = self.withdraw(amount)\n",
    "        if isinstance(withdrawal, int):\n",
    "            recipient.deposit(withdrawal)\n",
    "            return f\"{amount} berhasil ditransfer.\"\n",
    "        else:\n",
    "            return \"Transfer gagal.\"\n",
    "\n",
    "class BankCustomer:\n",
    "    def __init__(self, name):\n",
    "        self.name = name\n",
    "        self.account = BankAccount()\n",
    "\n",
    "# Contoh Penggunaan\n",
    "customer1 = BankCustomer(\"Alice\")\n",
    "customer2 = BankCustomer(\"Bob\")\n",
    "\n",
    "customer1.account.deposit(1000)\n",
    "transfer_result = customer1.account.transfer(500, customer2.account)\n",
    "\n",
    "print(f\"Saldo Akun {customer1.name}:\", customer1.account.balance)\n",
    "print(f\"Saldo Akun {customer2.name}:\", customer2.account.balance)\n",
    "print(transfer_result)\n"
   ]
  },
  {
   "cell_type": "markdown",
   "id": "33a15068",
   "metadata": {},
   "source": [
    "# Intermediate"
   ]
  }
 ],
 "metadata": {
  "kernelspec": {
   "display_name": "base",
   "language": "python",
   "name": "python3"
  },
  "language_info": {
   "codemirror_mode": {
    "name": "ipython",
    "version": 3
   },
   "file_extension": ".py",
   "mimetype": "text/x-python",
   "name": "python",
   "nbconvert_exporter": "python",
   "pygments_lexer": "ipython3",
   "version": "3.12.4"
  }
 },
 "nbformat": 4,
 "nbformat_minor": 5
}
