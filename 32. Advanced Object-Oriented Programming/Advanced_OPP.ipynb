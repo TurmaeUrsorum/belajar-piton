{
 "cells": [
  {
   "cell_type": "markdown",
   "id": "5f7bea77",
   "metadata": {},
   "source": [
    "# Simple"
   ]
  },
  {
   "cell_type": "code",
   "execution_count": 1,
   "id": "635620fd",
   "metadata": {},
   "outputs": [
    {
     "name": "stdout",
     "output_type": "stream",
     "text": [
      "Daftar Buku di Library A : ['Book 2']\n",
      "Daftar Anggota: ['Member 1']\n",
      "Book 1 berhasil dipinjam oleh Member 1.\n"
     ]
    }
   ],
   "source": [
    "# belajar OOP advanced\n",
    "class Library:\n",
    "    def __init__(self, name):\n",
    "        self.name = name\n",
    "        self.books = []\n",
    "        self.members = []\n",
    "\n",
    "    def add_book(self, book):\n",
    "        self.books.append(book)\n",
    "\n",
    "    def add_member(self, member):\n",
    "        self.members.append(member)\n",
    "\n",
    "    def lend_book(self, book, member):\n",
    "        if book in self.books and member in self.members:\n",
    "            self.books.remove(book)\n",
    "            return f\"{book} berhasil dipinjam oleh {member}.\"\n",
    "        else:\n",
    "            return \"Buku tidak tersedia atau anggota tidak terdaftar.\"\n",
    "\n",
    "# Contoh Penggunaan\n",
    "my_library = Library(\"Library A\")\n",
    "book1 = \"Book 1\"\n",
    "book2 = \"Book 2\"\n",
    "member1 = \"Member 1\"\n",
    "\n",
    "my_library.add_book(book1)\n",
    "my_library.add_book(book2)\n",
    "my_library.add_member(member1)\n",
    "lending_result = my_library.lend_book(book1, member1)\n",
    "\n",
    "print(\"Daftar Buku di\", my_library.name, \":\", my_library.books)\n",
    "print(\"Daftar Anggota:\", my_library.members)\n",
    "print(lending_result)\n"
   ]
  },
  {
   "cell_type": "markdown",
   "id": "f9d0a311",
   "metadata": {},
   "source": [
    "Penjelasan: Kelas Library menciptakan objek perpustakaan dan mengelola daftar buku. Kami menggunakan objek my_library untuk menambahkan dan menghapus buku."
   ]
  },
  {
   "cell_type": "markdown",
   "id": "af1b5ed8",
   "metadata": {},
   "source": [
    "Membuat kelas BankAccount yang mencakup atribut seperti saldo dan metode untuk setoran dan penarikan."
   ]
  },
  {
   "cell_type": "code",
   "execution_count": 2,
   "id": "fc64954a",
   "metadata": {},
   "outputs": [
    {
     "name": "stdout",
     "output_type": "stream",
     "text": [
      "Saldo Akun Alice: 500\n",
      "Saldo Akun Bob: 500\n",
      "500 berhasil ditransfer.\n"
     ]
    }
   ],
   "source": [
    "class BankAccount:\n",
    "    def __init__(self, balance=0):\n",
    "        self.balance = balance\n",
    "\n",
    "    def deposit(self, amount):\n",
    "        self.balance += amount\n",
    "\n",
    "    def withdraw(self, amount):\n",
    "        if amount <= self.balance:\n",
    "            self.balance -= amount\n",
    "            return amount\n",
    "        else:\n",
    "            return \"Saldo tidak mencukupi.\"\n",
    "\n",
    "    def transfer(self, amount, recipient):\n",
    "        withdrawal = self.withdraw(amount)\n",
    "        if isinstance(withdrawal, int):\n",
    "            recipient.deposit(withdrawal)\n",
    "            return f\"{amount} berhasil ditransfer.\"\n",
    "        else:\n",
    "            return \"Transfer gagal.\"\n",
    "\n",
    "class BankCustomer:\n",
    "    def __init__(self, name):\n",
    "        self.name = name\n",
    "        self.account = BankAccount()\n",
    "\n",
    "# Contoh Penggunaan\n",
    "customer1 = BankCustomer(\"Alice\")\n",
    "customer2 = BankCustomer(\"Bob\")\n",
    "\n",
    "customer1.account.deposit(1000)\n",
    "transfer_result = customer1.account.transfer(500, customer2.account)\n",
    "\n",
    "print(f\"Saldo Akun {customer1.name}:\", customer1.account.balance)\n",
    "print(f\"Saldo Akun {customer2.name}:\", customer2.account.balance)\n",
    "print(transfer_result)\n"
   ]
  },
  {
   "cell_type": "markdown",
   "id": "33a15068",
   "metadata": {},
   "source": [
    "# Intermediate"
   ]
  },
  {
   "cell_type": "markdown",
   "id": "8e161b84",
   "metadata": {},
   "source": [
    "Dalam contoh ini, kita mengimplementasikan variasi bentuk dengan atribut dan metode tambahan."
   ]
  },
  {
   "cell_type": "markdown",
   "id": "62b88d8a",
   "metadata": {},
   "source": [
    "Baris kode ini:\n",
    "\n",
    "```python\n",
    "from abc import ABC, abstractmethod\n",
    "```\n",
    "\n",
    "adalah bagian dari **library standar Python** (built-in), tepatnya dari modul bernama `abc`.\n",
    "\n",
    "---\n",
    "\n",
    "## 📦 Penjelasan:\n",
    "\n",
    "### ✅ `abc` = **Abstract Base Classes**\n",
    "\n",
    "Modul ini digunakan untuk membuat **kelas abstrak** di Python, seperti konsep \"interface\" di bahasa lain (misalnya Java atau Go).\n",
    "\n",
    "### ✅ `ABC` = Abstract Base Class\n",
    "\n",
    "Ini adalah **kelas dasar** yang dipakai untuk membuat kelas abstrak.\n",
    "\n",
    "### ✅ `@abstractmethod`\n",
    "\n",
    "Ini adalah **dekorator** yang dipakai untuk menandai bahwa sebuah method **harus di-override** oleh subclass (anak kelas).\n",
    "\n",
    "---\n",
    "\n",
    "## 🧠 Tujuan Utamanya:\n",
    "\n",
    "Untuk **mendesain struktur kelas yang rapi** dan memastikan subclass mengikuti kontrak tertentu.\n",
    "\n",
    "---\n",
    "\n",
    "## 🧪 Contoh Kode:\n",
    "\n",
    "```python\n",
    "from abc import ABC, abstractmethod\n",
    "\n",
    "class Hewan(ABC):\n",
    "    @abstractmethod\n",
    "    def bersuara(self):\n",
    "        pass\n",
    "\n",
    "class Kucing(Hewan):\n",
    "    def bersuara(self):\n",
    "        print(\"Meong!\")\n",
    "\n",
    "# Ini akan error:\n",
    "# h = Hewan()  ← ERROR: tidak bisa buat instance dari kelas abstrak\n",
    "\n",
    "k = Kucing()\n",
    "k.bersuara()  # Output: Meong!\n",
    "```\n",
    "\n",
    "Kalau kamu bikin subclass dari `Hewan` tapi lupa mengimplementasi `bersuara()`, Python akan langsung kasih **error**. Jadi ini cara bagus untuk bikin aturan tegas dalam OOP.\n",
    "\n",
    "---\n",
    "\n",
    "## 📌 Kapan dipakai?\n",
    "\n",
    "* Kalau kamu bikin framework/library dan ingin developer lain **wajib override method tertentu**.\n",
    "* Kalau kamu ingin struktur OOP yang lebih ketat.\n",
    "\n",
    "---\n",
    "\n",
    "Kalau kamu familiar sama konsep `interface` di Java atau `trait` di Rust — ini mirip banget.\n",
    "\n",
    "Kalau mau, gue bisa bantu buatin contoh use case di dunia nyata (misalnya sistem pembayaran, kendaraan, dsb). Mau?\n"
   ]
  },
  {
   "cell_type": "code",
   "execution_count": 3,
   "id": "62eb429c",
   "metadata": {},
   "outputs": [
    {
     "name": "stdout",
     "output_type": "stream",
     "text": [
      "Luas Lingkaran: 78.5\n",
      "Luas Persegi Panjang: 24\n",
      "Warna Lingkaran: red\n",
      "Rotasi Persegi Panjang: 45\n"
     ]
    }
   ],
   "source": [
    "from abc import ABC, abstractmethod\n",
    "\n",
    "class Shape(ABC):\n",
    "    def __init__(self, color=\"white\"):\n",
    "        self.color = color\n",
    "\n",
    "    @abstractmethod\n",
    "    def area(self):\n",
    "        pass\n",
    "\n",
    "class Circle(Shape):\n",
    "    def __init__(self, radius, color=\"white\"):\n",
    "        super().__init__(color)\n",
    "        self.radius = radius\n",
    "\n",
    "    def area(self):\n",
    "        return 3.14 * self.radius * self.radius\n",
    "\n",
    "class Rectangle(Shape):\n",
    "    def __init__(self, width, height, color=\"white\", rotation=0):\n",
    "        super().__init__(color)\n",
    "        self.width = width\n",
    "        self.height = height\n",
    "        self.rotation = rotation\n",
    "\n",
    "    def area(self):\n",
    "        return self.width * self.height\n",
    "\n",
    "# Contoh Penggunaan\n",
    "red_circle = Circle(5, \"red\")\n",
    "rotated_rectangle = Rectangle(4, 6, \"blue\", 45)\n",
    "\n",
    "print(\"Luas Lingkaran:\", red_circle.area())\n",
    "print(\"Luas Persegi Panjang:\", rotated_rectangle.area())\n",
    "print(\"Warna Lingkaran:\", red_circle.color)\n",
    "print(\"Rotasi Persegi Panjang:\", rotated_rectangle.rotation)\n"
   ]
  },
  {
   "cell_type": "markdown",
   "id": "6e2bcf07",
   "metadata": {},
   "source": [
    "kelas Shape secara eksplisit ditandai sebagai kelas dasar abstrak (ABC), dan metode area ditandai sebagai metode abstrak dengan dekorator @abstractmethod. Hal ini memaksa bahwa setiap subclass dari Shape harus mengimplementasikan metode area. Ini mengilustrasikan konsep kelas abstrak dan polimorfisme ketika memanggil metode area pada objek bentuk yang berbeda."
   ]
  },
  {
   "cell_type": "markdown",
   "id": "69b310a9",
   "metadata": {},
   "source": [
    "Menerapkan struktur manajemen proyek dengan kelas Project sebagai entitas utama dan subkelas Task yang mencakup tenggat waktu dan status.\n",
    "Penjelasan: Dalam contoh ini, kita memperluas manajemen proyek dengan tambahan atribut dan metode yang lebih kompleks."
   ]
  },
  {
   "cell_type": "code",
   "execution_count": 4,
   "id": "bd582838",
   "metadata": {},
   "outputs": [
    {
     "name": "stdout",
     "output_type": "stream",
     "text": [
      "Proyek: Project X\n",
      "Daftar Tugas:\n",
      "- Tugas: Task 1\n",
      "  Status: In Progress\n",
      "- Tugas: Task 2\n",
      "  Status: In Progress\n",
      "Proyek Terlambat: True\n"
     ]
    }
   ],
   "source": [
    "class Project:\n",
    "    def __init__(self, name, start_date, end_date):\n",
    "        self.name = name\n",
    "        self.start_date = start_date\n",
    "        self.end_date = end_date\n",
    "        self.tasks = []\n",
    "\n",
    "    def add_task(self, task):\n",
    "        self.tasks.append(task)\n",
    "\n",
    "    def is_project_overdue(self):\n",
    "        return self.end_date < datetime.today()\n",
    "\n",
    "class Task:\n",
    "    def __init__(self, name, description, deadline):\n",
    "        self.name = name\n",
    "        self.description = description\n",
    "        self.deadline = deadline\n",
    "        self.status = \"In Progress\"\n",
    "\n",
    "    def mark_as_completed(self):\n",
    "        self.status = \"Completed\"\n",
    "\n",
    "from datetime import datetime\n",
    "\n",
    "# Contoh Penggunaan\n",
    "project1 = Project(\"Project X\", datetime(2023, 1, 1), datetime(2023, 12, 31))\n",
    "task1 = Task(\"Task 1\", \"Complete the analysis.\", datetime(2023, 4, 1))\n",
    "task2 = Task(\"Task 2\", \"Develop the prototype.\", datetime(2023, 8, 1))\n",
    "\n",
    "project1.add_task(task1)\n",
    "project1.add_task(task2)\n",
    "\n",
    "print(\"Proyek:\", project1.name)\n",
    "print(\"Daftar Tugas:\")\n",
    "for task in project1.tasks:\n",
    "    print(\"- Tugas:\", task.name)\n",
    "    print(\"  Status:\", task.status)\n",
    "print(\"Proyek Terlambat:\", project1.is_project_overdue())\n"
   ]
  },
  {
   "cell_type": "markdown",
   "id": "f3462d17",
   "metadata": {},
   "source": [
    "TaskBase, yang berisi atribut dan metode umum yang digunakan oleh kelas Task dan Project. Ini mengilustrasikan konsep pewarisan. Selain itu, Anda memiliki polimorfisme ketika memanggil metode mark_as_completed pada objek Task dan Project."
   ]
  },
  {
   "cell_type": "markdown",
   "id": "b3d72b83",
   "metadata": {},
   "source": [
    "# Advanced"
   ]
  },
  {
   "cell_type": "markdown",
   "id": "d4945024",
   "metadata": {},
   "source": [
    "Otomatisasi Model Basis Data dengan Metakelas dan Hubungan Entitas yang Rumit\n",
    "\n",
    "Tujuan: Menggunakan metakelas untuk otomatisasi model basis data dengan tambahan hubungan entitas seperti pengguna (User), produk (Product), dan pembelian (Purchase).\n",
    "Penjelasan: Dalam contoh ini, kita memperluas model basis data dengan menambahkan hubungan dan atribut tambahan antara entitas."
   ]
  },
  {
   "cell_type": "code",
   "execution_count": 5,
   "id": "6411e6cc",
   "metadata": {},
   "outputs": [
    {
     "name": "stdout",
     "output_type": "stream",
     "text": [
      "Data <__main__.User object at 0x7302447d3260> tersimpan di tabel user\n",
      "Data <__main__.Product object at 0x7302447d3350> tersimpan di tabel product\n",
      "Data <__main__.Purchase object at 0x7302447d3440> tersimpan di tabel purchase\n"
     ]
    }
   ],
   "source": [
    "class DatabaseModelMetaclass(type):\n",
    "    def __new__(cls, name, bases, attrs):\n",
    "        if name != 'BaseModel':\n",
    "            attrs['table_name'] = name.lower()\n",
    "        return super().__new__(cls, name, bases, attrs)\n",
    "\n",
    "class BaseModel(metaclass=DatabaseModelMetaclass):\n",
    "    def __init__(self, **kwargs):\n",
    "        for key, value in kwargs.items():\n",
    "            setattr(self, key, value)\n",
    "\n",
    "    def save(self):\n",
    "        # Simulasi penyimpanan data ke database\n",
    "        print(f\"Data {self} tersimpan di tabel {self.table_name}\")\n",
    "\n",
    "class User(BaseModel):\n",
    "    def __init__(self, username, email):\n",
    "        super().__init__(username=username, email=email)\n",
    "\n",
    "class Product(BaseModel):\n",
    "    def __init__(self, name, price):\n",
    "        super().__init__(name=name, price=price)\n",
    "\n",
    "class Purchase(BaseModel):\n",
    "    def __init__(self, user, product, quantity):\n",
    "        super().__init__(user=user, product=product, quantity=quantity)\n",
    "\n",
    "# Contoh Penggunaan\n",
    "user1 = User(\"alice\", \"alice@email.com\")\n",
    "product1 = Product(\"Product 1\", 100)\n",
    "purchase1 = Purchase(user1, product1, 3)\n",
    "\n",
    "user1.save()\n",
    "product1.save()\n",
    "purchase1.save()\n"
   ]
  },
  {
   "cell_type": "markdown",
   "id": "901fb10a",
   "metadata": {},
   "source": [
    "Manajemen Data Penjualan dengan Model Basis Data yang Melibatkan Riwayat\n",
    "\n",
    "Tujuan: Menggunakan model basis data untuk mengelola data penjualan yang mencakup riwayat pembelian oleh pengguna.\n",
    "Penjelasan: Dalam contoh ini, model basis data digunakan untuk melacak dan menampilkan riwayat pembelian oleh pengguna."
   ]
  },
  {
   "cell_type": "code",
   "execution_count": 6,
   "id": "267abf03",
   "metadata": {},
   "outputs": [
    {
     "name": "stdout",
     "output_type": "stream",
     "text": [
      "Riwayat Pembelian oleh alice:\n",
      "- Product 1 (3 pcs) pada 2023-03-15 00:00:00\n",
      "- Product 1 (2 pcs) pada 2023-04-20 00:00:00\n"
     ]
    }
   ],
   "source": [
    "from datetime import datetime\n",
    "\n",
    "class BaseModel:\n",
    "    data = []  # A list to simulate data storage\n",
    "\n",
    "    def __init__(self, **kwargs):\n",
    "        for key, value in kwargs.items():\n",
    "            setattr(self, key, value)\n",
    "\n",
    "    def save(self):\n",
    "        # Simulate saving data by appending it to the data list\n",
    "        self.__class__.data.append(self)\n",
    "\n",
    "    @classmethod\n",
    "    def filter(cls, **kwargs):\n",
    "        # Implement your data filtering logic here, for example:\n",
    "        filtered_data = []\n",
    "        for obj in cls.data:\n",
    "            matches_all = all(\n",
    "                hasattr(obj, key) and getattr(obj, key) == value for key, value in kwargs.items()\n",
    "            )\n",
    "            if matches_all:\n",
    "                filtered_data.append(obj)\n",
    "        return filtered_data\n",
    "\n",
    "class User(BaseModel):\n",
    "    def __init__(self, username, email):\n",
    "        super().__init__(username=username, email=email)\n",
    "\n",
    "class Product(BaseModel):\n",
    "    def __init__(self, name, price):\n",
    "        super().__init__(name=name, price=price)\n",
    "\n",
    "class Purchase(BaseModel):\n",
    "    def __init__(self, user, product, quantity, purchase_date):\n",
    "        super().__init__(user=user, product=product, quantity=quantity, purchase_date=purchase_date)\n",
    "\n",
    "# Contoh Penggunaan\n",
    "user1 = User(\"alice\", \"alice@email.com\")\n",
    "product1 = Product(\"Product 1\", 100)\n",
    "purchase1 = Purchase(user1, product1, 3, datetime(2023, 3, 15))\n",
    "purchase2 = Purchase(user1, product1, 2, datetime(2023, 4, 20))\n",
    "\n",
    "user1.save()\n",
    "product1.save()\n",
    "purchase1.save()\n",
    "purchase2.save()\n",
    "\n",
    "# Menampilkan Riwayat Pembelian\n",
    "print(f\"Riwayat Pembelian oleh {user1.username}:\")\n",
    "purchases_by_user1 = Purchase.filter(user=user1)\n",
    "for purchase in purchases_by_user1:\n",
    "    print(f\"- {purchase.product.name} ({purchase.quantity} pcs) pada {purchase.purchase_date}\")\n"
   ]
  }
 ],
 "metadata": {
  "kernelspec": {
   "display_name": "base",
   "language": "python",
   "name": "python3"
  },
  "language_info": {
   "codemirror_mode": {
    "name": "ipython",
    "version": 3
   },
   "file_extension": ".py",
   "mimetype": "text/x-python",
   "name": "python",
   "nbconvert_exporter": "python",
   "pygments_lexer": "ipython3",
   "version": "3.12.4"
  }
 },
 "nbformat": 4,
 "nbformat_minor": 5
}
