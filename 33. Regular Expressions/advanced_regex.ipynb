{
 "cells": [
  {
   "cell_type": "markdown",
   "id": "5930beb4",
   "metadata": {},
   "source": [
    "# Simple"
   ]
  },
  {
   "cell_type": "code",
   "execution_count": null,
   "id": "265280e5",
   "metadata": {},
   "outputs": [
    {
     "name": "stdout",
     "output_type": "stream",
     "text": [
      "Email valid.\n"
     ]
    }
   ],
   "source": [
    "# belajar Regex yang advanced\n",
    "\n",
    "import re\n",
    "\n",
    "email_pattern = r'^[\\w\\.-]+@[\\w\\.-]+\\.\\w+$'\n",
    "email = \"example@email.com\"\n",
    "\n",
    "if re.match(email_pattern, email):\n",
    "    print(\"Email valid.\")\n",
    "else:\n",
    "    print(\"Email tidak valid.\")\n"
   ]
  },
  {
   "cell_type": "markdown",
   "id": "dda47124",
   "metadata": {},
   "source": [
    "Penjelasan:\n",
    "\n",
    "Dalam contoh ini, kita menggunakan ekspresi reguler (email_pattern) yang mencocokkan alamat email dengan format yang benar.\n",
    "\n",
    "Ekspresi ini memeriksa karakter sebelum \"@\" dan setelahnya, serta domain.\n",
    "\n",
    "Jika alamat email cocok dengan pola ini, kita menyatakan bahwa email itu valid."
   ]
  },
  {
   "cell_type": "code",
   "execution_count": 2,
   "id": "23ed2902",
   "metadata": {},
   "outputs": [
    {
     "name": "stdout",
     "output_type": "stream",
     "text": [
      "Domain: rocketmail.com\n"
     ]
    }
   ],
   "source": [
    "import re\n",
    "\n",
    "email = \"example@rocketmail.com\"\n",
    "\n",
    "domain = re.search(r'@([\\w\\.-]+)', email).group(1)\n",
    "\n",
    "print(\"Domain:\", domain)\n"
   ]
  },
  {
   "cell_type": "markdown",
   "id": "8a9037d9",
   "metadata": {},
   "source": [
    "Penjelasan:\n",
    "\n",
    "Dalam contoh ini, kita menggunakan ekspresi reguler untuk mengekstraksi domain dari alamat email.\n",
    "Ekspresi ini mencari tanda \"@\" dan kemudian mengambil karakter setelahnya hingga karakter pemisah seperti \".\".\n",
    "Hasilnya adalah ekstraksi domain dari alamat email."
   ]
  },
  {
   "cell_type": "markdown",
   "id": "bab84145",
   "metadata": {},
   "source": [
    "# Intermediate"
   ]
  },
  {
   "cell_type": "code",
   "execution_count": 3,
   "id": "67655b82",
   "metadata": {},
   "outputs": [
    {
     "name": "stdout",
     "output_type": "stream",
     "text": [
      "Tautan: https://example.com\n",
      "Tautan: https://openai.com\n"
     ]
    }
   ],
   "source": [
    "import re\n",
    "\n",
    "html = \"\"\"\n",
    "<a href=\"https://example.com\">Link 1</a>\n",
    "<a href=\"https://openai.com\">Link 2</a>\n",
    "<p>Not a link</p>\n",
    "\"\"\"\n",
    "\n",
    "links = re.findall(r'href=[\"\\'](https?://\\S+)[\"\\']', html)\n",
    "\n",
    "for link in links:\n",
    "    print(\"Tautan:\", link)\n"
   ]
  },
  {
   "cell_type": "markdown",
   "id": "77026d28",
   "metadata": {},
   "source": [
    "Penjelasan:\n",
    "\n",
    "Dalam contoh ini, kita menggunakan re.findall untuk mengekstraksi semua tautan dari halaman HTML.\n",
    "\n",
    "Ekspresi reguler ini mencari tautan yang dimulai dengan \"http://\" atau \"https://\" dalam atribut href di elemen HTML."
   ]
  },
  {
   "cell_type": "code",
   "execution_count": 4,
   "id": "ce20e8b8",
   "metadata": {},
   "outputs": [
    {
     "name": "stdout",
     "output_type": "stream",
     "text": [
      "Tautan: https://example.com\n",
      "Tautan: https://openai.com\n"
     ]
    }
   ],
   "source": [
    "import re\n",
    "\n",
    "html = \"\"\"\n",
    "Visit our website at <a href=\"https://example.com\">Example</a>\n",
    "Click <a href=\"https://openai.com\">here</a> for more info.\n",
    "\"\"\"\n",
    "\n",
    "links = re.findall(r'<a [^>]*href=[\"\\'](https?://\\S+)[\"\\']', html)\n",
    "\n",
    "for link in links:\n",
    "    print(\"Tautan:\", link)\n"
   ]
  },
  {
   "cell_type": "markdown",
   "id": "9920b5e6",
   "metadata": {},
   "source": [
    "Penjelasan:\n",
    "\n",
    "Contoh ini menunjukkan cara mengekstraksi URL dari teks HTML yang mungkin memiliki lebih banyak atribut di dalam tag anchor (\\<a>\\).\n",
    "Ekspresi reguler ini mencocokkan tag anchor (\\<a>\\) yang memiliki atribut href dan mengekstraksi URL-nya."
   ]
  },
  {
   "cell_type": "markdown",
   "id": "3c092517",
   "metadata": {},
   "source": [
    "# Advanced"
   ]
  },
  {
   "cell_type": "code",
   "execution_count": 5,
   "id": "71e34722",
   "metadata": {},
   "outputs": [
    {
     "name": "stdout",
     "output_type": "stream",
     "text": [
      "Nomor Telepon '+1 123-456-7890' valid.\n",
      "Nomor Telepon '555-5555' tidak valid.\n",
      "Nomor Telepon '123.456.7890' tidak valid.\n",
      "Nomor Telepon '+44 20 7123 1234' valid.\n"
     ]
    }
   ],
   "source": [
    "import re\n",
    "\n",
    "phone_numbers = [\"+1 123-456-7890\", \"555-5555\", \"123.456.7890\", \"+44 20 7123 1234\"]\n",
    "\n",
    "phone_pattern = r'^\\+\\d{1,3}\\s?\\d{1,3}[-. ]\\d{1,4}[-. ]\\d{1,4}$'\n",
    "\n",
    "for phone in phone_numbers:\n",
    "    if re.match(phone_pattern, phone):\n",
    "        print(f\"Nomor Telepon '{phone}' valid.\")\n",
    "    else:\n",
    "        print(f\"Nomor Telepon '{phone}' tidak valid.\")\n"
   ]
  },
  {
   "cell_type": "markdown",
   "id": "832b1d43",
   "metadata": {},
   "source": [
    "Penjelasan:\n",
    "\n",
    "Dalam contoh ini, kita menggunakan ekspresi reguler (phone_pattern) untuk memvalidasi nomor telepon dengan berbagai format, termasuk kode internasional.\n",
    "\n",
    "Ekspresi ini memeriksa apakah nomor telepon cocok dengan pola yang ditentukan."
   ]
  },
  {
   "cell_type": "code",
   "execution_count": 6,
   "id": "94ff3750",
   "metadata": {},
   "outputs": [
    {
     "name": "stdout",
     "output_type": "stream",
     "text": [
      "Kode Area: 62\n"
     ]
    }
   ],
   "source": [
    "import re\n",
    "\n",
    "phone_number = \"+62 123-456-7890\"\n",
    "\n",
    "area_code = re.search(r'\\+(\\d{1,3})', phone_number).group(1)\n",
    "\n",
    "print(\"Kode Area:\", area_code)\n"
   ]
  }
 ],
 "metadata": {
  "kernelspec": {
   "display_name": "base",
   "language": "python",
   "name": "python3"
  },
  "language_info": {
   "codemirror_mode": {
    "name": "ipython",
    "version": 3
   },
   "file_extension": ".py",
   "mimetype": "text/x-python",
   "name": "python",
   "nbconvert_exporter": "python",
   "pygments_lexer": "ipython3",
   "version": "3.12.4"
  }
 },
 "nbformat": 4,
 "nbformat_minor": 5
}
