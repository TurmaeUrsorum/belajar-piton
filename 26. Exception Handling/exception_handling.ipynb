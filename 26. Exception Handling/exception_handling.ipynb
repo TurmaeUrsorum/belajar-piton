{
 "cells": [
  {
   "cell_type": "markdown",
   "id": "7edd7b7f",
   "metadata": {},
   "source": [
    "**Exception handling** di Python adalah cara untuk menangani **error** (pengecualian) yang terjadi saat program dijalankan, agar tidak langsung crash atau berhenti mendadak.\n",
    "\n",
    "---\n",
    "\n",
    "## 🧨 Apa Itu Exception?\n",
    "\n",
    "Exception adalah kondisi **tidak normal** saat program berjalan, contohnya:\n",
    "\n",
    "* File tidak ditemukan\n",
    "* Pembagian dengan nol\n",
    "* Akses ke index list yang tidak ada\n",
    "* Koneksi internet gagal\n",
    "\n",
    "Contoh tanpa penanganan:\n",
    "\n",
    "```python\n",
    "angka = int(\"abc\")  # Error: ValueError\n",
    "```\n",
    "\n",
    "Program akan berhenti dengan error seperti:\n",
    "\n",
    "```\n",
    "ValueError: invalid literal for int() with base 10: 'abc'\n",
    "```\n",
    "\n",
    "---\n",
    "\n",
    "## ✅ Cara Menangani: `try` - `except`\n",
    "\n",
    "```python\n",
    "try:\n",
    "    angka = int(\"abc\")\n",
    "except ValueError:\n",
    "    print(\"Input tidak valid!\")\n",
    "```\n",
    "\n",
    "Output:\n",
    "\n",
    "```\n",
    "Input tidak valid!\n",
    "```\n",
    "\n",
    "Program tetap jalan, tidak langsung berhenti.\n",
    "\n",
    "---\n",
    "\n",
    "## 🧩 Struktur Lengkap Exception Handling:\n",
    "\n",
    "```python\n",
    "try:\n",
    "    # kode yang mungkin error\n",
    "except JenisError:\n",
    "    # ditangani di sini\n",
    "else:\n",
    "    # dijalankan kalau TIDAK error\n",
    "finally:\n",
    "    # dijalankan SELALU, error atau tidak\n",
    "```\n",
    "\n",
    "Contoh:\n",
    "\n",
    "```python\n",
    "try:\n",
    "    x = 10 / 0\n",
    "except ZeroDivisionError:\n",
    "    print(\"Tidak bisa bagi dengan nol!\")\n",
    "else:\n",
    "    print(\"Berhasil dibagi\")\n",
    "finally:\n",
    "    print(\"Selesai\")\n",
    "```\n",
    "\n",
    "Output:\n",
    "\n",
    "```\n",
    "Tidak bisa bagi dengan nol!\n",
    "Selesai\n",
    "```\n",
    "\n",
    "---\n",
    "\n",
    "## 💡 Contoh Error Umum:\n",
    "\n",
    "| Error               | Kapan terjadi                            |\n",
    "| ------------------- | ---------------------------------------- |\n",
    "| `ValueError`        | Konversi tipe gagal (misal `int(\"abc\")`) |\n",
    "| `ZeroDivisionError` | Pembagian dengan nol                     |\n",
    "| `FileNotFoundError` | File tidak ditemukan                     |\n",
    "| `IndexError`        | Akses index list yang tidak ada          |\n",
    "| `TypeError`         | Operasi dengan tipe data salah           |\n",
    "\n",
    "---\n",
    "\n",
    "Kalau kamu ingin, aku bisa bantu bikin latihan soal exception handling juga.\n"
   ]
  },
  {
   "cell_type": "markdown",
   "id": "f1e1e10e",
   "metadata": {},
   "source": [
    "# Simple"
   ]
  },
  {
   "cell_type": "code",
   "execution_count": 1,
   "id": "33c5e9db",
   "metadata": {},
   "outputs": [
    {
     "name": "stdout",
     "output_type": "stream",
     "text": [
      "invalid input\n"
     ]
    }
   ],
   "source": [
    "try:\n",
    "    age = int(input(\"enter your age:\"))\n",
    "    print(\"you are {} years old\".format(age))\n",
    "except ValueError:\n",
    "    print(\"invalid input\")"
   ]
  },
  {
   "cell_type": "code",
   "execution_count": 1,
   "id": "9d1822de",
   "metadata": {},
   "outputs": [
    {
     "name": "stdout",
     "output_type": "stream",
     "text": [
      "file not found\n"
     ]
    }
   ],
   "source": [
    "try:\n",
    "    with open(\"non_existent_file.txt\", \"r\") as file:\n",
    "        content = file.read()\n",
    "        print(content)\n",
    "except FileNotFoundError:\n",
    "    print(\"file not found\")"
   ]
  },
  {
   "cell_type": "code",
   "execution_count": null,
   "id": "785a5d50",
   "metadata": {},
   "outputs": [
    {
     "name": "stdout",
     "output_type": "stream",
     "text": [
      "you entered:  hala bjir\n",
      "you entered:  padah bisa\n",
      "you entered:  cih \n",
      "you entered:  ayam lu tiga\n",
      "you entered:  alamak\n",
      "you entered:  \n",
      "you entered:  \n",
      "you entered:  \n",
      "you entered:  \n"
     ]
    }
   ],
   "source": [
    "try:\n",
    "    while True:\n",
    "        user_input = input(\"Press ctrl+c to stop: \")\n",
    "        print(\"you entered: \", user_input)\n",
    "except KeyboardInterrupt:\n",
    "    print(\"Progam stopped by user\")"
   ]
  },
  {
   "cell_type": "markdown",
   "id": "f964d274",
   "metadata": {},
   "source": [
    "# Intermediate"
   ]
  },
  {
   "cell_type": "code",
   "execution_count": 1,
   "id": "f2157014",
   "metadata": {},
   "outputs": [
    {
     "name": "stdout",
     "output_type": "stream",
     "text": [
      "Cannot divide by zero\n"
     ]
    }
   ],
   "source": [
    "def divide_numbers(a, b):\n",
    "    try:\n",
    "        result = a / b\n",
    "        return result\n",
    "    except ZeroDivisionError:\n",
    "        return \"Cannot divide by zero\"\n",
    "\n",
    "result = divide_numbers(10, 0)\n",
    "print(result)"
   ]
  },
  {
   "cell_type": "code",
   "execution_count": null,
   "id": "22dca495",
   "metadata": {},
   "outputs": [],
   "source": [
    "def read_file_content(filename):\n",
    "    try:\n",
    "        with open(filename, \"r\") as file:\n",
    "            content = file.read()\n",
    "            return content\n",
    "    except FileNotFoundError:\n",
    "        return \"File not found.\"\n",
    "\n",
    "content = read_file_content(\"non_existent_file.txt\")\n",
    "print(\"File Content:\", content)\n"
   ]
  }
 ],
 "metadata": {
  "kernelspec": {
   "display_name": "base",
   "language": "python",
   "name": "python3"
  },
  "language_info": {
   "codemirror_mode": {
    "name": "ipython",
    "version": 3
   },
   "file_extension": ".py",
   "mimetype": "text/x-python",
   "name": "python",
   "nbconvert_exporter": "python",
   "pygments_lexer": "ipython3",
   "version": "3.12.4"
  }
 },
 "nbformat": 4,
 "nbformat_minor": 5
}
