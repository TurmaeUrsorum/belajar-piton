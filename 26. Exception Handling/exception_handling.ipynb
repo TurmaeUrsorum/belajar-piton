{
 "cells": [
  {
   "cell_type": "markdown",
   "id": "7edd7b7f",
   "metadata": {},
   "source": [
    "**Exception handling** di Python adalah cara untuk menangani **error** (pengecualian) yang terjadi saat program dijalankan, agar tidak langsung crash atau berhenti mendadak.\n",
    "\n",
    "---\n",
    "\n",
    "## 🧨 Apa Itu Exception?\n",
    "\n",
    "Exception adalah kondisi **tidak normal** saat program berjalan, contohnya:\n",
    "\n",
    "* File tidak ditemukan\n",
    "* Pembagian dengan nol\n",
    "* Akses ke index list yang tidak ada\n",
    "* Koneksi internet gagal\n",
    "\n",
    "Contoh tanpa penanganan:\n",
    "\n",
    "```python\n",
    "angka = int(\"abc\")  # Error: ValueError\n",
    "```\n",
    "\n",
    "Program akan berhenti dengan error seperti:\n",
    "\n",
    "```\n",
    "ValueError: invalid literal for int() with base 10: 'abc'\n",
    "```\n",
    "\n",
    "---\n",
    "\n",
    "## ✅ Cara Menangani: `try` - `except`\n",
    "\n",
    "```python\n",
    "try:\n",
    "    angka = int(\"abc\")\n",
    "except ValueError:\n",
    "    print(\"Input tidak valid!\")\n",
    "```\n",
    "\n",
    "Output:\n",
    "\n",
    "```\n",
    "Input tidak valid!\n",
    "```\n",
    "\n",
    "Program tetap jalan, tidak langsung berhenti.\n",
    "\n",
    "---\n",
    "\n",
    "## 🧩 Struktur Lengkap Exception Handling:\n",
    "\n",
    "```python\n",
    "try:\n",
    "    # kode yang mungkin error\n",
    "except JenisError:\n",
    "    # ditangani di sini\n",
    "else:\n",
    "    # dijalankan kalau TIDAK error\n",
    "finally:\n",
    "    # dijalankan SELALU, error atau tidak\n",
    "```\n",
    "\n",
    "Contoh:\n",
    "\n",
    "```python\n",
    "try:\n",
    "    x = 10 / 0\n",
    "except ZeroDivisionError:\n",
    "    print(\"Tidak bisa bagi dengan nol!\")\n",
    "else:\n",
    "    print(\"Berhasil dibagi\")\n",
    "finally:\n",
    "    print(\"Selesai\")\n",
    "```\n",
    "\n",
    "Output:\n",
    "\n",
    "```\n",
    "Tidak bisa bagi dengan nol!\n",
    "Selesai\n",
    "```\n",
    "\n",
    "---\n",
    "\n",
    "## 💡 Contoh Error Umum:\n",
    "\n",
    "| Error               | Kapan terjadi                            |\n",
    "| ------------------- | ---------------------------------------- |\n",
    "| `ValueError`        | Konversi tipe gagal (misal `int(\"abc\")`) |\n",
    "| `ZeroDivisionError` | Pembagian dengan nol                     |\n",
    "| `FileNotFoundError` | File tidak ditemukan                     |\n",
    "| `IndexError`        | Akses index list yang tidak ada          |\n",
    "| `TypeError`         | Operasi dengan tipe data salah           |\n",
    "\n",
    "---\n",
    "\n",
    "Kalau kamu ingin, aku bisa bantu bikin latihan soal exception handling juga.\n"
   ]
  },
  {
   "cell_type": "markdown",
   "id": "f1e1e10e",
   "metadata": {},
   "source": [
    "# Simple"
   ]
  },
  {
   "cell_type": "code",
   "execution_count": 1,
   "id": "33c5e9db",
   "metadata": {},
   "outputs": [
    {
     "name": "stdout",
     "output_type": "stream",
     "text": [
      "invalid input\n"
     ]
    }
   ],
   "source": [
    "try:\n",
    "    age = int(input(\"enter your age:\"))\n",
    "    print(\"you are {} years old\".format(age))\n",
    "except ValueError:\n",
    "    print(\"invalid input\")"
   ]
  },
  {
   "cell_type": "code",
   "execution_count": 1,
   "id": "9d1822de",
   "metadata": {},
   "outputs": [
    {
     "name": "stdout",
     "output_type": "stream",
     "text": [
      "file not found\n"
     ]
    }
   ],
   "source": [
    "try:\n",
    "    with open(\"non_existent_file.txt\", \"r\") as file:\n",
    "        content = file.read()\n",
    "        print(content)\n",
    "except FileNotFoundError:\n",
    "    print(\"file not found\")"
   ]
  },
  {
   "cell_type": "code",
   "execution_count": null,
   "id": "785a5d50",
   "metadata": {},
   "outputs": [
    {
     "name": "stdout",
     "output_type": "stream",
     "text": [
      "you entered:  hala bjir\n",
      "you entered:  padah bisa\n",
      "you entered:  cih \n",
      "you entered:  ayam lu tiga\n",
      "you entered:  alamak\n",
      "you entered:  \n",
      "you entered:  \n",
      "you entered:  \n",
      "you entered:  \n"
     ]
    }
   ],
   "source": [
    "try:\n",
    "    while True:\n",
    "        user_input = input(\"Press ctrl+c to stop: \")\n",
    "        print(\"you entered: \", user_input)\n",
    "except KeyboardInterrupt:\n",
    "    print(\"Progam stopped by user\")"
   ]
  },
  {
   "cell_type": "markdown",
   "id": "f964d274",
   "metadata": {},
   "source": [
    "# Intermediate"
   ]
  },
  {
   "cell_type": "code",
   "execution_count": 1,
   "id": "f2157014",
   "metadata": {},
   "outputs": [
    {
     "name": "stdout",
     "output_type": "stream",
     "text": [
      "Cannot divide by zero\n"
     ]
    }
   ],
   "source": [
    "def divide_numbers(a, b):\n",
    "    try:\n",
    "        result = a / b\n",
    "        return result\n",
    "    except ZeroDivisionError:\n",
    "        return \"Cannot divide by zero\"\n",
    "\n",
    "result = divide_numbers(10, 0)\n",
    "print(result)"
   ]
  },
  {
   "cell_type": "code",
   "execution_count": 2,
   "id": "22dca495",
   "metadata": {},
   "outputs": [
    {
     "name": "stdout",
     "output_type": "stream",
     "text": [
      "File Content: File not found.\n"
     ]
    }
   ],
   "source": [
    "def read_file_content(filename):\n",
    "    try:\n",
    "        with open(filename, \"r\") as file:\n",
    "            content = file.read()\n",
    "            return content\n",
    "    except FileNotFoundError:\n",
    "        return \"File not found.\"\n",
    "\n",
    "content = read_file_content(\"non_existent_file.txt\")\n",
    "print(\"File Content:\", content)\n"
   ]
  },
  {
   "cell_type": "code",
   "execution_count": 3,
   "id": "c1c3872e",
   "metadata": {},
   "outputs": [
    {
     "name": "stdout",
     "output_type": "stream",
     "text": [
      "Invalid input. Enter a valid number.\n"
     ]
    }
   ],
   "source": [
    "try:\n",
    "    num = int(input(\"Enter a number: \"))\n",
    "    result = 10 / num\n",
    "    print(\"Result:\", result)\n",
    "except ValueError:\n",
    "    print(\"Invalid input. Enter a valid number.\")\n",
    "except ZeroDivisionError:\n",
    "    print(\"Division by zero is not allowed.\")\n"
   ]
  },
  {
   "cell_type": "markdown",
   "id": "2abd1cd2",
   "metadata": {},
   "source": [
    "# Advanced"
   ]
  },
  {
   "cell_type": "code",
   "execution_count": 4,
   "id": "33b0d199",
   "metadata": {},
   "outputs": [
    {
     "name": "stdout",
     "output_type": "stream",
     "text": [
      "Data: File not found.\n"
     ]
    }
   ],
   "source": [
    "import json\n",
    "\n",
    "\n",
    "# [\n",
    "# \t{\n",
    "# \t\t\"name\": \"Laura Harper\",\n",
    "# \t\t\"equip_id\" \"309\"\n",
    "# \t}\n",
    "# ]\n",
    "\n",
    "def read_json_file(filename):\n",
    "    try:\n",
    "        with open(filename, \"r\") as file:\n",
    "            data = json.load(file)\n",
    "            return data\n",
    "    except FileNotFoundError:\n",
    "        return \"File not found.\"\n",
    "    except json.JSONDecodeError as e:\n",
    "        return f\"JSON decoding error: {str(e)}\"\n",
    "\n",
    "filename = \"invalid_data.json\"\n",
    "result = read_json_file(filename)\n",
    "print(\"Data:\", result)\n"
   ]
  },
  {
   "cell_type": "code",
   "execution_count": 5,
   "id": "74ce00d9",
   "metadata": {},
   "outputs": [
    {
     "name": "stdout",
     "output_type": "stream",
     "text": [
      "Custom Exception: Age cannot be negative.\n"
     ]
    }
   ],
   "source": [
    "class CustomException(Exception):\n",
    "    def __init__(self, message):\n",
    "        super().__init__(message)\n",
    "\n",
    "try:\n",
    "    age = int(input(\"Enter your age: \"))\n",
    "    if age < 0:\n",
    "        raise CustomException(\"Age cannot be negative.\")\n",
    "    print(\"You are {} years old.\".format(age))\n",
    "except ValueError:\n",
    "    print(\"Invalid input. Please enter a valid integer for your age.\")\n",
    "except CustomException as ce:\n",
    "    print(\"Custom Exception:\", ce)\n"
   ]
  },
  {
   "cell_type": "markdown",
   "id": "de2e6709",
   "metadata": {},
   "source": []
  }
 ],
 "metadata": {
  "kernelspec": {
   "display_name": "base",
   "language": "python",
   "name": "python3"
  },
  "language_info": {
   "codemirror_mode": {
    "name": "ipython",
    "version": 3
   },
   "file_extension": ".py",
   "mimetype": "text/x-python",
   "name": "python",
   "nbconvert_exporter": "python",
   "pygments_lexer": "ipython3",
   "version": "3.12.4"
  }
 },
 "nbformat": 4,
 "nbformat_minor": 5
}
