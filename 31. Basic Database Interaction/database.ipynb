{
 "cells": [
  {
   "cell_type": "markdown",
   "id": "ddd98ea0",
   "metadata": {},
   "source": [
    "# Simple"
   ]
  },
  {
   "cell_type": "code",
   "execution_count": 1,
   "id": "e31024e1",
   "metadata": {},
   "outputs": [],
   "source": [
    "import sqlite3\n",
    "\n",
    "conn = sqlite3.connect(\"mydatabase.db\")\n",
    "\n",
    "cursor = conn.cursor()\n",
    "\n",
    "conn.close()"
   ]
  },
  {
   "cell_type": "markdown",
   "id": "4f47f041",
   "metadata": {},
   "source": [
    "Penjelasan:\n",
    "\n",
    "Dalam contoh ini, kita menggunakan modul sqlite3 untuk terhubung ke basis data SQLite.\n",
    "\n",
    "Koneksi dibuka ke database, dan sebuah kursor dibuat untuk menjalankan perintah SQL.\n",
    "\n",
    "Setelah operasi selesai, koneksi ditutup."
   ]
  },
  {
   "cell_type": "markdown",
   "id": "3b87cf74",
   "metadata": {},
   "source": []
  }
 ],
 "metadata": {
  "kernelspec": {
   "display_name": "base",
   "language": "python",
   "name": "python3"
  },
  "language_info": {
   "codemirror_mode": {
    "name": "ipython",
    "version": 3
   },
   "file_extension": ".py",
   "mimetype": "text/x-python",
   "name": "python",
   "nbconvert_exporter": "python",
   "pygments_lexer": "ipython3",
   "version": "3.12.4"
  }
 },
 "nbformat": 4,
 "nbformat_minor": 5
}
