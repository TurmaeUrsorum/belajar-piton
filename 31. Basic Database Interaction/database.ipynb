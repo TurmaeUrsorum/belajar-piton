{
 "cells": [
  {
   "cell_type": "markdown",
   "id": "ddd98ea0",
   "metadata": {},
   "source": [
    "# Simple"
   ]
  },
  {
   "cell_type": "code",
   "execution_count": 1,
   "id": "e31024e1",
   "metadata": {},
   "outputs": [],
   "source": [
    "import sqlite3\n",
    "\n",
    "conn = sqlite3.connect(\"mydatabase.db\")\n",
    "\n",
    "cursor = conn.cursor()\n",
    "\n",
    "conn.close()"
   ]
  },
  {
   "cell_type": "markdown",
   "id": "4f47f041",
   "metadata": {},
   "source": [
    "Penjelasan:\n",
    "\n",
    "Dalam contoh ini, kita menggunakan modul sqlite3 untuk terhubung ke basis data SQLite.\n",
    "\n",
    "Koneksi dibuka ke database, dan sebuah kursor dibuat untuk menjalankan perintah SQL.\n",
    "\n",
    "Setelah operasi selesai, koneksi ditutup."
   ]
  },
  {
   "cell_type": "code",
   "execution_count": 4,
   "id": "8ba3fdb9",
   "metadata": {},
   "outputs": [],
   "source": [
    "import sqlite3\n",
    "\n",
    "conn = sqlite3.connect(\"mydatabase.db\")\n",
    "cursor = conn.cursor()\n",
    "\n",
    "cursor.execute('''CREATE TABLE mahasewa (nama TEXT, usia INT)''')\n",
    "\n",
    "data_mahasiswa = [\n",
    "    ('Alice', 25),\n",
    "    ('Bob', 22),\n",
    "    ('Charlie', 28),\n",
    "    ('David', 21),\n",
    "    ('Eve', 23),\n",
    "    ('Frank', 26),\n",
    "    ('Grace', 24),\n",
    "    ('Hannah', 27),\n",
    "    ('Isaac', 22),\n",
    "    ('Jack', 30)\n",
    "]\n",
    "\n",
    "cursor.executemany(\"INSERT INTO mahasewa (nama, usia) VALUES (?, ?)\", data_mahasiswa)\n",
    "\n",
    "conn.commit()"
   ]
  },
  {
   "cell_type": "markdown",
   "id": "2f41356b",
   "metadata": {},
   "source": [
    "Penjelasan:\n",
    "\n",
    "Dalam contoh ini, kita membuat tabel dalam basis data SQLite ('mahasiswa') dan memasukkan beberapa data ke dalamnya.\n",
    "Data mahasiswa disisipkan menggunakan executemany, yang memungkinkan kita untuk menyisipkan beberapa baris data sekaligus.\n",
    "Setelah operasi selesai, perubahan dicommit dan koneksi ditutup."
   ]
  },
  {
   "cell_type": "markdown",
   "id": "86a7bdf0",
   "metadata": {},
   "source": [
    "# Intermediate"
   ]
  },
  {
   "cell_type": "code",
   "execution_count": 8,
   "id": "2b603c54",
   "metadata": {},
   "outputs": [
    {
     "name": "stdout",
     "output_type": "stream",
     "text": [
      "Nama: Alice\n",
      "Usia: 25\n"
     ]
    }
   ],
   "source": [
    "import sqlite3\n",
    "\n",
    "# conn = sqlite3.connect('mydatabase.db')\n",
    "# cursor = conn.cursor()\n",
    "\n",
    "# Meminta input pengguna\n",
    "nama = input(\"Masukkan nama: \")\n",
    "\n",
    "# Menjalankan perintah SQL\n",
    "cursor.execute(f\"SELECT * FROM mahasewa WHERE nama = '{nama}'\")\n",
    "\n",
    "# Mengambil data\n",
    "data = cursor.fetchall()\n",
    "\n",
    "if data:\n",
    "    for row in data:\n",
    "        print(\"Nama:\", row[0])\n",
    "        print(\"Usia:\", row[1])\n",
    "else:\n",
    "    print(\"Data tidak ditemukan.\")\n",
    "\n",
    "# conn.close()\n"
   ]
  },
  {
   "cell_type": "markdown",
   "id": "11f104a8",
   "metadata": {},
   "source": [
    "# Advanced"
   ]
  },
  {
   "cell_type": "code",
   "execution_count": 9,
   "id": "a3864777",
   "metadata": {},
   "outputs": [
    {
     "ename": "OperationalError",
     "evalue": "no such table: mata_kuliah",
     "output_type": "error",
     "traceback": [
      "\u001b[0;31m---------------------------------------------------------------------------\u001b[0m",
      "\u001b[0;31mOperationalError\u001b[0m                          Traceback (most recent call last)",
      "Cell \u001b[0;32mIn[9], line 7\u001b[0m\n\u001b[1;32m      4\u001b[0m cursor \u001b[38;5;241m=\u001b[39m conn\u001b[38;5;241m.\u001b[39mcursor()\n\u001b[1;32m      6\u001b[0m \u001b[38;5;66;03m# Menjalankan kueri gabungan\u001b[39;00m\n\u001b[0;32m----> 7\u001b[0m cursor\u001b[38;5;241m.\u001b[39mexecute(\u001b[38;5;124m\"\"\"\u001b[39m\u001b[38;5;124mSELECT mahasewa.nama, mata_kuliah.kode\u001b[39m\n\u001b[1;32m      8\u001b[0m \u001b[38;5;124m                FROM mahasewa\u001b[39m\n\u001b[1;32m      9\u001b[0m \u001b[38;5;124m                JOIN mata_kuliah\u001b[39m\n\u001b[1;32m     10\u001b[0m \u001b[38;5;124m                ON mahasewa.id = mata_kuliah.mahasewa_id\u001b[39m\u001b[38;5;124m\"\"\"\u001b[39m)\n\u001b[1;32m     12\u001b[0m data \u001b[38;5;241m=\u001b[39m cursor\u001b[38;5;241m.\u001b[39mfetchall()\n\u001b[1;32m     14\u001b[0m \u001b[38;5;28;01mfor\u001b[39;00m row \u001b[38;5;129;01min\u001b[39;00m data:\n",
      "\u001b[0;31mOperationalError\u001b[0m: no such table: mata_kuliah"
     ]
    }
   ],
   "source": [
    "import sqlite3\n",
    "\n",
    "conn = sqlite3.connect('mydatabase.db')\n",
    "cursor = conn.cursor()\n",
    "\n",
    "# Menjalankan kueri gabungan\n",
    "cursor.execute(\"\"\"SELECT mahasewa.nama, mata_kuliah.kode\n",
    "                FROM mahasewa\n",
    "                JOIN mata_kuliah\n",
    "                ON mahasewa.id = mata_kuliah.mahasewa_id\"\"\")\n",
    "\n",
    "data = cursor.fetchall()\n",
    "\n",
    "for row in data:\n",
    "    print(\"Nama Mahasiswa:\", row[0])\n",
    "    print(\"Kode Mata Kuliah:\", row[1])\n",
    "\n",
    "conn.close()\n"
   ]
  },
  {
   "cell_type": "code",
   "execution_count": 10,
   "id": "e16c7468",
   "metadata": {},
   "outputs": [],
   "source": [
    "import sqlite3\n",
    "import csv\n",
    "\n",
    "# conn = sqlite3.connect('mydatabase.db')\n",
    "# cursor = conn.cursor()\n",
    "\n",
    "# Menjalankan kueri\n",
    "cursor.execute(\"SELECT * FROM mahasewa\")\n",
    "\n",
    "data = cursor.fetchall()\n",
    "\n",
    "with open('output.csv', 'w', newline='') as csv_file:\n",
    "    csv_writer = csv.writer(csv_file)\n",
    "\n",
    "    # Menulis header\n",
    "    csv_writer.writerow([i[0] for i in cursor.description])\n",
    "\n",
    "    # Menulis data\n",
    "    csv_writer.writerows(data)\n",
    "\n",
    "conn.close()\n"
   ]
  }
 ],
 "metadata": {
  "kernelspec": {
   "display_name": "base",
   "language": "python",
   "name": "python3"
  },
  "language_info": {
   "codemirror_mode": {
    "name": "ipython",
    "version": 3
   },
   "file_extension": ".py",
   "mimetype": "text/x-python",
   "name": "python",
   "nbconvert_exporter": "python",
   "pygments_lexer": "ipython3",
   "version": "3.12.4"
  }
 },
 "nbformat": 4,
 "nbformat_minor": 5
}
