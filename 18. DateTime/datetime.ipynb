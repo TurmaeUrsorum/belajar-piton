{
 "cells": [
  {
   "cell_type": "markdown",
   "id": "61c6c6f1",
   "metadata": {},
   "source": [
    "# Datetime\n",
    "\n",
    "### 🕒 Apa itu `datetime` di Python?\n",
    "\n",
    "`datetime` adalah **modul bawaan di Python** yang digunakan untuk **bekerja dengan tanggal dan waktu**.\n",
    "\n",
    "Modul ini sangat berguna kalau kamu ingin:\n",
    "\n",
    "* Mengambil tanggal dan waktu saat ini.\n",
    "* Menghitung selisih hari, jam, atau menit.\n",
    "* Mengubah format tanggal (parsing dan formatting).\n",
    "* Menjadwalkan sesuatu atau memfilter data berdasarkan waktu.\n",
    "\n",
    "---\n",
    "\n",
    "### 📦 Cara Import:\n",
    "\n",
    "```python\n",
    "import datetime\n",
    "```\n",
    "\n",
    "---\n",
    "\n",
    "### 🔹 Objek Utama dalam `datetime`:\n",
    "\n",
    "| Objek       | Kegunaan                               |\n",
    "| ----------- | -------------------------------------- |\n",
    "| `datetime`  | Gabungan tanggal dan waktu (full info) |\n",
    "| `date`      | Hanya tanggal (tahun, bulan, hari)     |\n",
    "| `time`      | Hanya waktu (jam, menit, detik, dsb)   |\n",
    "| `timedelta` | Selisih waktu antara dua `datetime`    |\n",
    "\n",
    "---\n",
    "\n",
    "### 🔍 Contoh Penggunaan:\n",
    "\n",
    "#### 🔸 Ambil waktu sekarang:\n",
    "\n",
    "```python\n",
    "import datetime\n",
    "\n",
    "sekarang = datetime.datetime.now()\n",
    "print(sekarang)\n",
    "# Output: 2025-05-24 14:35:22.123456 (misalnya)\n",
    "```\n",
    "\n",
    "#### 🔸 Ambil hanya tanggal hari ini:\n",
    "\n",
    "```python\n",
    "hari_ini = datetime.date.today()\n",
    "print(hari_ini)\n",
    "# Output: 2025-05-24\n",
    "```\n",
    "\n",
    "#### 🔸 Buat tanggal sendiri:\n",
    "\n",
    "```python\n",
    "tgl = datetime.date(2023, 12, 31)\n",
    "print(tgl)\n",
    "# Output: 2023-12-31\n",
    "```\n",
    "\n",
    "#### 🔸 Hitung selisih tanggal:\n",
    "\n",
    "```python\n",
    "tgl1 = datetime.date(2025, 5, 24)\n",
    "tgl2 = datetime.date(2025, 6, 1)\n",
    "\n",
    "selisih = tgl2 - tgl1\n",
    "print(selisih.days)\n",
    "# Output: 8\n",
    "```\n",
    "\n",
    "#### 🔸 Format tanggal → string:\n",
    "\n",
    "```python\n",
    "sekarang = datetime.datetime.now()\n",
    "print(sekarang.strftime(\"%d-%m-%Y %H:%M\"))\n",
    "# Output: 24-05-2025 14:35\n",
    "```\n",
    "\n",
    "#### 🔸 String → Tanggal:\n",
    "\n",
    "```python\n",
    "dt_str = \"24-05-2025 14:35\"\n",
    "dt = datetime.datetime.strptime(dt_str, \"%d-%m-%Y %H:%M\")\n",
    "print(dt)\n",
    "```\n",
    "\n",
    "---\n",
    "\n",
    "### 📌 Format Populer:\n",
    "\n",
    "| Format Kode | Arti          | Contoh |\n",
    "| ----------- | ------------- | ------ |\n",
    "| `%Y`        | Tahun 4 digit | 2025   |\n",
    "| `%m`        | Bulan 2 digit | 05     |\n",
    "| `%d`        | Hari 2 digit  | 24     |\n",
    "| `%H`        | Jam (24 jam)  | 14     |\n",
    "| `%M`        | Menit         | 35     |\n",
    "| `%S`        | Detik         | 09     |\n",
    "\n",
    "---\n",
    "\n",
    "checkpoint: pandas datetime\n"
   ]
  },
  {
   "cell_type": "code",
   "execution_count": 1,
   "id": "5be5eab7",
   "metadata": {},
   "outputs": [],
   "source": [
    "import datetime as dt \n",
    "\n",
    "tanggal_ultah = dt.datetime(2022, 10, 15)"
   ]
  },
  {
   "cell_type": "code",
   "execution_count": 6,
   "id": "e6be1526",
   "metadata": {},
   "outputs": [
    {
     "data": {
      "text/plain": [
       "datetime.datetime(2020, 12, 15, 0, 0)"
      ]
     },
     "execution_count": 6,
     "metadata": {},
     "output_type": "execute_result"
    }
   ],
   "source": [
    "dt.datetime(year=2020, month=12, day=15)"
   ]
  },
  {
   "cell_type": "code",
   "execution_count": null,
   "id": "359988ab",
   "metadata": {},
   "outputs": [
    {
     "name": "stdout",
     "output_type": "stream",
     "text": [
      "15 Oct 2022\n"
     ]
    }
   ],
   "source": [
    "string_date = tanggal_ultah.strftime(\"%d %b %Y\")\n",
    "print(string_date)"
   ]
  },
  {
   "cell_type": "markdown",
   "id": "dd66de99",
   "metadata": {},
   "source": [
    "Kode ini:\n",
    "\n",
    "```python\n",
    "string_date = tanggal_ultah.strftime(\"%d %b %Y\")\n",
    "```\n",
    "\n",
    "artinya kamu **mengubah objek tanggal `tanggal_ultah` menjadi sebuah string** dengan format tertentu menggunakan metode `.strftime()`.\n",
    "\n",
    "---\n",
    "\n",
    "### Penjelasan detail:\n",
    "\n",
    "* `tanggal_ultah` adalah sebuah objek `datetime` atau `date`.\n",
    "* `.strftime()` adalah metode untuk **formatting tanggal** menjadi string sesuai pola yang kamu tentukan.\n",
    "* Format `\"%d %b %Y\"` artinya:\n",
    "\n",
    "| Kode | Penjelasan           | Contoh Output                      |\n",
    "| ---- | -------------------- | ---------------------------------- |\n",
    "| `%d` | Hari dalam dua digit | `24`                               |\n",
    "| `%b` | Nama bulan singkat   | `May` atau `Mei` tergantung locale |\n",
    "| `%Y` | Tahun empat digit    | `2025`                             |\n",
    "\n",
    "---\n",
    "\n",
    "### Contoh:\n",
    "\n",
    "Kalau `tanggal_ultah` adalah tanggal 24 Mei 2025, maka\n",
    "\n",
    "```python\n",
    "string_date = tanggal_ultah.strftime(\"%d %b %Y\")\n",
    "print(string_date)\n",
    "```\n",
    "\n",
    "akan menghasilkan:\n",
    "\n",
    "```\n",
    "24 May 2025\n",
    "```\n",
    "\n",
    "---\n",
    "\n",
    "### Kesimpulan:\n",
    "\n",
    "Kode ini **mengubah tanggal jadi string** yang lebih mudah dibaca atau disimpan dalam format teks, misalnya untuk ditampilkan ke user atau disimpan ke file.\n"
   ]
  },
  {
   "cell_type": "code",
   "execution_count": 7,
   "id": "1b4e09a2",
   "metadata": {},
   "outputs": [
    {
     "data": {
      "text/plain": [
       "datetime.datetime(2022, 10, 15, 0, 0)"
      ]
     },
     "execution_count": 7,
     "metadata": {},
     "output_type": "execute_result"
    }
   ],
   "source": [
    "dt.datetime.strptime(string_date, \"%d %b %Y\")"
   ]
  },
  {
   "cell_type": "markdown",
   "id": "6b772ad0",
   "metadata": {},
   "source": [
    "Kode ini:\n",
    "\n",
    "```python\n",
    "dt.datetime.strptime(string_date, \"%d %b %Y\")\n",
    "```\n",
    "\n",
    "berfungsi untuk **mengubah string `string_date` yang berisi tanggal dalam format tertentu menjadi objek `datetime` Python**.\n",
    "\n",
    "---\n",
    "\n",
    "### Penjelasan detail:\n",
    "\n",
    "* `string_date` adalah sebuah string yang berisi tanggal, misalnya `\"24 May 2025\"`.\n",
    "* `dt.datetime.strptime()` adalah metode yang mem-parsing (membaca) string tanggal dan mengubahnya menjadi objek `datetime`.\n",
    "* Format `\"%d %b %Y\"` memberi tahu Python **format string tanggal tersebut**, supaya bisa dikenali dengan benar:\n",
    "\n",
    "  * `%d` = hari (2 digit)\n",
    "  * `%b` = nama bulan singkat (Misal: Jan, Feb, Mar, ..., May)\n",
    "  * `%Y` = tahun 4 digit\n",
    "\n",
    "---\n",
    "\n",
    "### Contoh:\n",
    "\n",
    "```python\n",
    "import datetime as dt\n",
    "\n",
    "string_date = \"24 May 2025\"\n",
    "obj_tanggal = dt.datetime.strptime(string_date, \"%d %b %Y\")\n",
    "print(obj_tanggal)\n",
    "```\n",
    "\n",
    "Outputnya:\n",
    "\n",
    "```\n",
    "2025-05-24 00:00:00\n",
    "```\n",
    "\n",
    "Objek `obj_tanggal` sekarang sudah berupa objek `datetime` yang bisa kamu pakai untuk operasi tanggal seperti perhitungan, formatting ulang, dll.\n",
    "\n",
    "---\n",
    "\n",
    "### Kesimpulan:\n",
    "\n",
    "Kode ini **membaca string tanggal dan mengubahnya menjadi tipe data `datetime`** agar bisa diproses lebih lanjut oleh Python.\n"
   ]
  },
  {
   "cell_type": "code",
   "execution_count": 8,
   "id": "4cc3b543",
   "metadata": {},
   "outputs": [],
   "source": [
    "from datetime import datetime, timedelta"
   ]
  },
  {
   "cell_type": "code",
   "execution_count": 10,
   "id": "fee76be2",
   "metadata": {},
   "outputs": [
    {
     "data": {
      "text/plain": [
       "datetime.datetime(2025, 5, 26, 10, 58, 36, 494164)"
      ]
     },
     "execution_count": 10,
     "metadata": {},
     "output_type": "execute_result"
    }
   ],
   "source": [
    "datetime.today()"
   ]
  },
  {
   "cell_type": "code",
   "execution_count": 9,
   "id": "0369eb0b",
   "metadata": {},
   "outputs": [
    {
     "data": {
      "text/plain": [
       "datetime.datetime(2025, 6, 5, 10, 56, 33, 466477)"
      ]
     },
     "execution_count": 9,
     "metadata": {},
     "output_type": "execute_result"
    }
   ],
   "source": [
    "datetime.today() + timedelta(days = 10)"
   ]
  },
  {
   "cell_type": "markdown",
   "id": "fbeaeb77",
   "metadata": {},
   "source": [
    "Kode berikut:\n",
    "\n",
    "```python\n",
    "datetime.today() + timedelta(days=10)\n",
    "```\n",
    "\n",
    "berarti:\n",
    "➡️ **Ambil tanggal hari ini, lalu tambahkan 10 hari ke depan.**\n",
    "\n",
    "---\n",
    "\n",
    "### Penjelasan detail:\n",
    "\n",
    "* `datetime.today()`\n",
    "  → Mengambil **tanggal dan waktu saat ini** (sekarang).\n",
    "\n",
    "* `timedelta(days=10)`\n",
    "  → Membuat objek **selisih waktu** selama 10 hari.\n",
    "\n",
    "* `+`\n",
    "  → Menambahkan selisih waktu tersebut ke tanggal hari ini.\n",
    "\n",
    "---\n",
    "\n",
    "### Contoh hasil:\n",
    "\n",
    "Misalnya hari ini adalah **24 Mei 2025**, maka:\n",
    "\n",
    "```python\n",
    "from datetime import datetime, timedelta\n",
    "\n",
    "hasil = datetime.today() + timedelta(days=10)\n",
    "print(hasil)\n",
    "```\n",
    "\n",
    "Output:\n",
    "\n",
    "```\n",
    "2025-06-03 14:35:00.123456  # (jam tergantung saat dieksekusi)\n",
    "```\n",
    "\n",
    "---\n",
    "\n",
    "### Gunanya?\n",
    "\n",
    "* Menentukan **tanggal jatuh tempo** (misal: 10 hari lagi).\n",
    "* Membuat **pengingat atau deadline**.\n",
    "* Menjadwalkan sesuatu di masa depan.\n",
    "\n",
    "---\n",
    "\n",
    "### Bonus: Kalau cuma ingin tanggal saja (tanpa jam):\n",
    "\n",
    "```python\n",
    "hasil = (datetime.today() + timedelta(days=10)).date()\n",
    "print(hasil)  # Output: 2025-06-03\n",
    "```\n",
    "\n",
    "---"
   ]
  },
  {
   "cell_type": "code",
   "execution_count": 8,
   "id": "ab84ae70",
   "metadata": {},
   "outputs": [],
   "source": [
    "from dateutil.relativedelta import relativedelta"
   ]
  },
  {
   "cell_type": "code",
   "execution_count": 9,
   "id": "3415f742",
   "metadata": {},
   "outputs": [
    {
     "data": {
      "text/plain": [
       "relativedelta(days=-1, seconds=-1, microseconds=+999983)"
      ]
     },
     "execution_count": 9,
     "metadata": {},
     "output_type": "execute_result"
    }
   ],
   "source": [
    "relativedelta(datetime.today(), datetime.today() + relativedelta(days = 1))"
   ]
  },
  {
   "cell_type": "markdown",
   "id": "ea5e76ce",
   "metadata": {},
   "source": [
    "Kode ini:\n",
    "\n",
    "```python\n",
    "relativedelta(datetime.today(), datetime.today() + relativedelta(days=1))\n",
    "```\n",
    "\n",
    "secara umum berarti:\n",
    "➡️ **Hitung selisih antara hari ini dan besok, menggunakan `relativedelta` dari library `dateutil`.**\n",
    "\n",
    "---\n",
    "\n",
    "### 🧠 Penjelasan Langkah per Langkah:\n",
    "\n",
    "Pertama, kita perlu tahu bahwa `relativedelta` berasal dari modul `dateutil.relativedelta` dan digunakan untuk menghitung selisih tanggal **dengan cara yang lebih fleksibel** daripada `timedelta`.\n",
    "\n",
    "---\n",
    "\n",
    "### 🔍 Rinciannya:\n",
    "\n",
    "```python\n",
    "from datetime import datetime\n",
    "from dateutil.relativedelta import relativedelta\n",
    "\n",
    "relativedelta(\n",
    "    datetime.today(),\n",
    "    datetime.today() + relativedelta(days=1)\n",
    ")\n",
    "```\n",
    "\n",
    "Artinya:\n",
    "\n",
    "* `datetime.today()` → ambil tanggal & waktu saat ini, misalnya: `2025-05-24 14:00:00`\n",
    "* `relativedelta(days=1)` → tambahkan 1 hari ke tanggal hari ini → jadi `2025-05-25 14:00:00`\n",
    "* Lalu: `relativedelta(2025-05-24, 2025-05-25)` → hasilnya **selisih negatif 1 hari**\n",
    "\n",
    "---\n",
    "\n",
    "### 🧾 Output:\n",
    "\n",
    "Outputnya adalah **objek `relativedelta`** yang terlihat seperti ini:\n",
    "\n",
    "```python\n",
    "relativedelta(days=-1)\n",
    "```\n",
    "\n",
    "Artinya:\n",
    "➡️ Tanggal pertama (hari ini) **1 hari sebelum** tanggal kedua (besok).\n",
    "\n",
    "---\n",
    "\n",
    "### 🔁 Kenapa pakai `relativedelta`, bukan `timedelta`?\n",
    "\n",
    "`relativedelta` lebih fleksibel, karena:\n",
    "\n",
    "* Bisa hitung per **bulan**, **tahun**, atau kombinasi seperti “1 tahun 2 bulan 10 hari”.\n",
    "* Lebih cocok buat data kalender (misal: ulang tahun tahun depan).\n",
    "\n",
    "Contoh:\n",
    "\n",
    "```python\n",
    "relativedelta(datetime(2025, 5, 24), datetime(2024, 1, 1))\n",
    "# Output: relativedelta(years=1, months=4, days=23)\n",
    "```\n",
    "\n",
    "---\n",
    "\n",
    "### 📌 Kesimpulan:\n",
    "\n",
    "```python\n",
    "relativedelta(datetime.today(), datetime.today() + relativedelta(days=1))\n",
    "```\n",
    "\n",
    "→ Menghasilkan `relativedelta(days=-1)`, artinya tanggal pertama **1 hari sebelum** tanggal kedua.\n"
   ]
  },
  {
   "cell_type": "code",
   "execution_count": 12,
   "id": "9f44188b",
   "metadata": {},
   "outputs": [],
   "source": [
    "from dateutil import tz\n"
   ]
  },
  {
   "cell_type": "code",
   "execution_count": 13,
   "id": "d313873b",
   "metadata": {},
   "outputs": [],
   "source": [
    "now = datetime.now(tz=tz.tzlocal())"
   ]
  },
  {
   "cell_type": "markdown",
   "id": "64d5f2fe",
   "metadata": {},
   "source": [
    "Kode ini:\n",
    "\n",
    "```python\n",
    "now = datetime.now(tz=tz.tzlocal())\n",
    "```\n",
    "\n",
    "berarti:\n",
    "➡️ **Ambil waktu saat ini (`now`) sesuai dengan zona waktu lokal komputer kamu.**\n",
    "\n",
    "---\n",
    "\n",
    "### 🧠 Penjelasan bagian per bagian:\n",
    "\n",
    "1. `datetime.now(...)`\n",
    "   → Mengambil tanggal dan waktu saat ini.\n",
    "\n",
    "2. `tz=tz.tzlocal()`\n",
    "   → Menentukan **zona waktu lokal** (misalnya WIB, WITA, atau zona waktu sistem).\n",
    "\n",
    "3. `tz` berasal dari modul `dateutil.tz`\n",
    "   Jadi sebelumnya harus ada:\n",
    "\n",
    "   ```python\n",
    "   from datetime import datetime\n",
    "   from dateutil import tz\n",
    "   ```\n",
    "\n",
    "---\n",
    "\n",
    "### 🔍 Contoh Output:\n",
    "\n",
    "Misalnya komputermu di zona waktu WIB (GMT+7), maka:\n",
    "\n",
    "```python\n",
    "now = datetime.now(tz=tz.tzlocal())\n",
    "print(now)\n",
    "```\n",
    "\n",
    "Output:\n",
    "\n",
    "```\n",
    "2025-05-24 15:30:00.123456+07:00\n",
    "```\n",
    "\n",
    "Perhatikan ada bagian `+07:00` → itu tanda bahwa waktu ini pakai zona waktu lokal.\n",
    "\n",
    "---\n",
    "\n",
    "### 🆚 Tanpa `tz` (waktu naive vs aware):\n",
    "\n",
    "* `datetime.now()` → menghasilkan **naive datetime** (tidak tahu zona waktu).\n",
    "* `datetime.now(tz=tz.tzlocal())` → menghasilkan **aware datetime** (tahu zona waktu).\n",
    "\n",
    "Ini penting saat:\n",
    "\n",
    "* Konversi antar zona waktu (WIB ↔ UTC).\n",
    "* Bekerja dengan timezone-aware aplikasi (misal backend web).\n",
    "* Menghindari bug karena perbedaan waktu server vs user.\n",
    "\n",
    "---\n",
    "\n",
    "### ✅ Kesimpulan:\n",
    "\n",
    "Kode ini:\n",
    "\n",
    "* Mengambil **waktu saat ini** dengan **informasi zona waktu lokal**.\n",
    "* Lebih aman dan akurat untuk sistem yang butuh **penyesuaian waktu antar wilayah**.\n"
   ]
  },
  {
   "cell_type": "code",
   "execution_count": 14,
   "id": "37d8578a",
   "metadata": {},
   "outputs": [
    {
     "data": {
      "text/plain": [
       "'WIB'"
      ]
     },
     "execution_count": 14,
     "metadata": {},
     "output_type": "execute_result"
    }
   ],
   "source": [
    "now.tzname()"
   ]
  },
  {
   "cell_type": "code",
   "execution_count": 13,
   "id": "d4992a9f",
   "metadata": {},
   "outputs": [],
   "source": [
    "Wib = tz.gettz(\"Asia/Jakarta\")"
   ]
  },
  {
   "cell_type": "code",
   "execution_count": 14,
   "id": "5e7cbcb5",
   "metadata": {},
   "outputs": [
    {
     "data": {
      "text/plain": [
       "datetime.datetime(2025, 5, 24, 9, 18, 46, 83911, tzinfo=tzfile('/usr/share/zoneinfo/Asia/Jakarta'))"
      ]
     },
     "execution_count": 14,
     "metadata": {},
     "output_type": "execute_result"
    }
   ],
   "source": [
    "datetime.now(tz= Wib)\n"
   ]
  },
  {
   "cell_type": "code",
   "execution_count": 15,
   "id": "a6d63a0c",
   "metadata": {},
   "outputs": [
    {
     "data": {
      "text/plain": [
       "datetime.datetime(2025, 5, 24, 9, 17, 54, 798014, tzinfo=tzfile('/usr/share/zoneinfo/Asia/Jakarta'))"
      ]
     },
     "execution_count": 15,
     "metadata": {},
     "output_type": "execute_result"
    }
   ],
   "source": [
    "now.replace(tzinfo= Wib)"
   ]
  }
 ],
 "metadata": {
  "kernelspec": {
   "display_name": "base",
   "language": "python",
   "name": "python3"
  },
  "language_info": {
   "codemirror_mode": {
    "name": "ipython",
    "version": 3
   },
   "file_extension": ".py",
   "mimetype": "text/x-python",
   "name": "python",
   "nbconvert_exporter": "python",
   "pygments_lexer": "ipython3",
   "version": "3.12.4"
  }
 },
 "nbformat": 4,
 "nbformat_minor": 5
}
