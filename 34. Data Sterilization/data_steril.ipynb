{
 "cells": [
  {
   "cell_type": "markdown",
   "id": "bd1fad74",
   "metadata": {},
   "source": [
    "**Data serialisasi di Python** adalah proses mengubah **objek Python (seperti dictionary, list, class, dll)** menjadi format yang bisa:\n",
    "\n",
    "* Disimpan ke file\n",
    "* Dikirim lewat jaringan\n",
    "* Disimpan di database\n",
    "* Ditransfer antar sistem\n",
    "\n",
    "Setelah diserialisasi, data bisa di-**deserialisasi** kembali ke bentuk objek Python semula.\n",
    "\n",
    "---\n",
    "\n",
    "## 🔧 Contoh Format Serialisasi:\n",
    "\n",
    "* **JSON** → Paling umum untuk API/web\n",
    "* **Pickle** → Format biner, khusus Python\n",
    "* **YAML**, **MessagePack**, **Protobuf** → Alternatif lainnya\n",
    "\n",
    "---\n",
    "\n",
    "## 📦 Contoh 1: Serialisasi JSON\n",
    "\n",
    "```python\n",
    "import json\n",
    "\n",
    "data = {'nama': 'Andi', 'umur': 21}\n",
    "\n",
    "# Serialisasi: Python dict → JSON string\n",
    "json_str = json.dumps(data)\n",
    "print(json_str)  # {\"nama\": \"Andi\", \"umur\": 21}\n",
    "\n",
    "# Deserialisasi: JSON string → Python dict\n",
    "data_kembali = json.loads(json_str)\n",
    "print(data_kembali['nama'])  # Andi\n",
    "```\n",
    "\n",
    "---\n",
    "\n",
    "## 📦 Contoh 2: Serialisasi Pickle (format biner)\n",
    "\n",
    "```python\n",
    "import pickle\n",
    "\n",
    "data = {'x': [1, 2, 3], 'y': \"halo\"}\n",
    "\n",
    "# Simpan ke file\n",
    "with open('data.pkl', 'wb') as f:\n",
    "    pickle.dump(data, f)\n",
    "\n",
    "# Baca lagi dari file\n",
    "with open('data.pkl', 'rb') as f:\n",
    "    loaded = pickle.load(f)\n",
    "\n",
    "print(loaded)  # {'x': [1, 2, 3], 'y': 'halo'}\n",
    "```\n",
    "\n",
    "> ⚠️ `pickle` hanya aman untuk data internal (bukan dari pengguna luar), karena bisa mengeksekusi kode berbahaya saat `load`.\n",
    "\n",
    "---\n",
    "\n",
    "## 🔥 Kapan dipakai?\n",
    "\n",
    "| Tujuan                            | Format yang cocok         |\n",
    "| --------------------------------- | ------------------------- |\n",
    "| Kirim data antar aplikasi via API | JSON                      |\n",
    "| Simpan objek Python ke file       | Pickle                    |\n",
    "| Training model ML (PyTorch, dsb)  | Torch save (pakai pickle) |\n",
    "| Sistem distribusi (microservices) | JSON, Protobuf            |\n",
    "\n",
    "---\n",
    "\n",
    "Kalau kamu kasih contoh use case kamu (misalnya REST API, model AI, atau antar sistem), gue bisa bantuin pilih format & kode terbaiknya. Mau?\n"
   ]
  },
  {
   "cell_type": "markdown",
   "id": "deead7f2",
   "metadata": {},
   "source": [
    "# Simple"
   ]
  },
  {
   "cell_type": "code",
   "execution_count": null,
   "id": "c9b2e537",
   "metadata": {},
   "outputs": [
    {
     "name": "stdout",
     "output_type": "stream",
     "text": [
      "{'nama': 'Alice', 'usia': 30, 'kota': 'Jakarta'}\n"
     ]
    }
   ],
   "source": [
    "# data serialisasi\n",
    "import json\n",
    "\n",
    "data = {'nama': 'Alice', 'usia': 30, 'kota': 'Jakarta'}\n",
    "\n",
    "# Serialisasi ke JSON\n",
    "json_data = json.dumps(data, indent=4)\n",
    "\n",
    "# Menyimpan ke file JSON\n",
    "with open('data.json', 'w') as file:\n",
    "    file.write(json_data)\n",
    "\n",
    "# Deserialisasi dari JSON\n",
    "with open('data.json', 'r') as file:\n",
    "    loaded_data = json.load(file)\n",
    "\n",
    "print(loaded_data)\n"
   ]
  },
  {
   "cell_type": "markdown",
   "id": "59af9a21",
   "metadata": {},
   "source": [
    "Kami mengambil kamus data, mengonversinya menjadi JSON, dan menyimpannya dalam file JSON. Kemudian, kami membaca file JSON dan mendeserialisasikan datanya kembali ke dalam kamus."
   ]
  },
  {
   "cell_type": "markdown",
   "id": "1a107267",
   "metadata": {},
   "source": [
    " Serialisasi Kamus yang Berisi Daftar python\n"
   ]
  },
  {
   "cell_type": "code",
   "execution_count": 2,
   "id": "cb2d43f0",
   "metadata": {},
   "outputs": [
    {
     "name": "stdout",
     "output_type": "stream",
     "text": [
      "{'nama': 'Alice', 'hobi': ['berenang', 'membaca', 'berkebun']}\n"
     ]
    }
   ],
   "source": [
    "import json\n",
    "\n",
    "data = {'nama': 'Alice', 'hobi': ['berenang', 'membaca', 'berkebun']}\n",
    "\n",
    "# Serialisasi ke JSON\n",
    "json_data = json.dumps(data, indent=4)\n",
    "\n",
    "# Menyimpan ke file JSON\n",
    "with open('data.json', 'w') as file:\n",
    "    file.write(json_data)\n",
    "\n",
    "# Deserialisasi dari JSON\n",
    "with open('data.json', 'r') as file:\n",
    "    loaded_data = json.load(file)\n",
    "\n",
    "print(loaded_data)\n"
   ]
  },
  {
   "cell_type": "markdown",
   "id": "4130ba49",
   "metadata": {},
   "source": [
    "Kami mengambil kamus data yang berisi daftar dan mengonversinya menjadi JSON. Kemudian, kami menyimpannya dalam file JSON dan kemudian mendeserialisasikannya kembali."
   ]
  },
  {
   "cell_type": "markdown",
   "id": "a9206d98",
   "metadata": {},
   "source": [
    "# Intermediete"
   ]
  },
  {
   "cell_type": "code",
   "execution_count": 3,
   "id": "a2eaf20e",
   "metadata": {},
   "outputs": [
    {
     "name": "stdout",
     "output_type": "stream",
     "text": [
      "{'nama': 'Alice', 'usia': 30}\n",
      "{'nama': 'Bob', 'usia': 25}\n"
     ]
    }
   ],
   "source": [
    "import json\n",
    "\n",
    "class Person:\n",
    "    def __init__(self, nama, usia):\n",
    "        self.nama = nama\n",
    "        self.usia = usia\n",
    "\n",
    "people = [Person('Alice', 30), Person('Bob', 25)]\n",
    "\n",
    "# Serialisasi ke JSON\n",
    "json_data = json.dumps([person.__dict__ for person in people], indent=4)\n",
    "\n",
    "# Deserialisasi dari JSON\n",
    "loaded_people = [Person(item['nama'], item['usia']) for item in json.loads(json_data)]\n",
    "\n",
    "for person in loaded_people:\n",
    "    print(person.__dict__)\n"
   ]
  },
  {
   "cell_type": "markdown",
   "id": "623c098b",
   "metadata": {},
   "source": [
    "Kami membuat objek-objek kustom dari kelas Person, kemudian mengonversi daftar objek ini menjadi format JSON. Kami kemudian mendeserialisasikannya kembali dan mencetak hasilnya."
   ]
  },
  {
   "cell_type": "code",
   "execution_count": 4,
   "id": "8317ef83",
   "metadata": {},
   "outputs": [
    {
     "name": "stdout",
     "output_type": "stream",
     "text": [
      "{'nama': 'Alice', 'nilai': 95, 'kelas': {'nama_kelas': 'XII IPA 1', 'siswa': ['Bob', 'Charlie', 'Dave']}}\n"
     ]
    }
   ],
   "source": [
    "import json\n",
    "\n",
    "data = {\n",
    "    'nama': 'Alice',\n",
    "    'nilai': 95,\n",
    "    'kelas': {\n",
    "        'nama_kelas': 'XII IPA 1',\n",
    "        'siswa': ['Bob', 'Charlie', 'Dave']\n",
    "    }\n",
    "}\n",
    "\n",
    "# Serialisasi ke JSON\n",
    "json_data = json.dumps(data, indent=4)\n",
    "\n",
    "# Deserialisasi dari JSON\n",
    "loaded_data = json.loads(json_data)\n",
    "\n",
    "print(loaded_data)\n"
   ]
  },
  {
   "cell_type": "markdown",
   "id": "7ecaa1e1",
   "metadata": {},
   "source": [
    "Kami mengambil data yang berisi objek-objek bersarang (kelas dalam kamus) dan mengonversinya menjadi format JSON. Kemudian, kami mendeserialisasikannya kembali dan mencetak hasilnya."
   ]
  },
  {
   "cell_type": "markdown",
   "id": "dc751f16",
   "metadata": {},
   "source": [
    "# Advanced"
   ]
  },
  {
   "cell_type": "code",
   "execution_count": 5,
   "id": "725055e9",
   "metadata": {},
   "outputs": [
    {
     "name": "stdout",
     "output_type": "stream",
     "text": [
      "Data Serialisasi:\n",
      "{\n",
      "    \"nama\": \"Alice\",\n",
      "    \"usia\": 30,\n",
      "    \"kota\": \"Jakarta\"\n",
      "}\n",
      "Data Deserialisasi:\n",
      "{'nama': 'Alice', 'usia': 30, 'kota': 'Jakarta'}\n"
     ]
    }
   ],
   "source": [
    "import json\n",
    "import xml.etree.ElementTree as ET\n",
    "import csv\n",
    "\n",
    "def serialize_data(data, format):\n",
    "    if format == 'json':\n",
    "        return json.dumps(data, indent=4)\n",
    "    elif format == 'xml':\n",
    "        root = ET.Element('data')\n",
    "        for key, value in data.items():\n",
    "            element = ET.SubElement(root, key)\n",
    "            element.text = str(value)\n",
    "        return ET.tostring(root).decode('utf-8')\n",
    "    elif format == 'csv':\n",
    "        lines = [','.join([str(key), str(value)]) for key, value in data.items()]\n",
    "        return '\\n'.join(lines)\n",
    "\n",
    "def deserialize_data(data, format):\n",
    "    if format == 'json':\n",
    "        return json.loads(data)\n",
    "    elif format == 'xml':\n",
    "        root = ET.fromstring(data)\n",
    "        return {elem.tag: elem.text for elem in root}\n",
    "    elif format == 'csv':\n",
    "        lines = data.split('\\n')\n",
    "        items = [line.split(',') for line in lines]\n",
    "        return {item[0]: item[1] for item in items if len(item) == 2}\n",
    "\n",
    "# Pengguna memilih format\n",
    "pilihan_format = input(\"Pilih format (json/xml/csv): \")\n",
    "\n",
    "data = {'nama': 'Alice', 'usia': 30, 'kota': 'Jakarta'}\n",
    "\n",
    "# Serialisasi\n",
    "serialized_data = serialize_data(data, pilihan_format)\n",
    "print(\"Data Serialisasi:\")\n",
    "print(serialized_data)\n",
    "\n",
    "# Deserialisasi\n",
    "deserialized_data = deserialize_data(serialized_data, pilihan_format)\n",
    "print(\"Data Deserialisasi:\")\n",
    "print(deserialized_data)\n"
   ]
  },
  {
   "cell_type": "markdown",
   "id": "7641a330",
   "metadata": {},
   "source": [
    "Program ini memungkinkan pengguna untuk memilih format (JSON, XML, CSV) untuk serialisasi dan deserialisasi data. Data kemudian diserialisasi kembali dan dicetak."
   ]
  },
  {
   "cell_type": "code",
   "execution_count": 6,
   "id": "f87fed82",
   "metadata": {},
   "outputs": [
    {
     "name": "stdout",
     "output_type": "stream",
     "text": [
      "Pilih operasi:\n",
      "1. Serialisasi ke JSON\n",
      "2. Deserialisasi dari JSON\n",
      "3. Serialisasi ke XML\n",
      "4. Deserialisasi dari XML\n",
      "5. Serialisasi ke CSV\n",
      "6. Deserialisasi dari CSV\n",
      "{\n",
      "    \"nama\": \"Alice\",\n",
      "    \"usia\": 30,\n",
      "    \"kota\": \"Jakarta\"\n",
      "}\n"
     ]
    }
   ],
   "source": [
    "import json\n",
    "import xml.etree.ElementTree as ET\n",
    "import csv\n",
    "\n",
    "def serialize_to_json(data):\n",
    "    return json.dumps(data, indent=4)\n",
    "\n",
    "def deserialize_from_json(data):\n",
    "    return json.loads(data)\n",
    "\n",
    "def serialize_to_xml(data):\n",
    "    root = ET.Element('data')\n",
    "    for key, value in data.items():\n",
    "        element = ET.SubElement(root, key)\n",
    "        element.text = str(value)\n",
    "    return ET.tostring(root).decode('utf-8')\n",
    "\n",
    "def deserialize_from_xml(data):\n",
    "    root = ET.fromstring(data)\n",
    "    return {elem.tag: elem.text for elem in root}\n",
    "\n",
    "def serialize_to_csv(data):\n",
    "    lines = [','.join([str(key), str(value)]) for key, value in data.items()]\n",
    "    return '\\n'.join(lines)\n",
    "\n",
    "def deserialize_from_csv(data):\n",
    "    lines = data.split('\\n')\n",
    "    items = [line.split(',') for line in lines]\n",
    "    return {item[0]: item[1] for item in items if len(item) == 2}\n",
    "\n",
    "# Pengguna memilih operasi\n",
    "print(\"Pilih operasi:\")\n",
    "print(\"1. Serialisasi ke JSON\")\n",
    "print(\"2. Deserialisasi dari JSON\")\n",
    "print(\"3. Serialisasi ke XML\")\n",
    "print(\"4. Deserialisasi dari XML\")\n",
    "print(\"5. Serialisasi ke CSV\")\n",
    "print(\"6. Deserialisasi dari CSV\")\n",
    "operasi = input(\"Pilih operasi (1/2/3/4/5/6): \")\n",
    "\n",
    "data = {'nama': 'Alice', 'usia': 30, 'kota': 'Jakarta'}\n",
    "\n",
    "if operasi == '1':\n",
    "    result = serialize_to_json(data)\n",
    "elif operasi == '2':\n",
    "    result = deserialize_from_json(data)\n",
    "elif operasi == '3':\n",
    "    result = serialize_to_xml(data)\n",
    "elif operasi == '4':\n",
    "    result = deserialize_from_xml(data)\n",
    "elif operasi == '5':\n",
    "    result = serialize_to_csv(data)\n",
    "elif operasi == '6':\n",
    "    result = deserialize_from_csv(data)\n",
    "\n",
    "print(result)\n"
   ]
  },
  {
   "cell_type": "markdown",
   "id": "b3816cf0",
   "metadata": {},
   "source": [
    "Program ini memungkinkan pengguna untuk memilih operasi seperti serialisasi ke JSON, deserialisasi dari JSON, serialisasi ke XML, deserialisasi dari XML, serialisasi ke CSV, atau deserialisasi dari CSV. Data kemudian diolah sesuai dengan operasi yang dipilih dan hasilnya dicetak."
   ]
  },
  {
   "cell_type": "markdown",
   "id": "4eac7010",
   "metadata": {},
   "source": [
    "Contoh 5 dan 6 dalam garis besar \"Serialisasi Data (Pengantar)\" memang cukup mirip. Kedua contoh tersebut mencakup serialisasi dan deserialisasi, tetapi memiliki pendekatan yang berbeda.\n",
    "\n",
    "**Contoh 5:**\n",
    "- Memungkinkan pengguna memilih format (JSON, XML, CSV) untuk serialisasi dan deserialisasi.\n",
    "- Menyediakan fungsi yang berbeda untuk setiap operasi (serialisasi dan deserialisasi).\n",
    "- Berdasarkan input pengguna, melakukan serialisasi atau deserialisasi data.\n",
    "\n",
    "**Contoh 6:**\n",
    "- Juga memungkinkan pengguna memilih operasi (serialisasi atau deserialisasi) tetapi tidak secara khusus membahas format yang berbeda.\n",
    "- Mendefinisikan fungsi terpisah untuk setiap operasi serialisasi atau deserialisasi.\n",
    "- Pengguna memilih operasi (1 untuk serialisasi, 2 untuk deserialisasi), dan kode akan memproses data sesuai dengan pilihan tersebut.\n",
    "\n",
    "Meskipun kedua contoh tersebut mengilustrasikan konsep serialisasi dan deserialisasi, Contoh 5 lebih fokus pada penggunaan berbagai format serialisasi yang berbeda (JSON, XML, CSV) dan memberikan pilihan untuk memilih operasi. Contoh 6 lebih sederhana dan menyediakan pilihan untuk serialisasi atau deserialisasi, tetapi tidak secara eksplisit mengatasi berbagai format. Anda dapat memilih contoh yang paling sesuai dengan kebutuhan pengajaran Anda.\n",
    "\n",
    "# selesai juga ini serelisasi"
   ]
  }
 ],
 "metadata": {
  "kernelspec": {
   "display_name": "base",
   "language": "python",
   "name": "python3"
  },
  "language_info": {
   "codemirror_mode": {
    "name": "ipython",
    "version": 3
   },
   "file_extension": ".py",
   "mimetype": "text/x-python",
   "name": "python",
   "nbconvert_exporter": "python",
   "pygments_lexer": "ipython3",
   "version": "3.12.4"
  }
 },
 "nbformat": 4,
 "nbformat_minor": 5
}
