{
 "cells": [
  {
   "cell_type": "markdown",
   "id": "ef1dd1db",
   "metadata": {},
   "source": [
    "Mantap! Sekarang kita bahas **parallel** dan **concurrency** di Python — dua konsep penting buat bikin program jalan **lebih cepat atau lebih efisien**, apalagi kalau lagi ngolah banyak tugas (task) sekaligus.\n",
    "\n",
    "---\n",
    "\n",
    "## 🧠 Singkatnya:\n",
    "\n",
    "| Konsep          | Artinya Gampangnya                                   | Tujuan                               |\n",
    "| --------------- | ---------------------------------------------------- | ------------------------------------ |\n",
    "| **Concurrency** | *Ganti-gantian ngerjain banyak tugas* (multitasking) | Efisien waktu tunggu                 |\n",
    "| **Parallelism** | *Kerjain banyak tugas **barengan** sekaligus*        | Ngebut, lebih cepat kalau CPU banyak |\n",
    "\n",
    "---\n",
    "\n",
    "## 💡 Contoh Gampang:\n",
    "\n",
    "### 🧑‍🍳 Concurrency:\n",
    "\n",
    "Bayangin kamu cuma punya **1 kompor**:\n",
    "\n",
    "* Masak mie → tunggu air mendidih.\n",
    "* Sambil nunggu, kamu **potong bawang**.\n",
    "* Air udah mendidih → lanjut masak.\n",
    "\n",
    "Jadi kamu **ganti-gantian kerjain tugas** (tapi gak barengan).\n",
    "\n",
    "### 🧑‍🍳 Parallelism:\n",
    "\n",
    "Kamu punya **3 kompor**:\n",
    "\n",
    "* Kompor 1 masak nasi.\n",
    "* Kompor 2 goreng ayam.\n",
    "* Kompor 3 rebus sayur.\n",
    "\n",
    "Semua kerja **barengan**. Hasilnya bisa lebih cepat, tapi butuh lebih banyak \"tenaga\" (CPU/kompor).\n",
    "\n",
    "---\n",
    "\n",
    "## 🐍 Di Python Gimana?\n",
    "\n",
    "Python punya beberapa cara buat jalanin kode secara **concurrent** dan **parallel**:\n",
    "\n",
    "### ✅ **Concurrency:**\n",
    "\n",
    "Pakai **`asyncio`** (asynchronous programming)\n",
    "\n",
    "```python\n",
    "import asyncio\n",
    "\n",
    "async def tugas(nama, detik):\n",
    "    print(f\"{nama} mulai...\")\n",
    "    await asyncio.sleep(detik)\n",
    "    print(f\"{nama} selesai setelah {detik} detik\")\n",
    "\n",
    "async def main():\n",
    "    await asyncio.gather(\n",
    "        tugas(\"Tugas 1\", 2),\n",
    "        tugas(\"Tugas 2\", 3)\n",
    "    )\n",
    "\n",
    "asyncio.run(main())\n",
    "```\n",
    "\n",
    "➡️ Ini nggak paralel beneran, tapi tugasnya **ganti-gantian jalan saat ada waktu tunggu (I/O)**.\n",
    "\n",
    "---\n",
    "\n",
    "### ✅ **Parallelism:**\n",
    "\n",
    "Pakai **`multiprocessing`** (jalan di banyak CPU)\n",
    "\n",
    "```python\n",
    "from multiprocessing import Process\n",
    "import time\n",
    "\n",
    "def tugas(nama):\n",
    "    print(f\"{nama} mulai\")\n",
    "    time.sleep(3)\n",
    "    print(f\"{nama} selesai\")\n",
    "\n",
    "if __name__ == '__main__':\n",
    "    p1 = Process(target=tugas, args=(\"Tugas 1\",))\n",
    "    p2 = Process(target=tugas, args=(\"Tugas 2\",))\n",
    "    \n",
    "    p1.start()\n",
    "    p2.start()\n",
    "\n",
    "    p1.join()\n",
    "    p2.join()\n",
    "```\n",
    "\n",
    "➡️ Ini **benar-benar parallel**, dua proses jalan **bersamaan**, cocok untuk kerja berat (CPU-bound).\n",
    "\n",
    "---\n",
    "\n",
    "### 🤯 Python ada GIL, kan?\n",
    "\n",
    "Benar! Python punya **Global Interpreter Lock (GIL)** yang bikin **thread** nggak bisa 100% paralel kalau kerjaannya berat (CPU-bound). Tapi kalau kerjaan I/O (kayak baca file, request web), concurrency tetap sangat efisien.\n",
    "\n",
    "---\n",
    "\n",
    "## 🎯 Kapan Pakai Yang Mana?\n",
    "\n",
    "| Jenis Tugas         | Pakai Apa?                           |\n",
    "| ------------------- | ------------------------------------ |\n",
    "| Banyak nunggu (I/O) | `asyncio`, `threading` (concurrency) |\n",
    "| Berat di CPU        | `multiprocessing` (parallelism)      |\n",
    "\n",
    "---\n",
    "\n",
    "Kalau kamu mau, gue bisa bantu bikin contoh sesuai kasus kamu juga. Tinggal bilang aja tugasnya apa.\n",
    "\n",
    "# concurency tingkat 1\n"
   ]
  },
  {
   "cell_type": "markdown",
   "id": "b5c90b12",
   "metadata": {},
   "source": [
    "# Simple"
   ]
  },
  {
   "cell_type": "code",
   "execution_count": 1,
   "id": "2262791e",
   "metadata": {},
   "outputs": [
    {
     "name": "stdout",
     "output_type": "stream",
     "text": [
      "Number: 1\n",
      "Letter: a\n",
      "Number: 2\n",
      "Letter: b\n",
      "Number: 3\n",
      "Letter: c\n",
      "Number: 4\n",
      "Letter: d\n",
      "Number: 5\n",
      "Letter: e\n",
      "Both threads have finished.\n"
     ]
    }
   ],
   "source": [
    "import threading\n",
    "import time\n",
    "\n",
    "def print_numbers():\n",
    "    for i in range(1, 6):\n",
    "        print(f\"Number: {i}\")\n",
    "        time.sleep(1)\n",
    "\n",
    "def print_letters():\n",
    "    for letter in \"abcde\":\n",
    "        print(f\"Letter: {letter}\")\n",
    "        time.sleep(1)\n",
    "\n",
    "thread1 = threading.Thread(target=print_numbers)\n",
    "thread2 = threading.Thread(target=print_letters)\n",
    "\n",
    "thread1.start()\n",
    "thread2.start()\n",
    "\n",
    "thread1.join()\n",
    "thread2.join()\n",
    "\n",
    "print(\"Both threads have finished.\")"
   ]
  },
  {
   "cell_type": "markdown",
   "id": "2d386dce",
   "metadata": {},
   "source": [
    "Penjelasan:\n",
    "\n",
    "Dalam contoh ini, terdapat dua fungsi, print_numbers dan print_letters, masing-masing mensimulasikan sebuah tugas.\n",
    "\n",
    "Kami membuat dua thread, thread1 dan thread2, untuk menjalankan fungsi-fungsi ini secara bersamaan.\n",
    "\n",
    "thread1.start() dan thread2.start() memulai thread-thread tersebut.\n",
    "\n",
    "Kami menggunakan thread1.join() dan thread2.join() untuk menunggu thread selesai.\n",
    "\n",
    "Thread-thread ini menjalankan tugas secara bersamaan, mencetak angka dan huruf, dan melakukan sleep selama 1 detik setelah mencetak setiap karakter.\n",
    "\n",
    "Contoh 2: Keamanan Thread dengan Sumber Daya Bersama"
   ]
  },
  {
   "cell_type": "code",
   "execution_count": 2,
   "id": "99d26702",
   "metadata": {},
   "outputs": [
    {
     "name": "stdout",
     "output_type": "stream",
     "text": [
      "Counter value: 200000\n"
     ]
    }
   ],
   "source": [
    "import threading\n",
    "\n",
    "counter = 0\n",
    "lock = threading.Lock()\n",
    "\n",
    "def increment():\n",
    "    global counter \n",
    "    for _ in range(100000):\n",
    "        with lock:\n",
    "            counter += 1\n",
    "\n",
    "thread1 = threading.Thread(target=increment)\n",
    "thread2 = threading.Thread(target=increment)\n",
    "\n",
    "thread1.start()\n",
    "thread2.start()\n",
    "\n",
    "thread1.join()\n",
    "thread2.join()\n",
    "\n",
    "print(f\"Counter value: {counter}\")"
   ]
  },
  {
   "cell_type": "markdown",
   "id": "fbc36d65",
   "metadata": {},
   "source": [
    "Penjelasan:\n",
    "\n",
    "Contoh ini menggambarkan masalah umum dalam pemrograman konkurensi: sumber daya bersama.\n",
    "Kami memiliki variabel global counter yang diinkremen oleh beberapa thread secara bersamaan.\n",
    "Untuk memastikan keamanan thread, kami menggunakan threading.Lock untuk melindungi bagian kritis di mana counter diperbarui.\n",
    "Setiap thread, thread1 dan thread2, menginkremen counter sebanyak 100,000 kali.\n",
    "Setelah kedua thread selesai, kami mencetak nilai terakhir dari counter. Menggunakan lock memastikan bahwa counter diperbarui secara aman."
   ]
  },
  {
   "cell_type": "markdown",
   "id": "d944b58d",
   "metadata": {},
   "source": [
    "# Intermediate"
   ]
  },
  {
   "cell_type": "code",
   "execution_count": 3,
   "id": "4461b1f3",
   "metadata": {},
   "outputs": [
    {
     "name": "stdout",
     "output_type": "stream",
     "text": [
      "Dikonsumsi: 0\n",
      "Dikonsumsi: 1\n",
      "Dikonsumsi: 2\n",
      "Dikonsumsi: 3\n",
      "Dikonsumsi: 4\n"
     ]
    }
   ],
   "source": [
    "import threading\n",
    "import queue\n",
    "\n",
    "def produsen(q):\n",
    "    for i in range(5):\n",
    "        q.put(i)\n",
    "\n",
    "def konsumen(q):\n",
    "    while True:\n",
    "        item = q.get()\n",
    "        if item is None:\n",
    "            break\n",
    "        print(\"Dikonsumsi:\", item)\n",
    "\n",
    "q = queue.Queue()\n",
    "thread_produsen = threading.Thread(target=produsen, args=(q,))\n",
    "thread_konsumen = threading.Thread(target=konsumen, args=(q,))\n",
    "\n",
    "thread_produsen.start()\n",
    "thread_konsumen.start()\n",
    "\n",
    "thread_produsen.join()\n",
    "q.put(None)  # Sinyal kepada konsumen untuk berhenti\n",
    "thread_konsumen.join()\n"
   ]
  },
  {
   "cell_type": "markdown",
   "id": "261f7681",
   "metadata": {},
   "source": [
    "Penjelasan:\n",
    "\n",
    "Dalam contoh ini, kami memiliki dua thread yang mewakili produsen dan konsumen.\n",
    "\n",
    "Thread produsen, thread_produsen, menghasilkan dan menambahkan item ke antrian bersama.\n",
    "\n",
    "Thread konsumen, thread_konsumen, mengonsumsi item dari antrian.\n",
    "\n",
    "Thread konsumen terus mengonsumsi item hingga menerima sinyal \"berhenti\" (None) dari produsen.\n",
    "\n",
    "Penggunaan antrian memastikan keselamatan konkurensi dan mengizinkan komunikasi yang aman antara produsen dan konsumen."
   ]
  },
  {
   "cell_type": "code",
   "execution_count": 4,
   "id": "e47456b2",
   "metadata": {},
   "outputs": [
    {
     "name": "stdout",
     "output_type": "stream",
     "text": [
      "Hasil: [1, 4, 9, 16, 25]\n"
     ]
    }
   ],
   "source": [
    "from concurrent.futures import ThreadPoolExecutor\n",
    "import time\n",
    "\n",
    "def kuadrat(x):\n",
    "    time.sleep(1)\n",
    "    return x * x\n",
    "\n",
    "data = [1, 2, 3, 4, 5]\n",
    "with ThreadPoolExecutor(max_workers=3) as executor:\n",
    "    hasil = list(executor.map(kuadrat, data))\n",
    "\n",
    "print(\"Hasil:\", hasil)\n"
   ]
  },
  {
   "cell_type": "markdown",
   "id": "f459a3ea",
   "metadata": {},
   "source": [
    "Penjelasan:\n",
    "\n",
    "Pada contoh ini, kami memperkenalkan ThreadPoolExecutor dari modul concurrent.futures, yang menyediakan cara praktis untuk mengelola dan menjalankan tugas secara bersamaan.\n",
    "Kami mendefinisikan fungsi kuadrat yang mensimulasikan tugas dengan melakukan kuadrat angka dan tidur selama 1 detik.\n",
    "Kami membuat daftar data dan menggunakan metode executor.map untuk pengeksekusian secara bersamaan"
   ]
  },
  {
   "cell_type": "markdown",
   "id": "bebb81eb",
   "metadata": {},
   "source": [
    "# Advanced\n",
    "\n"
   ]
  },
  {
   "cell_type": "code",
   "execution_count": 5,
   "id": "f73c281b",
   "metadata": {},
   "outputs": [
    {
     "name": "stdout",
     "output_type": "stream",
     "text": [
      "Hasil (Thread): [1, 4, 9, 16, 25]\n"
     ]
    }
   ],
   "source": [
    "from concurrent.futures import ThreadPoolExecutor, ProcessPoolExecutor\n",
    "import time\n",
    "\n",
    "def kuadrat(x):\n",
    "    time.sleep(1)\n",
    "    return x * x\n",
    "\n",
    "data = [1, 2, 3, 4, 5]\n",
    "with ThreadPoolExecutor(max_workers=3) as executor:\n",
    "    hasil = list(executor.map(kuadrat, data))\n",
    "\n",
    "print(\"Hasil (Thread):\", hasil)\n"
   ]
  },
  {
   "cell_type": "markdown",
   "id": "c8ed27ef",
   "metadata": {},
   "source": [
    "Penjelasan:\n",
    "\n",
    "Pada contoh ini, kami menggunakan ThreadPoolExecutor untuk mengeksekusi fungsi kuadrat secara bersamaan dengan maksimal 3 thread.\n",
    "\n",
    "Fungsi kuadrat mensimulasikan tugas dengan mengkuadratkan angka dan tidur selama 1 detik.\n",
    "\n",
    "Metode executor.map memetakan fungsi ke data dan hasilnya dikumpulkan.\n",
    "\n",
    "Ini menggambarkan eksekusi bersamaan dengan thread."
   ]
  },
  {
   "cell_type": "code",
   "execution_count": 6,
   "id": "c9394570",
   "metadata": {},
   "outputs": [
    {
     "name": "stdout",
     "output_type": "stream",
     "text": [
      "Hasil (Proses): [1, 4, 9, 16, 25]\n"
     ]
    }
   ],
   "source": [
    "from concurrent.futures import ThreadPoolExecutor, ProcessPoolExecutor\n",
    "import time\n",
    "\n",
    "def kuadrat(x):\n",
    "    time.sleep(1)\n",
    "    return x * x\n",
    "\n",
    "data = [1, 2, 3, 4, 5]\n",
    "with ProcessPoolExecutor(max_workers=3) as executor:\n",
    "    hasil = list(executor.map(kuadrat, data))\n",
    "\n",
    "print(\"Hasil (Proses):\", hasil)\n"
   ]
  },
  {
   "cell_type": "markdown",
   "id": "daa51e54",
   "metadata": {},
   "source": [
    "Penjelasan:\n",
    "\n",
    "Contoh ini mirip dengan yang sebelumnya, tetapi menunjukkan eksekusi bersamaan menggunakan proses alih-alih thread.\n",
    "Kami menggunakan ProcessPoolExecutor untuk mengeksekusi fungsi kuadrat dengan maksimal 3 proses.\n",
    "Fungsi kuadrat mensimulasikan tugas dengan mengkuadratkan angka dan tidur selama 1 detik.\n",
    "Metode executor.map memetakan fungsi ke data dan hasilnya dikumpulkan.\n",
    "Eksekusi berbasis proses cocok untuk tugas yang membutuhkan banyak sumber daya CPU.\n",
    "\n",
    "Dengan demikian, materi ini mencakup berbagai konsep konkurensi dan paralelisme dalam Python, mulai dari threading yang sederhana hingga eksekusi bersamaan yang lebih canggih dengan thread dan proses. Materi ini membantu peserta memahami prinsip-prinsip dasar dan aplikasi konkurensi dan paralelisme dalam pemrograman Python\n",
    "\n",
    "pararel selesai"
   ]
  }
 ],
 "metadata": {
  "kernelspec": {
   "display_name": "base",
   "language": "python",
   "name": "python3"
  },
  "language_info": {
   "codemirror_mode": {
    "name": "ipython",
    "version": 3
   },
   "file_extension": ".py",
   "mimetype": "text/x-python",
   "name": "python",
   "nbconvert_exporter": "python",
   "pygments_lexer": "ipython3",
   "version": "3.12.4"
  }
 },
 "nbformat": 4,
 "nbformat_minor": 5
}
