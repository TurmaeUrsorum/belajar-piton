{
 "cells": [
  {
   "cell_type": "code",
   "execution_count": 1,
   "id": "06350440",
   "metadata": {},
   "outputs": [],
   "source": [
    "with open(\"contoh_sederhana.txt\", \"w\") as file:\n",
    "    file.write(\"halo, ini adalah file teks sederhana\")"
   ]
  },
  {
   "cell_type": "code",
   "execution_count": null,
   "id": "77097aea",
   "metadata": {},
   "outputs": [],
   "source": []
  }
 ],
 "metadata": {
  "kernelspec": {
   "display_name": "base",
   "language": "python",
   "name": "python3"
  },
  "language_info": {
   "codemirror_mode": {
    "name": "ipython",
    "version": 3
   },
   "file_extension": ".py",
   "mimetype": "text/x-python",
   "name": "python",
   "nbconvert_exporter": "python",
   "pygments_lexer": "ipython3",
   "version": "3.12.4"
  }
 },
 "nbformat": 4,
 "nbformat_minor": 5
}
