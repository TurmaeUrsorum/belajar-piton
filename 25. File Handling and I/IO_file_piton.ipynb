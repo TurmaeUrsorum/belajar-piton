{
 "cells": [
  {
   "cell_type": "markdown",
   "id": "37fa354a",
   "metadata": {},
   "source": [
    "File handling I/O (Input/Output) di Python adalah cara untuk membaca (input) dan menulis (output) data ke/dari file di sistem penyimpanan (seperti hard disk).\n",
    "\n",
    "### 🔧 **Tujuan File Handling:**\n",
    "\n",
    "* **Input**: Membaca isi file (misalnya file `.txt`, `.csv`, dll).\n",
    "* **Output**: Menulis atau menyimpan data ke dalam file.\n",
    "\n",
    "---\n",
    "\n",
    "## 📂 Fungsi Dasar File Handling di Python\n",
    "\n",
    "### 1. `open()`\n",
    "\n",
    "Digunakan untuk membuka file.\n",
    "\n",
    "```python\n",
    "file = open(\"data.txt\", \"r\")  # \"r\" = read mode\n",
    "```\n",
    "\n",
    "### 2. Mode Akses File:\n",
    "\n",
    "| Mode            | Fungsi                                          |\n",
    "| --------------- | ----------------------------------------------- |\n",
    "| `\"r\"`           | Membaca file (error jika file tidak ada)        |\n",
    "| `\"w\"`           | Menulis file baru (menimpa kalau sudah ada)     |\n",
    "| `\"a\"`           | Menambah ke akhir file (append)                 |\n",
    "| `\"x\"`           | Membuat file baru (error kalau sudah ada)       |\n",
    "| `\"rb\"` / `\"wb\"` | Mode biner (untuk file non-teks seperti gambar) |\n",
    "\n",
    "---\n",
    "\n",
    "## 🧪 Contoh Penggunaan\n",
    "\n",
    "### 📖 Membaca File:\n",
    "\n",
    "```python\n",
    "with open(\"data.txt\", \"r\") as file:\n",
    "    isi = file.read()\n",
    "    print(isi)\n",
    "```\n",
    "\n",
    "### ✍️ Menulis File:\n",
    "\n",
    "```python\n",
    "with open(\"data.txt\", \"w\") as file:\n",
    "    file.write(\"Halo, dunia!\")\n",
    "```\n",
    "\n",
    "### ➕ Menambahkan Isi:\n",
    "\n",
    "```python\n",
    "with open(\"data.txt\", \"a\") as file:\n",
    "    file.write(\"\\nBaris baru\")\n",
    "```\n",
    "\n",
    "---\n",
    "\n",
    "## ❗ Kenapa pakai `with`?\n",
    "\n",
    "Agar file otomatis ditutup setelah digunakan, dan mencegah error atau kebocoran memori:\n",
    "\n",
    "```python\n",
    "with open(\"file.txt\", \"r\") as file:\n",
    "    # file digunakan di sini\n",
    "# file otomatis ditutup di sini\n",
    "```\n",
    "\n",
    "---\n",
    "\n",
    "Kalau kamu mau, aku bisa bantu bikin latihan sederhana untuk baca/tulis file pakai Python juga.\n"
   ]
  },
  {
   "cell_type": "code",
   "execution_count": null,
   "id": "06350440",
   "metadata": {},
   "outputs": [],
   "source": [
    "# io handling simple\n",
    "with open(\"contoh_sederhana.txt\", \"w\") as file:\n",
    "    file.write(\"halo, ini adalah file teks sederhana\")"
   ]
  },
  {
   "cell_type": "code",
   "execution_count": 2,
   "id": "77097aea",
   "metadata": {},
   "outputs": [
    {
     "name": "stdout",
     "output_type": "stream",
     "text": [
      "halo, ini adalah file teks sederhana\n"
     ]
    }
   ],
   "source": [
    "with open(\"contoh_sederhana.txt\", \"r\") as file:\n",
    "    konten = file.read()\n",
    "    print(konten)"
   ]
  },
  {
   "cell_type": "markdown",
   "id": "49a32225",
   "metadata": {},
   "source": [
    "# Intermediate"
   ]
  },
  {
   "cell_type": "markdown",
   "id": "f36012b2",
   "metadata": {},
   "source": [
    "### Menyalin teks ke file baru"
   ]
  },
  {
   "cell_type": "code",
   "execution_count": null,
   "id": "e202e4a1",
   "metadata": {},
   "outputs": [
    {
     "name": "stdout",
     "output_type": "stream",
     "text": [
      "ayoyoyoy test dulu bos ku\n"
     ]
    }
   ],
   "source": [
    "# io handling untuk mengcopy file\n",
    "file_sumber = \"sumber.txt\"\n",
    "file_tujuan = \"tujuan.txt\"\n",
    "\n",
    "with open(file_sumber, \"r\") as sumber, open(file_tujuan, \"w\") as tujuan:\n",
    "    for baris in sumber:\n",
    "        tujuan.write(baris)\n",
    "        print(baris)\n"
   ]
  },
  {
   "cell_type": "markdown",
   "id": "3313e156",
   "metadata": {},
   "source": [
    "### menyalin teks pake shutil nih bos"
   ]
  },
  {
   "cell_type": "code",
   "execution_count": 5,
   "id": "507ce065",
   "metadata": {},
   "outputs": [
    {
     "data": {
      "text/plain": [
       "'tujuan.txt'"
      ]
     },
     "execution_count": 5,
     "metadata": {},
     "output_type": "execute_result"
    }
   ],
   "source": [
    "import shutil\n",
    "\n",
    "file_sumber = \"sumber.txt\"\n",
    "file_tujuan = \"tujuan.txt\"\n",
    "\n",
    "shutil.copyfile(file_sumber, file_tujuan)"
   ]
  },
  {
   "cell_type": "markdown",
   "id": "65fff3f4",
   "metadata": {},
   "source": [
    "# Advanced"
   ]
  },
  {
   "cell_type": "markdown",
   "id": "bf2919c7",
   "metadata": {},
   "source": [
    "### Membaca dan memanipulasi data csv"
   ]
  },
  {
   "cell_type": "code",
   "execution_count": null,
   "id": "d206e699",
   "metadata": {},
   "outputs": [
    {
     "name": "stdout",
     "output_type": "stream",
     "text": [
      "CSV file 'input.csv' has been created successfully.\n"
     ]
    }
   ],
   "source": [
    "# mantap juga ini tingkat advanced\n",
    "#\n",
    "import csv\n",
    "\n",
    "# Define the data as a list of dictionaries\n",
    "data = [\n",
    "    {\"Name\": \"Alice\", \"Score\": 85},\n",
    "    {\"Name\": \"Bob\", \"Score\": 92},\n",
    "    {\"Name\": \"Charlie\", \"Score\": 78},\n",
    "    {\"Name\": \"David\", \"Score\": 95},\n",
    "    {\"Name\": \"Eve\", \"Score\": 88},\n",
    "    {\"Name\": \"Frank\", \"Score\": 76}\n",
    "]\n",
    "\n",
    "# Specify the CSV file path\n",
    "output_csv = \"input.csv\"\n",
    "\n",
    "# Write the data to the CSV file\n",
    "with open(output_csv, \"w\", newline=\"\") as csvfile:\n",
    "    fieldnames = [\"Name\", \"Score\"]\n",
    "    writer = csv.DictWriter(csvfile, fieldnames=fieldnames)\n",
    "\n",
    "    # Write the header row\n",
    "    writer.writeheader()\n",
    "\n",
    "    # Write the data rows\n",
    "    for row in data:\n",
    "        writer.writerow(row)\n",
    "\n",
    "print(\"CSV file 'input.csv' has been created successfully.\")"
   ]
  },
  {
   "cell_type": "code",
   "execution_count": 7,
   "id": "34a58509",
   "metadata": {},
   "outputs": [
    {
     "name": "stdout",
     "output_type": "stream",
     "text": [
      "['Alice', 170]\n",
      "['Bob', 184]\n",
      "['Charlie', 156]\n",
      "['David', 190]\n",
      "['Eve', 176]\n",
      "['Frank', 152]\n"
     ]
    }
   ],
   "source": [
    "import csv\n",
    "\n",
    "file_input = \"input.csv\"\n",
    "file_output = \"output.csv\"\n",
    "\n",
    "with open(file_input, \"r\") as masukan, open(file_output, \"w\", newline=\"\") as keluaran:\n",
    "    pembaca = csv.reader(masukan)\n",
    "    penulis = csv.writer(keluaran)\n",
    "\n",
    "    # Skip the header row\n",
    "    next(pembaca)\n",
    "\n",
    "    # Contoh: Mengalikan nilai pada kolom kedua dengan 2\n",
    "    for baris in pembaca:\n",
    "        baruan_baris = [baris[0], int(baris[1]) * 2]  # Lakukan manipulasi data sesuai kebutuhan\n",
    "        print(baruan_baris)\n",
    "        penulis.writerow(baruan_baris)\n"
   ]
  },
  {
   "cell_type": "markdown",
   "id": "2bccc645",
   "metadata": {},
   "source": [
    "### Menyaring dan menulisa baris terpilih ke file csv baru"
   ]
  },
  {
   "cell_type": "code",
   "execution_count": 8,
   "id": "beb6eaef",
   "metadata": {},
   "outputs": [
    {
     "name": "stdout",
     "output_type": "stream",
     "text": [
      "['Bob', '92']\n",
      "['David', '95']\n"
     ]
    }
   ],
   "source": [
    "import csv\n",
    "\n",
    "file_input = \"input.csv\"\n",
    "file_output = \"output.csv\"\n",
    "\n",
    "with open(file_input, \"r\") as masukan, open(file_output, \"w\", newline=\"\") as keluaran:\n",
    "    pembaca = csv.reader(masukan)\n",
    "    penulis = csv.writer(keluaran)\n",
    "\n",
    "    next(pembaca)\n",
    "\n",
    "    for baris in pembaca:\n",
    "        if int(baris[1]) > 90:\n",
    "            penulis.writerow(baris)\n",
    "            print(baris)"
   ]
  },
  {
   "cell_type": "markdown",
   "id": "f81b6576",
   "metadata": {},
   "source": []
  }
 ],
 "metadata": {
  "kernelspec": {
   "display_name": "base",
   "language": "python",
   "name": "python3"
  },
  "language_info": {
   "codemirror_mode": {
    "name": "ipython",
    "version": 3
   },
   "file_extension": ".py",
   "mimetype": "text/x-python",
   "name": "python",
   "nbconvert_exporter": "python",
   "pygments_lexer": "ipython3",
   "version": "3.12.4"
  }
 },
 "nbformat": 4,
 "nbformat_minor": 5
}
