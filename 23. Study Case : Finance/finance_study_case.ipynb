{
 "cells": [
  {
   "cell_type": "markdown",
   "id": "bfc4ffd0",
   "metadata": {},
   "source": [
    "# Data analisis dan visualisasi data teknikal finance menggunakan piton\n",
    "\n",
    "### bagaiaman cara menggunakan python library seperti pandas, matplotlib dan seaborn untuk mendapatakan insights dari data harga volum stock harian dari pasar saham"
   ]
  },
  {
   "cell_type": "markdown",
   "id": "049337ff",
   "metadata": {},
   "source": [
    "# 1. Tentang Data nya\n",
    "\n",
    "For this analysis, 2 years of historical data from around mid-Feb 2018 to Feb 2020 of the below stocks listed on National Stock Exchange(NSE)— https://www1.nseindia.com/global/content/about_us/about_us.htm were used.\n",
    "\n",
    "- HDFC Ltd.\n",
    "- Sun Pharmaceutical Industries Ltd.\n",
    "- Tata Consultancy Services Ltd.\n",
    "- Jindal Steel & Power Ltd.\n",
    "- Jubilant FoodWorks Ltd.\n",
    "\n",
    "The selected stocks are from different sectors and market cap. For the start, we’ll investigate the HDFC stock individually and then move on to the combined analysis. For this section, the csv file of historical data of HDFC stock has been downloaded from Yahoo finance https://in.finance.yahoo.com/."
   ]
  },
  {
   "cell_type": "markdown",
   "id": "8577a855",
   "metadata": {},
   "source": [
    "# 2. Data Understanding and General Statistics\n",
    "\n",
    "import necessary libraries"
   ]
  },
  {
   "cell_type": "code",
   "execution_count": 1,
   "id": "60379989",
   "metadata": {},
   "outputs": [],
   "source": [
    "import numpy as np\n",
    "import pandas as pd\n",
    "import matplotlib.pyplot as plt\n",
    "import seaborn as sns\n",
    "import datetime\n",
    "import warnings\n",
    "warnings.filterwarnings('ignore')"
   ]
  },
  {
   "cell_type": "markdown",
   "id": "29ae4a23",
   "metadata": {},
   "source": [
    "Read data from csv file and display first few rows"
   ]
  },
  {
   "cell_type": "code",
   "execution_count": 2,
   "id": "e89cce30",
   "metadata": {},
   "outputs": [
    {
     "data": {
      "text/html": [
       "<div>\n",
       "<style scoped>\n",
       "    .dataframe tbody tr th:only-of-type {\n",
       "        vertical-align: middle;\n",
       "    }\n",
       "\n",
       "    .dataframe tbody tr th {\n",
       "        vertical-align: top;\n",
       "    }\n",
       "\n",
       "    .dataframe thead th {\n",
       "        text-align: right;\n",
       "    }\n",
       "</style>\n",
       "<table border=\"1\" class=\"dataframe\">\n",
       "  <thead>\n",
       "    <tr style=\"text-align: right;\">\n",
       "      <th></th>\n",
       "      <th>Date</th>\n",
       "      <th>Open</th>\n",
       "      <th>High</th>\n",
       "      <th>Low</th>\n",
       "      <th>Close</th>\n",
       "      <th>Adj Close</th>\n",
       "      <th>Volume</th>\n",
       "    </tr>\n",
       "  </thead>\n",
       "  <tbody>\n",
       "    <tr>\n",
       "      <th>0</th>\n",
       "      <td>2018-02-15</td>\n",
       "      <td>944.849976</td>\n",
       "      <td>947.375000</td>\n",
       "      <td>937.500000</td>\n",
       "      <td>940.950012</td>\n",
       "      <td>927.139465</td>\n",
       "      <td>2457612.0</td>\n",
       "    </tr>\n",
       "    <tr>\n",
       "      <th>1</th>\n",
       "      <td>2018-02-16</td>\n",
       "      <td>941.950012</td>\n",
       "      <td>947.424988</td>\n",
       "      <td>937.825012</td>\n",
       "      <td>939.299988</td>\n",
       "      <td>925.513611</td>\n",
       "      <td>1791760.0</td>\n",
       "    </tr>\n",
       "    <tr>\n",
       "      <th>2</th>\n",
       "      <td>2018-02-19</td>\n",
       "      <td>941.299988</td>\n",
       "      <td>943.799988</td>\n",
       "      <td>929.525024</td>\n",
       "      <td>939.099976</td>\n",
       "      <td>925.316528</td>\n",
       "      <td>1827276.0</td>\n",
       "    </tr>\n",
       "    <tr>\n",
       "      <th>3</th>\n",
       "      <td>2018-02-20</td>\n",
       "      <td>942.375000</td>\n",
       "      <td>942.924988</td>\n",
       "      <td>929.400024</td>\n",
       "      <td>931.599976</td>\n",
       "      <td>917.926697</td>\n",
       "      <td>2042034.0</td>\n",
       "    </tr>\n",
       "    <tr>\n",
       "      <th>4</th>\n",
       "      <td>2018-02-21</td>\n",
       "      <td>933.974976</td>\n",
       "      <td>934.275024</td>\n",
       "      <td>926.099976</td>\n",
       "      <td>928.700012</td>\n",
       "      <td>915.069214</td>\n",
       "      <td>1376536.0</td>\n",
       "    </tr>\n",
       "  </tbody>\n",
       "</table>\n",
       "</div>"
      ],
      "text/plain": [
       "         Date        Open        High         Low       Close   Adj Close  \\\n",
       "0  2018-02-15  944.849976  947.375000  937.500000  940.950012  927.139465   \n",
       "1  2018-02-16  941.950012  947.424988  937.825012  939.299988  925.513611   \n",
       "2  2018-02-19  941.299988  943.799988  929.525024  939.099976  925.316528   \n",
       "3  2018-02-20  942.375000  942.924988  929.400024  931.599976  917.926697   \n",
       "4  2018-02-21  933.974976  934.275024  926.099976  928.700012  915.069214   \n",
       "\n",
       "      Volume  \n",
       "0  2457612.0  \n",
       "1  1791760.0  \n",
       "2  1827276.0  \n",
       "3  2042034.0  \n",
       "4  1376536.0  "
      ]
     },
     "execution_count": 2,
     "metadata": {},
     "output_type": "execute_result"
    }
   ],
   "source": [
    "HDFC_df = pd.read_csv(\"Salinan HDFCBANK.NS.csv\")\n",
    "HDFC_df.head()"
   ]
  },
  {
   "cell_type": "markdown",
   "id": "637d9356",
   "metadata": {},
   "source": [
    "since out time-frame of analysis is large, we can relax on number of decimal places to consider."
   ]
  },
  {
   "cell_type": "code",
   "execution_count": 3,
   "id": "44c9c355",
   "metadata": {},
   "outputs": [
    {
     "data": {
      "text/html": [
       "<div>\n",
       "<style scoped>\n",
       "    .dataframe tbody tr th:only-of-type {\n",
       "        vertical-align: middle;\n",
       "    }\n",
       "\n",
       "    .dataframe tbody tr th {\n",
       "        vertical-align: top;\n",
       "    }\n",
       "\n",
       "    .dataframe thead th {\n",
       "        text-align: right;\n",
       "    }\n",
       "</style>\n",
       "<table border=\"1\" class=\"dataframe\">\n",
       "  <thead>\n",
       "    <tr style=\"text-align: right;\">\n",
       "      <th></th>\n",
       "      <th>Date</th>\n",
       "      <th>Open</th>\n",
       "      <th>High</th>\n",
       "      <th>Low</th>\n",
       "      <th>Close</th>\n",
       "      <th>Adj Close</th>\n",
       "      <th>Volume</th>\n",
       "    </tr>\n",
       "  </thead>\n",
       "  <tbody>\n",
       "    <tr>\n",
       "      <th>0</th>\n",
       "      <td>2018-02-15</td>\n",
       "      <td>944.85</td>\n",
       "      <td>947.38</td>\n",
       "      <td>937.50</td>\n",
       "      <td>940.95</td>\n",
       "      <td>927.14</td>\n",
       "      <td>2457612.0</td>\n",
       "    </tr>\n",
       "    <tr>\n",
       "      <th>1</th>\n",
       "      <td>2018-02-16</td>\n",
       "      <td>941.95</td>\n",
       "      <td>947.42</td>\n",
       "      <td>937.83</td>\n",
       "      <td>939.30</td>\n",
       "      <td>925.51</td>\n",
       "      <td>1791760.0</td>\n",
       "    </tr>\n",
       "    <tr>\n",
       "      <th>2</th>\n",
       "      <td>2018-02-19</td>\n",
       "      <td>941.30</td>\n",
       "      <td>943.80</td>\n",
       "      <td>929.53</td>\n",
       "      <td>939.10</td>\n",
       "      <td>925.32</td>\n",
       "      <td>1827276.0</td>\n",
       "    </tr>\n",
       "    <tr>\n",
       "      <th>3</th>\n",
       "      <td>2018-02-20</td>\n",
       "      <td>942.38</td>\n",
       "      <td>942.92</td>\n",
       "      <td>929.40</td>\n",
       "      <td>931.60</td>\n",
       "      <td>917.93</td>\n",
       "      <td>2042034.0</td>\n",
       "    </tr>\n",
       "    <tr>\n",
       "      <th>4</th>\n",
       "      <td>2018-02-21</td>\n",
       "      <td>933.97</td>\n",
       "      <td>934.28</td>\n",
       "      <td>926.10</td>\n",
       "      <td>928.70</td>\n",
       "      <td>915.07</td>\n",
       "      <td>1376536.0</td>\n",
       "    </tr>\n",
       "  </tbody>\n",
       "</table>\n",
       "</div>"
      ],
      "text/plain": [
       "         Date    Open    High     Low   Close  Adj Close     Volume\n",
       "0  2018-02-15  944.85  947.38  937.50  940.95     927.14  2457612.0\n",
       "1  2018-02-16  941.95  947.42  937.83  939.30     925.51  1791760.0\n",
       "2  2018-02-19  941.30  943.80  929.53  939.10     925.32  1827276.0\n",
       "3  2018-02-20  942.38  942.92  929.40  931.60     917.93  2042034.0\n",
       "4  2018-02-21  933.97  934.28  926.10  928.70     915.07  1376536.0"
      ]
     },
     "execution_count": 3,
     "metadata": {},
     "output_type": "execute_result"
    }
   ],
   "source": [
    "HDFC_df = HDFC_df.round(2)\n",
    "HDFC_df.head()"
   ]
  },
  {
   "cell_type": "markdown",
   "id": "c48be39c",
   "metadata": {},
   "source": [
    "better! lets determine the shape of dataset"
   ]
  },
  {
   "cell_type": "code",
   "execution_count": 4,
   "id": "004923e8",
   "metadata": {},
   "outputs": [
    {
     "data": {
      "text/plain": [
       "(491, 7)"
      ]
     },
     "execution_count": 4,
     "metadata": {},
     "output_type": "execute_result"
    }
   ],
   "source": [
    "HDFC_df.shape"
   ]
  },
  {
   "cell_type": "code",
   "execution_count": 5,
   "id": "88ba3bbd",
   "metadata": {},
   "outputs": [
    {
     "data": {
      "text/plain": [
       "Date         0\n",
       "Open         1\n",
       "High         1\n",
       "Low          1\n",
       "Close        1\n",
       "Adj Close    1\n",
       "Volume       1\n",
       "dtype: int64"
      ]
     },
     "execution_count": 5,
     "metadata": {},
     "output_type": "execute_result"
    }
   ],
   "source": [
    "HDFC_df.isnull().sum()"
   ]
  },
  {
   "cell_type": "markdown",
   "id": "ae7c44a9",
   "metadata": {},
   "source": [
    "kita buang yang null"
   ]
  },
  {
   "cell_type": "code",
   "execution_count": 6,
   "id": "9ff00e4b",
   "metadata": {},
   "outputs": [],
   "source": [
    "HDFC_df.dropna(inplace=True, axis=0)"
   ]
  },
  {
   "cell_type": "markdown",
   "id": "106c4da1",
   "metadata": {},
   "source": [
    "kita cek juga data type tiap column nya"
   ]
  },
  {
   "cell_type": "code",
   "execution_count": 7,
   "id": "54e225fd",
   "metadata": {},
   "outputs": [
    {
     "data": {
      "text/plain": [
       "Date          object\n",
       "Open         float64\n",
       "High         float64\n",
       "Low          float64\n",
       "Close        float64\n",
       "Adj Close    float64\n",
       "Volume       float64\n",
       "dtype: object"
      ]
     },
     "execution_count": 7,
     "metadata": {},
     "output_type": "execute_result"
    }
   ],
   "source": [
    "HDFC_df.dtypes"
   ]
  },
  {
   "cell_type": "markdown",
   "id": "15bc8fee",
   "metadata": {},
   "source": [
    "ternyata untuk kolom date nya harus diubah ke datetime\n",
    "kita pake pandas untuk merubah date ke datetime"
   ]
  },
  {
   "cell_type": "code",
   "execution_count": 8,
   "id": "b468373c",
   "metadata": {},
   "outputs": [
    {
     "data": {
      "text/html": [
       "<div>\n",
       "<style scoped>\n",
       "    .dataframe tbody tr th:only-of-type {\n",
       "        vertical-align: middle;\n",
       "    }\n",
       "\n",
       "    .dataframe tbody tr th {\n",
       "        vertical-align: top;\n",
       "    }\n",
       "\n",
       "    .dataframe thead th {\n",
       "        text-align: right;\n",
       "    }\n",
       "</style>\n",
       "<table border=\"1\" class=\"dataframe\">\n",
       "  <thead>\n",
       "    <tr style=\"text-align: right;\">\n",
       "      <th></th>\n",
       "      <th>Date</th>\n",
       "      <th>Open</th>\n",
       "      <th>High</th>\n",
       "      <th>Low</th>\n",
       "      <th>Close</th>\n",
       "      <th>Adj Close</th>\n",
       "      <th>Volume</th>\n",
       "    </tr>\n",
       "  </thead>\n",
       "  <tbody>\n",
       "    <tr>\n",
       "      <th>0</th>\n",
       "      <td>2018-02-15</td>\n",
       "      <td>944.85</td>\n",
       "      <td>947.38</td>\n",
       "      <td>937.50</td>\n",
       "      <td>940.95</td>\n",
       "      <td>927.14</td>\n",
       "      <td>2457612.0</td>\n",
       "    </tr>\n",
       "    <tr>\n",
       "      <th>1</th>\n",
       "      <td>2018-02-16</td>\n",
       "      <td>941.95</td>\n",
       "      <td>947.42</td>\n",
       "      <td>937.83</td>\n",
       "      <td>939.30</td>\n",
       "      <td>925.51</td>\n",
       "      <td>1791760.0</td>\n",
       "    </tr>\n",
       "    <tr>\n",
       "      <th>2</th>\n",
       "      <td>2018-02-19</td>\n",
       "      <td>941.30</td>\n",
       "      <td>943.80</td>\n",
       "      <td>929.53</td>\n",
       "      <td>939.10</td>\n",
       "      <td>925.32</td>\n",
       "      <td>1827276.0</td>\n",
       "    </tr>\n",
       "    <tr>\n",
       "      <th>3</th>\n",
       "      <td>2018-02-20</td>\n",
       "      <td>942.38</td>\n",
       "      <td>942.92</td>\n",
       "      <td>929.40</td>\n",
       "      <td>931.60</td>\n",
       "      <td>917.93</td>\n",
       "      <td>2042034.0</td>\n",
       "    </tr>\n",
       "    <tr>\n",
       "      <th>4</th>\n",
       "      <td>2018-02-21</td>\n",
       "      <td>933.97</td>\n",
       "      <td>934.28</td>\n",
       "      <td>926.10</td>\n",
       "      <td>928.70</td>\n",
       "      <td>915.07</td>\n",
       "      <td>1376536.0</td>\n",
       "    </tr>\n",
       "  </tbody>\n",
       "</table>\n",
       "</div>"
      ],
      "text/plain": [
       "        Date    Open    High     Low   Close  Adj Close     Volume\n",
       "0 2018-02-15  944.85  947.38  937.50  940.95     927.14  2457612.0\n",
       "1 2018-02-16  941.95  947.42  937.83  939.30     925.51  1791760.0\n",
       "2 2018-02-19  941.30  943.80  929.53  939.10     925.32  1827276.0\n",
       "3 2018-02-20  942.38  942.92  929.40  931.60     917.93  2042034.0\n",
       "4 2018-02-21  933.97  934.28  926.10  928.70     915.07  1376536.0"
      ]
     },
     "execution_count": 8,
     "metadata": {},
     "output_type": "execute_result"
    }
   ],
   "source": [
    "HDFC_df[\"Date\"] = pd.to_datetime(HDFC_df[\"Date\"])\n",
    "HDFC_df.head()"
   ]
  },
  {
   "cell_type": "code",
   "execution_count": 9,
   "id": "aa7f8bc9",
   "metadata": {},
   "outputs": [
    {
     "data": {
      "text/plain": [
       "Date         datetime64[ns]\n",
       "Open                float64\n",
       "High                float64\n",
       "Low                 float64\n",
       "Close               float64\n",
       "Adj Close           float64\n",
       "Volume              float64\n",
       "dtype: object"
      ]
     },
     "execution_count": 9,
     "metadata": {},
     "output_type": "execute_result"
    }
   ],
   "source": [
    "HDFC_df.dtypes"
   ]
  },
  {
   "cell_type": "markdown",
   "id": "6f370daf",
   "metadata": {},
   "source": [
    "data date sudah berubah ke format datetime"
   ]
  },
  {
   "cell_type": "code",
   "execution_count": 10,
   "id": "848519d9",
   "metadata": {},
   "outputs": [
    {
     "data": {
      "text/plain": [
       "pandas._libs.tslibs.timestamps.Timestamp"
      ]
     },
     "execution_count": 10,
     "metadata": {},
     "output_type": "execute_result"
    }
   ],
   "source": [
    "type(HDFC_df.loc[0, \"Date\"])"
   ]
  },
  {
   "cell_type": "markdown",
   "id": "133ed39d",
   "metadata": {},
   "source": [
    "lalu kita mengambil data date dari terakhir hingga pertama"
   ]
  },
  {
   "cell_type": "code",
   "execution_count": 11,
   "id": "90c1f3fa",
   "metadata": {},
   "outputs": [
    {
     "data": {
      "text/plain": [
       "Timedelta('729 days 00:00:00')"
      ]
     },
     "execution_count": 11,
     "metadata": {},
     "output_type": "execute_result"
    }
   ],
   "source": [
    "HDFC_df[\"Date\"].max() - HDFC_df[\"Date\"].min()"
   ]
  },
  {
   "cell_type": "markdown",
   "id": "2b173761",
   "metadata": {},
   "source": [
    "kita ngambil data 90 hari terakhir dari awal data"
   ]
  },
  {
   "cell_type": "code",
   "execution_count": 12,
   "id": "9eb35643",
   "metadata": {},
   "outputs": [
    {
     "data": {
      "text/plain": [
       "Date         datetime64[ns]\n",
       "Open                float64\n",
       "High                float64\n",
       "Low                 float64\n",
       "Close               float64\n",
       "Adj Close           float64\n",
       "Volume              float64\n",
       "dtype: object"
      ]
     },
     "execution_count": 12,
     "metadata": {},
     "output_type": "execute_result"
    }
   ],
   "source": [
    "HDFC_df.dtypes"
   ]
  },
  {
   "cell_type": "markdown",
   "id": "3929fe35",
   "metadata": {},
   "source": [
    "ada beberapa error tadi, karna tutorial nya masih lama, jadi ada beberap perubahan di pandas version terbaru, sehingga seharusnya date tidak terikut, namun masih terikut di operasi describe\n",
    "\n",
    "solusi nya = menggunakan slect_dtypes untuk filter tipe data yang diinginkan"
   ]
  },
  {
   "cell_type": "code",
   "execution_count": 13,
   "id": "756a11a5",
   "metadata": {},
   "outputs": [
    {
     "data": {
      "text/html": [
       "<div>\n",
       "<style scoped>\n",
       "    .dataframe tbody tr th:only-of-type {\n",
       "        vertical-align: middle;\n",
       "    }\n",
       "\n",
       "    .dataframe tbody tr th {\n",
       "        vertical-align: top;\n",
       "    }\n",
       "\n",
       "    .dataframe thead th {\n",
       "        text-align: right;\n",
       "    }\n",
       "</style>\n",
       "<table border=\"1\" class=\"dataframe\">\n",
       "  <thead>\n",
       "    <tr style=\"text-align: right;\">\n",
       "      <th></th>\n",
       "      <th>Open</th>\n",
       "      <th>High</th>\n",
       "      <th>Low</th>\n",
       "      <th>Close</th>\n",
       "      <th>Adj Close</th>\n",
       "      <th>Volume</th>\n",
       "    </tr>\n",
       "  </thead>\n",
       "  <tbody>\n",
       "    <tr>\n",
       "      <th>count</th>\n",
       "      <td>90</td>\n",
       "      <td>90</td>\n",
       "      <td>90</td>\n",
       "      <td>90</td>\n",
       "      <td>90</td>\n",
       "      <td>90</td>\n",
       "    </tr>\n",
       "    <tr>\n",
       "      <th>mean</th>\n",
       "      <td>1255</td>\n",
       "      <td>1263</td>\n",
       "      <td>1243</td>\n",
       "      <td>1252</td>\n",
       "      <td>1252</td>\n",
       "      <td>5973670</td>\n",
       "    </tr>\n",
       "    <tr>\n",
       "      <th>std</th>\n",
       "      <td>24</td>\n",
       "      <td>22</td>\n",
       "      <td>25</td>\n",
       "      <td>24</td>\n",
       "      <td>24</td>\n",
       "      <td>1824496</td>\n",
       "    </tr>\n",
       "    <tr>\n",
       "      <th>min</th>\n",
       "      <td>1197</td>\n",
       "      <td>1197</td>\n",
       "      <td>1177</td>\n",
       "      <td>1186</td>\n",
       "      <td>1186</td>\n",
       "      <td>1836849</td>\n",
       "    </tr>\n",
       "    <tr>\n",
       "      <th>25%</th>\n",
       "      <td>1242</td>\n",
       "      <td>1248</td>\n",
       "      <td>1227</td>\n",
       "      <td>1239</td>\n",
       "      <td>1239</td>\n",
       "      <td>4651834</td>\n",
       "    </tr>\n",
       "    <tr>\n",
       "      <th>50%</th>\n",
       "      <td>1256</td>\n",
       "      <td>1262</td>\n",
       "      <td>1243</td>\n",
       "      <td>1253</td>\n",
       "      <td>1253</td>\n",
       "      <td>5792594</td>\n",
       "    </tr>\n",
       "    <tr>\n",
       "      <th>75%</th>\n",
       "      <td>1276</td>\n",
       "      <td>1281</td>\n",
       "      <td>1264</td>\n",
       "      <td>1272</td>\n",
       "      <td>1272</td>\n",
       "      <td>6685996</td>\n",
       "    </tr>\n",
       "    <tr>\n",
       "      <th>max</th>\n",
       "      <td>1305</td>\n",
       "      <td>1305</td>\n",
       "      <td>1288</td>\n",
       "      <td>1302</td>\n",
       "      <td>1302</td>\n",
       "      <td>11256610</td>\n",
       "    </tr>\n",
       "  </tbody>\n",
       "</table>\n",
       "</div>"
      ],
      "text/plain": [
       "       Open  High   Low  Close  Adj Close    Volume\n",
       "count    90    90    90     90         90        90\n",
       "mean   1255  1263  1243   1252       1252   5973670\n",
       "std      24    22    25     24         24   1824496\n",
       "min    1197  1197  1177   1186       1186   1836849\n",
       "25%    1242  1248  1227   1239       1239   4651834\n",
       "50%    1256  1262  1243   1253       1253   5792594\n",
       "75%    1276  1281  1264   1272       1272   6685996\n",
       "max    1305  1305  1288   1302       1302  11256610"
      ]
     },
     "execution_count": 13,
     "metadata": {},
     "output_type": "execute_result"
    }
   ],
   "source": [
    "HDFC_df.iloc[-90:].select_dtypes(include=[\"number\"]).describe().astype(int)"
   ]
  },
  {
   "cell_type": "markdown",
   "id": "9ad85d1a",
   "metadata": {},
   "source": [
    "## 3. General variation in the stock price\n",
    "\n",
    "Sebelum kita melanjutkan ke penyelidikan lebih lanjut, kita akan mengatur kolom ‘Tanggal’ sebagai indeks dari dataframe. Hal ini memudahkan pembuatan plot."
   ]
  },
  {
   "cell_type": "code",
   "execution_count": 14,
   "id": "67e928f0",
   "metadata": {},
   "outputs": [],
   "source": [
    "HDFC_df.index = HDFC_df[\"Date\"]"
   ]
  },
  {
   "cell_type": "code",
   "execution_count": 15,
   "id": "1eca5aaa",
   "metadata": {},
   "outputs": [
    {
     "data": {
      "text/html": [
       "<div>\n",
       "<style scoped>\n",
       "    .dataframe tbody tr th:only-of-type {\n",
       "        vertical-align: middle;\n",
       "    }\n",
       "\n",
       "    .dataframe tbody tr th {\n",
       "        vertical-align: top;\n",
       "    }\n",
       "\n",
       "    .dataframe thead th {\n",
       "        text-align: right;\n",
       "    }\n",
       "</style>\n",
       "<table border=\"1\" class=\"dataframe\">\n",
       "  <thead>\n",
       "    <tr style=\"text-align: right;\">\n",
       "      <th></th>\n",
       "      <th>Date</th>\n",
       "      <th>Open</th>\n",
       "      <th>High</th>\n",
       "      <th>Low</th>\n",
       "      <th>Close</th>\n",
       "      <th>Adj Close</th>\n",
       "      <th>Volume</th>\n",
       "    </tr>\n",
       "    <tr>\n",
       "      <th>Date</th>\n",
       "      <th></th>\n",
       "      <th></th>\n",
       "      <th></th>\n",
       "      <th></th>\n",
       "      <th></th>\n",
       "      <th></th>\n",
       "      <th></th>\n",
       "    </tr>\n",
       "  </thead>\n",
       "  <tbody>\n",
       "    <tr>\n",
       "      <th>2018-02-15</th>\n",
       "      <td>2018-02-15</td>\n",
       "      <td>944.85</td>\n",
       "      <td>947.38</td>\n",
       "      <td>937.50</td>\n",
       "      <td>940.95</td>\n",
       "      <td>927.14</td>\n",
       "      <td>2457612.0</td>\n",
       "    </tr>\n",
       "    <tr>\n",
       "      <th>2018-02-16</th>\n",
       "      <td>2018-02-16</td>\n",
       "      <td>941.95</td>\n",
       "      <td>947.42</td>\n",
       "      <td>937.83</td>\n",
       "      <td>939.30</td>\n",
       "      <td>925.51</td>\n",
       "      <td>1791760.0</td>\n",
       "    </tr>\n",
       "    <tr>\n",
       "      <th>2018-02-19</th>\n",
       "      <td>2018-02-19</td>\n",
       "      <td>941.30</td>\n",
       "      <td>943.80</td>\n",
       "      <td>929.53</td>\n",
       "      <td>939.10</td>\n",
       "      <td>925.32</td>\n",
       "      <td>1827276.0</td>\n",
       "    </tr>\n",
       "    <tr>\n",
       "      <th>2018-02-20</th>\n",
       "      <td>2018-02-20</td>\n",
       "      <td>942.38</td>\n",
       "      <td>942.92</td>\n",
       "      <td>929.40</td>\n",
       "      <td>931.60</td>\n",
       "      <td>917.93</td>\n",
       "      <td>2042034.0</td>\n",
       "    </tr>\n",
       "    <tr>\n",
       "      <th>2018-02-21</th>\n",
       "      <td>2018-02-21</td>\n",
       "      <td>933.97</td>\n",
       "      <td>934.28</td>\n",
       "      <td>926.10</td>\n",
       "      <td>928.70</td>\n",
       "      <td>915.07</td>\n",
       "      <td>1376536.0</td>\n",
       "    </tr>\n",
       "  </tbody>\n",
       "</table>\n",
       "</div>"
      ],
      "text/plain": [
       "                 Date    Open    High     Low   Close  Adj Close     Volume\n",
       "Date                                                                       \n",
       "2018-02-15 2018-02-15  944.85  947.38  937.50  940.95     927.14  2457612.0\n",
       "2018-02-16 2018-02-16  941.95  947.42  937.83  939.30     925.51  1791760.0\n",
       "2018-02-19 2018-02-19  941.30  943.80  929.53  939.10     925.32  1827276.0\n",
       "2018-02-20 2018-02-20  942.38  942.92  929.40  931.60     917.93  2042034.0\n",
       "2018-02-21 2018-02-21  933.97  934.28  926.10  928.70     915.07  1376536.0"
      ]
     },
     "execution_count": 15,
     "metadata": {},
     "output_type": "execute_result"
    }
   ],
   "source": [
    "HDFC_df.head()"
   ]
  },
  {
   "cell_type": "markdown",
   "id": "97f5f95f",
   "metadata": {},
   "source": [
    "sekarang kita plot closing price dari stock dari periode 2 tahun untuk mendapatkan insight tentang general variation dalam harga stock tersebut"
   ]
  },
  {
   "cell_type": "code",
   "execution_count": 16,
   "id": "fb00b569",
   "metadata": {},
   "outputs": [
    {
     "data": {
      "image/png": "[encoded data removed]",
      "text/plain": [
       "<Figure size 1200x800 with 1 Axes>"
      ]
     },
     "metadata": {},
     "output_type": "display_data"
    }
   ],
   "source": [
    "HDFC_df[\"Adj Close\"].plot(\n",
    "    figsize=(12, 8),\n",
    "    title=\"HDFC Stock Price\",\n",
    ")\n",
    "plt.show()"
   ]
  },
  {
   "cell_type": "markdown",
   "id": "96d14aad",
   "metadata": {},
   "source": [
    "In the above plot, if you notice, there is a drastic decrease in the price of stock sometime around the month of September 2018. Apart from the “September effect”, the general decline in the stock price of HDFC can be attributed to the escalating tariff war between the US and China: https://www.vox.com/world/2018/7/6/17542482/china-trump-trade-war-tariffs that had a ripple effect on Indian financial markets."
   ]
  },
  {
   "cell_type": "markdown",
   "id": "3fd8729f",
   "metadata": {},
   "source": [
    "## 4. Day-to-day percentage change(Daily returns)\n",
    "\n",
    "Daily percentage change in the price of the stock is calculated on the basis of percentage change between 2 consecutive days’ closing prices. Let’s say if the closing price of the stock yesterday was ₹500 and today the stock closed as ₹550. So, the percentage change is 10%. i.e. ((550–500) / 500)*100. No mystery here!\n",
    "\n",
    "Accordingly, we’ll introduce a new column ‘Day_Perc_Change’ denoting the daily returns in the price of the stock. This can be done using in-built pct_change() function in python."
   ]
  },
  {
   "cell_type": "markdown",
   "id": "e69a6e4f",
   "metadata": {},
   "source": [
    "Great question!\n",
    "\n",
    "```python\n",
    "HDFC_df[\"Day_Perc_Change\"] = HDFC_df[\"Adj Close\"].pct_change() * 1\n",
    "```\n",
    "\n",
    "### 🔍 Apa itu `pct_change()`?\n",
    "\n",
    "`pct_change()` adalah fungsi di **pandas** untuk menghitung **persentase perubahan** antar baris dalam kolom numerik.\n",
    "\n",
    "> 🔢 Artinya:\n",
    "> **Seberapa besar perubahan (naik/turun) dari baris sebelumnya ke baris sekarang**, dalam bentuk **persentase**.\n",
    "\n",
    "---\n",
    "\n",
    "### 📘 Rumus `pct_change()`:\n",
    "\n",
    "Untuk baris ke-*i*:\n",
    "\n",
    "```text\n",
    "(df[i] - df[i-1]) / df[i-1]\n",
    "```\n",
    "\n",
    "Misalnya:\n",
    "\n",
    "| Hari | Adj Close |\n",
    "| ---- | --------- |\n",
    "| 1    | 100       |\n",
    "| 2    | 110       |\n",
    "| 3    | 90        |\n",
    "\n",
    "Maka:\n",
    "\n",
    "* Hari 2: `(110 - 100) / 100 = 0.10` → naik 10%\n",
    "* Hari 3: `(90 - 110) / 110 = -0.1818` → turun \\~18.18%\n",
    "\n",
    "---\n",
    "\n",
    "### 🤔 Kenapa dikali `* 1`?\n",
    "\n",
    "Jawabannya: **tidak ngaruh apa-apa**.\n",
    "Itu mungkin hanya placeholder atau keliru.\n",
    "\n",
    "Kalau ingin jadi **persen (dalam %)**, seharusnya:\n",
    "\n",
    "```python\n",
    "HDFC_df[\"Day_Perc_Change\"] = HDFC_df[\"Adj Close\"].pct_change() * 100\n",
    "```\n",
    "\n",
    "Agar hasilnya jadi:\n",
    "\n",
    "| Hari | Adj Close | Day\\_Perc\\_Change |\n",
    "| ---- | --------- | ----------------- |\n",
    "| 1    | 100       | NaN               |\n",
    "| 2    | 110       | 10.0              |\n",
    "| 3    | 90        | -18.18            |\n",
    "\n",
    "---\n",
    "\n",
    "### 🧠 Catatan:\n",
    "\n",
    "* Baris pertama hasilnya `NaN`, karena tidak ada data sebelumnya untuk dibandingkan.\n",
    "* Gunakan `.fillna(0)` jika kamu mau isi awalnya jadi nol:\n",
    "\n",
    "  ```python\n",
    "  HDFC_df[\"Day_Perc_Change\"] = HDFC_df[\"Adj Close\"].pct_change().fillna(0) * 100\n",
    "  ```\n",
    "\n",
    "---\n"
   ]
  },
  {
   "cell_type": "code",
   "execution_count": 18,
   "id": "ecad83e4",
   "metadata": {},
   "outputs": [
    {
     "data": {
      "text/html": [
       "<div>\n",
       "<style scoped>\n",
       "    .dataframe tbody tr th:only-of-type {\n",
       "        vertical-align: middle;\n",
       "    }\n",
       "\n",
       "    .dataframe tbody tr th {\n",
       "        vertical-align: top;\n",
       "    }\n",
       "\n",
       "    .dataframe thead th {\n",
       "        text-align: right;\n",
       "    }\n",
       "</style>\n",
       "<table border=\"1\" class=\"dataframe\">\n",
       "  <thead>\n",
       "    <tr style=\"text-align: right;\">\n",
       "      <th></th>\n",
       "      <th>Date</th>\n",
       "      <th>Open</th>\n",
       "      <th>High</th>\n",
       "      <th>Low</th>\n",
       "      <th>Close</th>\n",
       "      <th>Adj Close</th>\n",
       "      <th>Volume</th>\n",
       "      <th>Day_Perc_Change</th>\n",
       "    </tr>\n",
       "    <tr>\n",
       "      <th>Date</th>\n",
       "      <th></th>\n",
       "      <th></th>\n",
       "      <th></th>\n",
       "      <th></th>\n",
       "      <th></th>\n",
       "      <th></th>\n",
       "      <th></th>\n",
       "      <th></th>\n",
       "    </tr>\n",
       "  </thead>\n",
       "  <tbody>\n",
       "    <tr>\n",
       "      <th>2018-02-15</th>\n",
       "      <td>2018-02-15</td>\n",
       "      <td>944.85</td>\n",
       "      <td>947.38</td>\n",
       "      <td>937.50</td>\n",
       "      <td>940.95</td>\n",
       "      <td>927.14</td>\n",
       "      <td>2457612.0</td>\n",
       "      <td>NaN</td>\n",
       "    </tr>\n",
       "    <tr>\n",
       "      <th>2018-02-16</th>\n",
       "      <td>2018-02-16</td>\n",
       "      <td>941.95</td>\n",
       "      <td>947.42</td>\n",
       "      <td>937.83</td>\n",
       "      <td>939.30</td>\n",
       "      <td>925.51</td>\n",
       "      <td>1791760.0</td>\n",
       "      <td>-0.175809</td>\n",
       "    </tr>\n",
       "    <tr>\n",
       "      <th>2018-02-19</th>\n",
       "      <td>2018-02-19</td>\n",
       "      <td>941.30</td>\n",
       "      <td>943.80</td>\n",
       "      <td>929.53</td>\n",
       "      <td>939.10</td>\n",
       "      <td>925.32</td>\n",
       "      <td>1827276.0</td>\n",
       "      <td>-0.020529</td>\n",
       "    </tr>\n",
       "    <tr>\n",
       "      <th>2018-02-20</th>\n",
       "      <td>2018-02-20</td>\n",
       "      <td>942.38</td>\n",
       "      <td>942.92</td>\n",
       "      <td>929.40</td>\n",
       "      <td>931.60</td>\n",
       "      <td>917.93</td>\n",
       "      <td>2042034.0</td>\n",
       "      <td>-0.798643</td>\n",
       "    </tr>\n",
       "    <tr>\n",
       "      <th>2018-02-21</th>\n",
       "      <td>2018-02-21</td>\n",
       "      <td>933.97</td>\n",
       "      <td>934.28</td>\n",
       "      <td>926.10</td>\n",
       "      <td>928.70</td>\n",
       "      <td>915.07</td>\n",
       "      <td>1376536.0</td>\n",
       "      <td>-0.311571</td>\n",
       "    </tr>\n",
       "  </tbody>\n",
       "</table>\n",
       "</div>"
      ],
      "text/plain": [
       "                 Date    Open    High     Low   Close  Adj Close     Volume  \\\n",
       "Date                                                                          \n",
       "2018-02-15 2018-02-15  944.85  947.38  937.50  940.95     927.14  2457612.0   \n",
       "2018-02-16 2018-02-16  941.95  947.42  937.83  939.30     925.51  1791760.0   \n",
       "2018-02-19 2018-02-19  941.30  943.80  929.53  939.10     925.32  1827276.0   \n",
       "2018-02-20 2018-02-20  942.38  942.92  929.40  931.60     917.93  2042034.0   \n",
       "2018-02-21 2018-02-21  933.97  934.28  926.10  928.70     915.07  1376536.0   \n",
       "\n",
       "            Day_Perc_Change  \n",
       "Date                         \n",
       "2018-02-15              NaN  \n",
       "2018-02-16        -0.175809  \n",
       "2018-02-19        -0.020529  \n",
       "2018-02-20        -0.798643  \n",
       "2018-02-21        -0.311571  "
      ]
     },
     "execution_count": 18,
     "metadata": {},
     "output_type": "execute_result"
    }
   ],
   "source": [
    "HDFC_df[\"Day_Perc_Change\"] = HDFC_df[\"Adj Close\"].pct_change()*100\n",
    "HDFC_df.head()"
   ]
  },
  {
   "cell_type": "markdown",
   "id": "a035818d",
   "metadata": {},
   "source": [
    "You’ll notice that the first value in the ‘Day_Perc_Change’ column is NaN. We’ll drop this row."
   ]
  },
  {
   "cell_type": "code",
   "execution_count": 19,
   "id": "c8e862b1",
   "metadata": {},
   "outputs": [],
   "source": [
    "# menghapus bari pertama yang hasil pct_change = NaN\n",
    "HDFC_df.dropna(axis = 0, inplace = True)"
   ]
  },
  {
   "cell_type": "code",
   "execution_count": 20,
   "id": "776ba179",
   "metadata": {},
   "outputs": [
    {
     "data": {
      "text/html": [
       "<div>\n",
       "<style scoped>\n",
       "    .dataframe tbody tr th:only-of-type {\n",
       "        vertical-align: middle;\n",
       "    }\n",
       "\n",
       "    .dataframe tbody tr th {\n",
       "        vertical-align: top;\n",
       "    }\n",
       "\n",
       "    .dataframe thead th {\n",
       "        text-align: right;\n",
       "    }\n",
       "</style>\n",
       "<table border=\"1\" class=\"dataframe\">\n",
       "  <thead>\n",
       "    <tr style=\"text-align: right;\">\n",
       "      <th></th>\n",
       "      <th>Date</th>\n",
       "      <th>Open</th>\n",
       "      <th>High</th>\n",
       "      <th>Low</th>\n",
       "      <th>Close</th>\n",
       "      <th>Adj Close</th>\n",
       "      <th>Volume</th>\n",
       "      <th>Day_Perc_Change</th>\n",
       "    </tr>\n",
       "    <tr>\n",
       "      <th>Date</th>\n",
       "      <th></th>\n",
       "      <th></th>\n",
       "      <th></th>\n",
       "      <th></th>\n",
       "      <th></th>\n",
       "      <th></th>\n",
       "      <th></th>\n",
       "      <th></th>\n",
       "    </tr>\n",
       "  </thead>\n",
       "  <tbody>\n",
       "    <tr>\n",
       "      <th>2018-02-16</th>\n",
       "      <td>2018-02-16</td>\n",
       "      <td>941.95</td>\n",
       "      <td>947.42</td>\n",
       "      <td>937.83</td>\n",
       "      <td>939.3</td>\n",
       "      <td>925.51</td>\n",
       "      <td>1791760.0</td>\n",
       "      <td>-0.175809</td>\n",
       "    </tr>\n",
       "    <tr>\n",
       "      <th>2018-02-19</th>\n",
       "      <td>2018-02-19</td>\n",
       "      <td>941.30</td>\n",
       "      <td>943.80</td>\n",
       "      <td>929.53</td>\n",
       "      <td>939.1</td>\n",
       "      <td>925.32</td>\n",
       "      <td>1827276.0</td>\n",
       "      <td>-0.020529</td>\n",
       "    </tr>\n",
       "    <tr>\n",
       "      <th>2018-02-20</th>\n",
       "      <td>2018-02-20</td>\n",
       "      <td>942.38</td>\n",
       "      <td>942.92</td>\n",
       "      <td>929.40</td>\n",
       "      <td>931.6</td>\n",
       "      <td>917.93</td>\n",
       "      <td>2042034.0</td>\n",
       "      <td>-0.798643</td>\n",
       "    </tr>\n",
       "    <tr>\n",
       "      <th>2018-02-21</th>\n",
       "      <td>2018-02-21</td>\n",
       "      <td>933.97</td>\n",
       "      <td>934.28</td>\n",
       "      <td>926.10</td>\n",
       "      <td>928.7</td>\n",
       "      <td>915.07</td>\n",
       "      <td>1376536.0</td>\n",
       "      <td>-0.311571</td>\n",
       "    </tr>\n",
       "    <tr>\n",
       "      <th>2018-02-22</th>\n",
       "      <td>2018-02-22</td>\n",
       "      <td>925.00</td>\n",
       "      <td>930.00</td>\n",
       "      <td>920.78</td>\n",
       "      <td>926.6</td>\n",
       "      <td>913.00</td>\n",
       "      <td>6626798.0</td>\n",
       "      <td>-0.226212</td>\n",
       "    </tr>\n",
       "  </tbody>\n",
       "</table>\n",
       "</div>"
      ],
      "text/plain": [
       "                 Date    Open    High     Low  Close  Adj Close     Volume  \\\n",
       "Date                                                                         \n",
       "2018-02-16 2018-02-16  941.95  947.42  937.83  939.3     925.51  1791760.0   \n",
       "2018-02-19 2018-02-19  941.30  943.80  929.53  939.1     925.32  1827276.0   \n",
       "2018-02-20 2018-02-20  942.38  942.92  929.40  931.6     917.93  2042034.0   \n",
       "2018-02-21 2018-02-21  933.97  934.28  926.10  928.7     915.07  1376536.0   \n",
       "2018-02-22 2018-02-22  925.00  930.00  920.78  926.6     913.00  6626798.0   \n",
       "\n",
       "            Day_Perc_Change  \n",
       "Date                         \n",
       "2018-02-16        -0.175809  \n",
       "2018-02-19        -0.020529  \n",
       "2018-02-20        -0.798643  \n",
       "2018-02-21        -0.311571  \n",
       "2018-02-22        -0.226212  "
      ]
     },
     "execution_count": 20,
     "metadata": {},
     "output_type": "execute_result"
    }
   ],
   "source": [
    "HDFC_df.head()"
   ]
  },
  {
   "cell_type": "markdown",
   "id": "f609596f",
   "metadata": {},
   "source": [
    "Representing daily returns in form of a plot —"
   ]
  },
  {
   "cell_type": "code",
   "execution_count": 21,
   "id": "2ef4b245",
   "metadata": {},
   "outputs": [
    {
     "data": {
      "text/plain": [
       "<Axes: xlabel='Date'>"
      ]
     },
     "execution_count": 21,
     "metadata": {},
     "output_type": "execute_result"
    },
    {
     "data": {
      "image/png": "[encoded data removed]",
      "text/plain": [
       "<Figure size 1200x600 with 1 Axes>"
      ]
     },
     "metadata": {},
     "output_type": "display_data"
    }
   ],
   "source": [
    "HDFC_df[\"Day_Perc_Change\"].plot(figsize = (12, 6), fontsize = 12)"
   ]
  },
  {
   "cell_type": "markdown",
   "id": "369ad1af",
   "metadata": {},
   "source": [
    "It can be observed that for most of the days, the returns are between -2% to 2% with few spikes in between crossing 6% mark on both the sides."
   ]
  },
  {
   "cell_type": "markdown",
   "id": "65066320",
   "metadata": {},
   "source": [
    "Likewise you can find similar news articles for the days when there was drastic rise/fall in the price of the stock.\n",
    "\n",
    "Plotting daily returns distribution histogram —"
   ]
  },
  {
   "cell_type": "code",
   "execution_count": 22,
   "id": "686aa690",
   "metadata": {},
   "outputs": [
    {
     "data": {
      "image/png": "[encoded data removed]",
      "text/plain": [
       "<Figure size 1000x500 with 1 Axes>"
      ]
     },
     "metadata": {},
     "output_type": "display_data"
    },
    {
     "data": {
      "text/plain": [
       "count    489.000000\n",
       "mean       0.062724\n",
       "std        1.162384\n",
       "min       -3.614446\n",
       "25%       -0.596775\n",
       "50%        0.020391\n",
       "75%        0.693165\n",
       "max        8.950547\n",
       "Name: Day_Perc_Change, dtype: float64"
      ]
     },
     "execution_count": 22,
     "metadata": {},
     "output_type": "execute_result"
    }
   ],
   "source": [
    "HDFC_df[\"Day_Perc_Change\"].hist(\n",
    "    bins= 50,\n",
    "    figsize=(10, 5)\n",
    ")\n",
    "\n",
    "plt.xlabel(\"Daily Returns\")\n",
    "plt.ylabel(\"Frequency\")\n",
    "plt.show()\n",
    "\n",
    "HDFC_df.Day_Perc_Change.describe()"
   ]
  },
  {
   "cell_type": "code",
   "execution_count": null,
   "id": "319eab1f",
   "metadata": {},
   "outputs": [],
   "source": []
  }
 ],
 "metadata": {
  "kernelspec": {
   "display_name": "base",
   "language": "python",
   "name": "python3"
  },
  "language_info": {
   "codemirror_mode": {
    "name": "ipython",
    "version": 3
   },
   "file_extension": ".py",
   "mimetype": "text/x-python",
   "name": "python",
   "nbconvert_exporter": "python",
   "pygments_lexer": "ipython3",
   "version": "3.12.4"
  }
 },
 "nbformat": 4,
 "nbformat_minor": 5
}
