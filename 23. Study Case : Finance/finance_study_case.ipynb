{
 "cells": [
  {
   "cell_type": "markdown",
   "id": "bfc4ffd0",
   "metadata": {},
   "source": [
    "# Data analisis dan visualisasi data teknikal finance menggunakan piton\n",
    "\n",
    "### bagaiaman cara menggunakan python library seperti pandas, matplotlib dan seaborn untuk mendapatakan insights dari data harga volum stock harian dari pasar saham"
   ]
  },
  {
   "cell_type": "markdown",
   "id": "049337ff",
   "metadata": {},
   "source": [
    "# 1. Tentang Data nya\n",
    "\n",
    "For this analysis, 2 years of historical data from around mid-Feb 2018 to Feb 2020 of the below stocks listed on National Stock Exchange(NSE)— https://www1.nseindia.com/global/content/about_us/about_us.htm were used.\n",
    "\n",
    "- HDFC Ltd.\n",
    "- Sun Pharmaceutical Industries Ltd.\n",
    "- Tata Consultancy Services Ltd.\n",
    "- Jindal Steel & Power Ltd.\n",
    "- Jubilant FoodWorks Ltd.\n",
    "\n",
    "The selected stocks are from different sectors and market cap. For the start, we’ll investigate the HDFC stock individually and then move on to the combined analysis. For this section, the csv file of historical data of HDFC stock has been downloaded from Yahoo finance https://in.finance.yahoo.com/."
   ]
  },
  {
   "cell_type": "markdown",
   "id": "8577a855",
   "metadata": {},
   "source": [
    "# 2. Data Understanding and General Statistics\n",
    "\n",
    "import necessary libraries"
   ]
  },
  {
   "cell_type": "code",
   "execution_count": 1,
   "id": "60379989",
   "metadata": {},
   "outputs": [],
   "source": [
    "import numpy as np\n",
    "import pandas as pd\n",
    "import matplotlib.pyplot as plt\n",
    "import seaborn as sns\n",
    "import datetime\n",
    "import warnings\n",
    "warnings.filterwarnings('ignore')"
   ]
  },
  {
   "cell_type": "markdown",
   "id": "29ae4a23",
   "metadata": {},
   "source": [
    "Read data from csv file and display first few rows"
   ]
  },
  {
   "cell_type": "code",
   "execution_count": 3,
   "id": "e89cce30",
   "metadata": {},
   "outputs": [
    {
     "data": {
      "text/html": [
       "<div>\n",
       "<style scoped>\n",
       "    .dataframe tbody tr th:only-of-type {\n",
       "        vertical-align: middle;\n",
       "    }\n",
       "\n",
       "    .dataframe tbody tr th {\n",
       "        vertical-align: top;\n",
       "    }\n",
       "\n",
       "    .dataframe thead th {\n",
       "        text-align: right;\n",
       "    }\n",
       "</style>\n",
       "<table border=\"1\" class=\"dataframe\">\n",
       "  <thead>\n",
       "    <tr style=\"text-align: right;\">\n",
       "      <th></th>\n",
       "      <th>Date</th>\n",
       "      <th>Open</th>\n",
       "      <th>High</th>\n",
       "      <th>Low</th>\n",
       "      <th>Close</th>\n",
       "      <th>Adj Close</th>\n",
       "      <th>Volume</th>\n",
       "    </tr>\n",
       "  </thead>\n",
       "  <tbody>\n",
       "    <tr>\n",
       "      <th>0</th>\n",
       "      <td>2018-02-15</td>\n",
       "      <td>944.849976</td>\n",
       "      <td>947.375000</td>\n",
       "      <td>937.500000</td>\n",
       "      <td>940.950012</td>\n",
       "      <td>927.139465</td>\n",
       "      <td>2457612.0</td>\n",
       "    </tr>\n",
       "    <tr>\n",
       "      <th>1</th>\n",
       "      <td>2018-02-16</td>\n",
       "      <td>941.950012</td>\n",
       "      <td>947.424988</td>\n",
       "      <td>937.825012</td>\n",
       "      <td>939.299988</td>\n",
       "      <td>925.513611</td>\n",
       "      <td>1791760.0</td>\n",
       "    </tr>\n",
       "    <tr>\n",
       "      <th>2</th>\n",
       "      <td>2018-02-19</td>\n",
       "      <td>941.299988</td>\n",
       "      <td>943.799988</td>\n",
       "      <td>929.525024</td>\n",
       "      <td>939.099976</td>\n",
       "      <td>925.316528</td>\n",
       "      <td>1827276.0</td>\n",
       "    </tr>\n",
       "    <tr>\n",
       "      <th>3</th>\n",
       "      <td>2018-02-20</td>\n",
       "      <td>942.375000</td>\n",
       "      <td>942.924988</td>\n",
       "      <td>929.400024</td>\n",
       "      <td>931.599976</td>\n",
       "      <td>917.926697</td>\n",
       "      <td>2042034.0</td>\n",
       "    </tr>\n",
       "    <tr>\n",
       "      <th>4</th>\n",
       "      <td>2018-02-21</td>\n",
       "      <td>933.974976</td>\n",
       "      <td>934.275024</td>\n",
       "      <td>926.099976</td>\n",
       "      <td>928.700012</td>\n",
       "      <td>915.069214</td>\n",
       "      <td>1376536.0</td>\n",
       "    </tr>\n",
       "  </tbody>\n",
       "</table>\n",
       "</div>"
      ],
      "text/plain": [
       "         Date        Open        High         Low       Close   Adj Close  \\\n",
       "0  2018-02-15  944.849976  947.375000  937.500000  940.950012  927.139465   \n",
       "1  2018-02-16  941.950012  947.424988  937.825012  939.299988  925.513611   \n",
       "2  2018-02-19  941.299988  943.799988  929.525024  939.099976  925.316528   \n",
       "3  2018-02-20  942.375000  942.924988  929.400024  931.599976  917.926697   \n",
       "4  2018-02-21  933.974976  934.275024  926.099976  928.700012  915.069214   \n",
       "\n",
       "      Volume  \n",
       "0  2457612.0  \n",
       "1  1791760.0  \n",
       "2  1827276.0  \n",
       "3  2042034.0  \n",
       "4  1376536.0  "
      ]
     },
     "execution_count": 3,
     "metadata": {},
     "output_type": "execute_result"
    }
   ],
   "source": [
    "HDFC_df = pd.read_csv(\"Salinan HDFCBANK.NS.csv\")\n",
    "HDFC_df.head()"
   ]
  },
  {
   "cell_type": "markdown",
   "id": "637d9356",
   "metadata": {},
   "source": [
    "since out time-frame of analysis is large, we can relax on number of decimal places to consider."
   ]
  },
  {
   "cell_type": "code",
   "execution_count": 4,
   "id": "44c9c355",
   "metadata": {},
   "outputs": [
    {
     "data": {
      "text/html": [
       "<div>\n",
       "<style scoped>\n",
       "    .dataframe tbody tr th:only-of-type {\n",
       "        vertical-align: middle;\n",
       "    }\n",
       "\n",
       "    .dataframe tbody tr th {\n",
       "        vertical-align: top;\n",
       "    }\n",
       "\n",
       "    .dataframe thead th {\n",
       "        text-align: right;\n",
       "    }\n",
       "</style>\n",
       "<table border=\"1\" class=\"dataframe\">\n",
       "  <thead>\n",
       "    <tr style=\"text-align: right;\">\n",
       "      <th></th>\n",
       "      <th>Date</th>\n",
       "      <th>Open</th>\n",
       "      <th>High</th>\n",
       "      <th>Low</th>\n",
       "      <th>Close</th>\n",
       "      <th>Adj Close</th>\n",
       "      <th>Volume</th>\n",
       "    </tr>\n",
       "  </thead>\n",
       "  <tbody>\n",
       "    <tr>\n",
       "      <th>0</th>\n",
       "      <td>2018-02-15</td>\n",
       "      <td>944.85</td>\n",
       "      <td>947.38</td>\n",
       "      <td>937.50</td>\n",
       "      <td>940.95</td>\n",
       "      <td>927.14</td>\n",
       "      <td>2457612.0</td>\n",
       "    </tr>\n",
       "    <tr>\n",
       "      <th>1</th>\n",
       "      <td>2018-02-16</td>\n",
       "      <td>941.95</td>\n",
       "      <td>947.42</td>\n",
       "      <td>937.83</td>\n",
       "      <td>939.30</td>\n",
       "      <td>925.51</td>\n",
       "      <td>1791760.0</td>\n",
       "    </tr>\n",
       "    <tr>\n",
       "      <th>2</th>\n",
       "      <td>2018-02-19</td>\n",
       "      <td>941.30</td>\n",
       "      <td>943.80</td>\n",
       "      <td>929.53</td>\n",
       "      <td>939.10</td>\n",
       "      <td>925.32</td>\n",
       "      <td>1827276.0</td>\n",
       "    </tr>\n",
       "    <tr>\n",
       "      <th>3</th>\n",
       "      <td>2018-02-20</td>\n",
       "      <td>942.38</td>\n",
       "      <td>942.92</td>\n",
       "      <td>929.40</td>\n",
       "      <td>931.60</td>\n",
       "      <td>917.93</td>\n",
       "      <td>2042034.0</td>\n",
       "    </tr>\n",
       "    <tr>\n",
       "      <th>4</th>\n",
       "      <td>2018-02-21</td>\n",
       "      <td>933.97</td>\n",
       "      <td>934.28</td>\n",
       "      <td>926.10</td>\n",
       "      <td>928.70</td>\n",
       "      <td>915.07</td>\n",
       "      <td>1376536.0</td>\n",
       "    </tr>\n",
       "  </tbody>\n",
       "</table>\n",
       "</div>"
      ],
      "text/plain": [
       "         Date    Open    High     Low   Close  Adj Close     Volume\n",
       "0  2018-02-15  944.85  947.38  937.50  940.95     927.14  2457612.0\n",
       "1  2018-02-16  941.95  947.42  937.83  939.30     925.51  1791760.0\n",
       "2  2018-02-19  941.30  943.80  929.53  939.10     925.32  1827276.0\n",
       "3  2018-02-20  942.38  942.92  929.40  931.60     917.93  2042034.0\n",
       "4  2018-02-21  933.97  934.28  926.10  928.70     915.07  1376536.0"
      ]
     },
     "execution_count": 4,
     "metadata": {},
     "output_type": "execute_result"
    }
   ],
   "source": [
    "HDFC_df = HDFC_df.round(2)\n",
    "HDFC_df.head()"
   ]
  },
  {
   "cell_type": "markdown",
   "id": "c48be39c",
   "metadata": {},
   "source": [
    "better! lets determine the shape of dataset"
   ]
  },
  {
   "cell_type": "code",
   "execution_count": 5,
   "id": "004923e8",
   "metadata": {},
   "outputs": [
    {
     "data": {
      "text/plain": [
       "(491, 7)"
      ]
     },
     "execution_count": 5,
     "metadata": {},
     "output_type": "execute_result"
    }
   ],
   "source": [
    "HDFC_df.shape"
   ]
  },
  {
   "cell_type": "code",
   "execution_count": 9,
   "id": "88ba3bbd",
   "metadata": {},
   "outputs": [
    {
     "data": {
      "text/plain": [
       "Date         0\n",
       "Open         0\n",
       "High         0\n",
       "Low          0\n",
       "Close        0\n",
       "Adj Close    0\n",
       "Volume       0\n",
       "dtype: int64"
      ]
     },
     "execution_count": 9,
     "metadata": {},
     "output_type": "execute_result"
    }
   ],
   "source": [
    "HDFC_df.isnull().sum()"
   ]
  },
  {
   "cell_type": "markdown",
   "id": "ae7c44a9",
   "metadata": {},
   "source": [
    "kita buang yang null"
   ]
  },
  {
   "cell_type": "code",
   "execution_count": 8,
   "id": "9ff00e4b",
   "metadata": {},
   "outputs": [],
   "source": [
    "HDFC_df.dropna(inplace=True, axis=0)"
   ]
  },
  {
   "cell_type": "markdown",
   "id": "106c4da1",
   "metadata": {},
   "source": [
    "kita cek juga data type tiap column nya"
   ]
  },
  {
   "cell_type": "code",
   "execution_count": 10,
   "id": "54e225fd",
   "metadata": {},
   "outputs": [
    {
     "data": {
      "text/plain": [
       "Date          object\n",
       "Open         float64\n",
       "High         float64\n",
       "Low          float64\n",
       "Close        float64\n",
       "Adj Close    float64\n",
       "Volume       float64\n",
       "dtype: object"
      ]
     },
     "execution_count": 10,
     "metadata": {},
     "output_type": "execute_result"
    }
   ],
   "source": [
    "HDFC_df.dtypes"
   ]
  },
  {
   "cell_type": "markdown",
   "id": "15bc8fee",
   "metadata": {},
   "source": [
    "ternyata untuk kolom date nya harus diubah ke datetime\n",
    "kita pake pandas untuk merubah date ke datetime"
   ]
  },
  {
   "cell_type": "code",
   "execution_count": 11,
   "id": "b468373c",
   "metadata": {},
   "outputs": [
    {
     "data": {
      "text/html": [
       "<div>\n",
       "<style scoped>\n",
       "    .dataframe tbody tr th:only-of-type {\n",
       "        vertical-align: middle;\n",
       "    }\n",
       "\n",
       "    .dataframe tbody tr th {\n",
       "        vertical-align: top;\n",
       "    }\n",
       "\n",
       "    .dataframe thead th {\n",
       "        text-align: right;\n",
       "    }\n",
       "</style>\n",
       "<table border=\"1\" class=\"dataframe\">\n",
       "  <thead>\n",
       "    <tr style=\"text-align: right;\">\n",
       "      <th></th>\n",
       "      <th>Date</th>\n",
       "      <th>Open</th>\n",
       "      <th>High</th>\n",
       "      <th>Low</th>\n",
       "      <th>Close</th>\n",
       "      <th>Adj Close</th>\n",
       "      <th>Volume</th>\n",
       "    </tr>\n",
       "  </thead>\n",
       "  <tbody>\n",
       "    <tr>\n",
       "      <th>0</th>\n",
       "      <td>2018-02-15</td>\n",
       "      <td>944.85</td>\n",
       "      <td>947.38</td>\n",
       "      <td>937.50</td>\n",
       "      <td>940.95</td>\n",
       "      <td>927.14</td>\n",
       "      <td>2457612.0</td>\n",
       "    </tr>\n",
       "    <tr>\n",
       "      <th>1</th>\n",
       "      <td>2018-02-16</td>\n",
       "      <td>941.95</td>\n",
       "      <td>947.42</td>\n",
       "      <td>937.83</td>\n",
       "      <td>939.30</td>\n",
       "      <td>925.51</td>\n",
       "      <td>1791760.0</td>\n",
       "    </tr>\n",
       "    <tr>\n",
       "      <th>2</th>\n",
       "      <td>2018-02-19</td>\n",
       "      <td>941.30</td>\n",
       "      <td>943.80</td>\n",
       "      <td>929.53</td>\n",
       "      <td>939.10</td>\n",
       "      <td>925.32</td>\n",
       "      <td>1827276.0</td>\n",
       "    </tr>\n",
       "    <tr>\n",
       "      <th>3</th>\n",
       "      <td>2018-02-20</td>\n",
       "      <td>942.38</td>\n",
       "      <td>942.92</td>\n",
       "      <td>929.40</td>\n",
       "      <td>931.60</td>\n",
       "      <td>917.93</td>\n",
       "      <td>2042034.0</td>\n",
       "    </tr>\n",
       "    <tr>\n",
       "      <th>4</th>\n",
       "      <td>2018-02-21</td>\n",
       "      <td>933.97</td>\n",
       "      <td>934.28</td>\n",
       "      <td>926.10</td>\n",
       "      <td>928.70</td>\n",
       "      <td>915.07</td>\n",
       "      <td>1376536.0</td>\n",
       "    </tr>\n",
       "  </tbody>\n",
       "</table>\n",
       "</div>"
      ],
      "text/plain": [
       "        Date    Open    High     Low   Close  Adj Close     Volume\n",
       "0 2018-02-15  944.85  947.38  937.50  940.95     927.14  2457612.0\n",
       "1 2018-02-16  941.95  947.42  937.83  939.30     925.51  1791760.0\n",
       "2 2018-02-19  941.30  943.80  929.53  939.10     925.32  1827276.0\n",
       "3 2018-02-20  942.38  942.92  929.40  931.60     917.93  2042034.0\n",
       "4 2018-02-21  933.97  934.28  926.10  928.70     915.07  1376536.0"
      ]
     },
     "execution_count": 11,
     "metadata": {},
     "output_type": "execute_result"
    }
   ],
   "source": [
    "HDFC_df[\"Date\"] = pd.to_datetime(HDFC_df[\"Date\"])\n",
    "HDFC_df.head()"
   ]
  },
  {
   "cell_type": "code",
   "execution_count": 12,
   "id": "aa7f8bc9",
   "metadata": {},
   "outputs": [
    {
     "data": {
      "text/plain": [
       "Date         datetime64[ns]\n",
       "Open                float64\n",
       "High                float64\n",
       "Low                 float64\n",
       "Close               float64\n",
       "Adj Close           float64\n",
       "Volume              float64\n",
       "dtype: object"
      ]
     },
     "execution_count": 12,
     "metadata": {},
     "output_type": "execute_result"
    }
   ],
   "source": [
    "HDFC_df.dtypes"
   ]
  },
  {
   "cell_type": "markdown",
   "id": "6f370daf",
   "metadata": {},
   "source": [
    "data date sudah berubah ke format datetime"
   ]
  },
  {
   "cell_type": "code",
   "execution_count": 13,
   "id": "848519d9",
   "metadata": {},
   "outputs": [
    {
     "data": {
      "text/plain": [
       "pandas._libs.tslibs.timestamps.Timestamp"
      ]
     },
     "execution_count": 13,
     "metadata": {},
     "output_type": "execute_result"
    }
   ],
   "source": [
    "type(HDFC_df.loc[0, \"Date\"])"
   ]
  },
  {
   "cell_type": "markdown",
   "id": "133ed39d",
   "metadata": {},
   "source": [
    "lalu kita mengambil data date dari terakhir hingga pertama"
   ]
  },
  {
   "cell_type": "code",
   "execution_count": 14,
   "id": "90c1f3fa",
   "metadata": {},
   "outputs": [
    {
     "data": {
      "text/plain": [
       "Timedelta('729 days 00:00:00')"
      ]
     },
     "execution_count": 14,
     "metadata": {},
     "output_type": "execute_result"
    }
   ],
   "source": [
    "HDFC_df[\"Date\"].max() - HDFC_df[\"Date\"].min()"
   ]
  },
  {
   "cell_type": "markdown",
   "id": "2b173761",
   "metadata": {},
   "source": [
    "kita ngambil data 90 hari terakhir dari awal data"
   ]
  },
  {
   "cell_type": "code",
   "execution_count": 18,
   "id": "9eb35643",
   "metadata": {},
   "outputs": [
    {
     "data": {
      "text/plain": [
       "Date         datetime64[ns]\n",
       "Open                float64\n",
       "High                float64\n",
       "Low                 float64\n",
       "Close               float64\n",
       "Adj Close           float64\n",
       "Volume              float64\n",
       "dtype: object"
      ]
     },
     "execution_count": 18,
     "metadata": {},
     "output_type": "execute_result"
    }
   ],
   "source": [
    "HDFC_df.dtypes"
   ]
  },
  {
   "cell_type": "markdown",
   "id": "3929fe35",
   "metadata": {},
   "source": [
    "ada beberapa error tadi, karna tutorial nya masih lama, jadi ada beberap perubahan di pandas version terbaru, sehingga seharusnya date tidak terikut, namun masih terikut di operasi describe\n",
    "\n",
    "solusi nya = menggunakan slect_dtypes untuk filter tipe data yang diinginkan"
   ]
  },
  {
   "cell_type": "code",
   "execution_count": 20,
   "id": "756a11a5",
   "metadata": {},
   "outputs": [
    {
     "data": {
      "text/html": [
       "<div>\n",
       "<style scoped>\n",
       "    .dataframe tbody tr th:only-of-type {\n",
       "        vertical-align: middle;\n",
       "    }\n",
       "\n",
       "    .dataframe tbody tr th {\n",
       "        vertical-align: top;\n",
       "    }\n",
       "\n",
       "    .dataframe thead th {\n",
       "        text-align: right;\n",
       "    }\n",
       "</style>\n",
       "<table border=\"1\" class=\"dataframe\">\n",
       "  <thead>\n",
       "    <tr style=\"text-align: right;\">\n",
       "      <th></th>\n",
       "      <th>Open</th>\n",
       "      <th>High</th>\n",
       "      <th>Low</th>\n",
       "      <th>Close</th>\n",
       "      <th>Adj Close</th>\n",
       "      <th>Volume</th>\n",
       "    </tr>\n",
       "  </thead>\n",
       "  <tbody>\n",
       "    <tr>\n",
       "      <th>count</th>\n",
       "      <td>90</td>\n",
       "      <td>90</td>\n",
       "      <td>90</td>\n",
       "      <td>90</td>\n",
       "      <td>90</td>\n",
       "      <td>90</td>\n",
       "    </tr>\n",
       "    <tr>\n",
       "      <th>mean</th>\n",
       "      <td>1255</td>\n",
       "      <td>1263</td>\n",
       "      <td>1243</td>\n",
       "      <td>1252</td>\n",
       "      <td>1252</td>\n",
       "      <td>5973670</td>\n",
       "    </tr>\n",
       "    <tr>\n",
       "      <th>std</th>\n",
       "      <td>24</td>\n",
       "      <td>22</td>\n",
       "      <td>25</td>\n",
       "      <td>24</td>\n",
       "      <td>24</td>\n",
       "      <td>1824496</td>\n",
       "    </tr>\n",
       "    <tr>\n",
       "      <th>min</th>\n",
       "      <td>1197</td>\n",
       "      <td>1197</td>\n",
       "      <td>1177</td>\n",
       "      <td>1186</td>\n",
       "      <td>1186</td>\n",
       "      <td>1836849</td>\n",
       "    </tr>\n",
       "    <tr>\n",
       "      <th>25%</th>\n",
       "      <td>1242</td>\n",
       "      <td>1248</td>\n",
       "      <td>1227</td>\n",
       "      <td>1239</td>\n",
       "      <td>1239</td>\n",
       "      <td>4651834</td>\n",
       "    </tr>\n",
       "    <tr>\n",
       "      <th>50%</th>\n",
       "      <td>1256</td>\n",
       "      <td>1262</td>\n",
       "      <td>1243</td>\n",
       "      <td>1253</td>\n",
       "      <td>1253</td>\n",
       "      <td>5792594</td>\n",
       "    </tr>\n",
       "    <tr>\n",
       "      <th>75%</th>\n",
       "      <td>1276</td>\n",
       "      <td>1281</td>\n",
       "      <td>1264</td>\n",
       "      <td>1272</td>\n",
       "      <td>1272</td>\n",
       "      <td>6685996</td>\n",
       "    </tr>\n",
       "    <tr>\n",
       "      <th>max</th>\n",
       "      <td>1305</td>\n",
       "      <td>1305</td>\n",
       "      <td>1288</td>\n",
       "      <td>1302</td>\n",
       "      <td>1302</td>\n",
       "      <td>11256610</td>\n",
       "    </tr>\n",
       "  </tbody>\n",
       "</table>\n",
       "</div>"
      ],
      "text/plain": [
       "       Open  High   Low  Close  Adj Close    Volume\n",
       "count    90    90    90     90         90        90\n",
       "mean   1255  1263  1243   1252       1252   5973670\n",
       "std      24    22    25     24         24   1824496\n",
       "min    1197  1197  1177   1186       1186   1836849\n",
       "25%    1242  1248  1227   1239       1239   4651834\n",
       "50%    1256  1262  1243   1253       1253   5792594\n",
       "75%    1276  1281  1264   1272       1272   6685996\n",
       "max    1305  1305  1288   1302       1302  11256610"
      ]
     },
     "execution_count": 20,
     "metadata": {},
     "output_type": "execute_result"
    }
   ],
   "source": [
    "HDFC_df.iloc[-90:].select_dtypes(include=[\"number\"]).describe().astype(int)"
   ]
  },
  {
   "cell_type": "code",
   "execution_count": null,
   "id": "67e928f0",
   "metadata": {},
   "outputs": [],
   "source": []
  }
 ],
 "metadata": {
  "kernelspec": {
   "display_name": "base",
   "language": "python",
   "name": "python3"
  },
  "language_info": {
   "codemirror_mode": {
    "name": "ipython",
    "version": 3
   },
   "file_extension": ".py",
   "mimetype": "text/x-python",
   "name": "python",
   "nbconvert_exporter": "python",
   "pygments_lexer": "ipython3",
   "version": "3.12.4"
  }
 },
 "nbformat": 4,
 "nbformat_minor": 5
}
