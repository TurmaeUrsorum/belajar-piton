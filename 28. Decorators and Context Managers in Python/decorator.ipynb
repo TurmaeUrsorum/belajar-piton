{
 "cells": [
  {
   "cell_type": "markdown",
   "id": "382c3598",
   "metadata": {},
   "source": [
    "Bagus! Kamu sekarang masuk ke konsep **lanjutan** Python:\n",
    "🔹 **Decorator**\n",
    "🔹 **Context Manager**\n",
    "\n",
    "Aku jelaskan satu per satu dengan sederhana 👇\n",
    "\n",
    "---\n",
    "\n",
    "## 🎁 1. **Decorator** — \"Membungkus fungsi dengan fitur tambahan\"\n",
    "\n",
    "Decorator di Python adalah **fungsi yang menerima fungsi lain sebagai argumen**, lalu **mengembalikan fungsi baru** dengan fungsionalitas tambahan.\n",
    "\n",
    "### 🔧 Contoh Sederhana:\n",
    "\n",
    "```python\n",
    "def dekorator_salam(fungsi):\n",
    "    def bungkus():\n",
    "        print(\"Halo sebelum fungsi dipanggil\")\n",
    "        fungsi()\n",
    "        print(\"Halo sesudah fungsi dipanggil\")\n",
    "    return bungkus\n",
    "\n",
    "@dekorator_salam\n",
    "def sapa():\n",
    "    print(\"Apa kabar?\")\n",
    "\n",
    "sapa()\n",
    "```\n",
    "\n",
    "### 🧠 Output:\n",
    "\n",
    "```\n",
    "Halo sebelum fungsi dipanggil\n",
    "Apa kabar?\n",
    "Halo sesudah fungsi dipanggil\n",
    "```\n",
    "\n",
    "Penulisan `@dekorator_salam` adalah sintaks pendek dari:\n",
    "\n",
    "```python\n",
    "sapa = dekorator_salam(sapa)\n",
    "```\n",
    "\n",
    "📌 Decorator banyak digunakan untuk:\n",
    "\n",
    "* Logging\n",
    "* Validasi\n",
    "* Caching\n",
    "* Autentikasi\n",
    "* Menambahkan timing, dll\n",
    "\n",
    "---\n",
    "\n",
    "## 📦 2. **Context Manager** — \"Mengelola sumber daya secara otomatis\"\n",
    "\n",
    "Context Manager adalah cara Python untuk **mengatur sumber daya** (seperti file, koneksi, dll) agar dibuka dan ditutup dengan **aman dan otomatis**, bahkan saat terjadi error.\n",
    "\n",
    "Biasanya digunakan dengan `with`.\n",
    "\n",
    "### 🔧 Contoh Biasa:\n",
    "\n",
    "```python\n",
    "file = open(\"data.txt\", \"r\")\n",
    "isi = file.read()\n",
    "file.close()\n",
    "```\n",
    "\n",
    "Kalau terjadi error sebelum `file.close()`, file bisa **tidak tertutup dengan benar**.\n",
    "\n",
    "### ✅ Lebih Aman dengan Context Manager:\n",
    "\n",
    "```python\n",
    "with open(\"data.txt\", \"r\") as file:\n",
    "    isi = file.read()\n",
    "# file otomatis tertutup di sini\n",
    "```\n",
    "\n",
    "---\n",
    "\n",
    "### 🛠️ Buat Context Manager Sendiri\n",
    "\n",
    "Dengan `__enter__()` dan `__exit__()`:\n",
    "\n",
    "```python\n",
    "class Demo:\n",
    "    def __enter__(self):\n",
    "        print(\"Masuk ke blok\")\n",
    "        return self\n",
    "    def __exit__(self, exc_type, exc_value, traceback):\n",
    "        print(\"Keluar dari blok\")\n",
    "\n",
    "with Demo():\n",
    "    print(\"Di dalam blok\")\n",
    "```\n",
    "\n",
    "### Output:\n",
    "\n",
    "```\n",
    "Masuk ke blok\n",
    "Di dalam blok\n",
    "Keluar dari blok\n",
    "```\n",
    "\n",
    "---\n",
    "\n",
    "## 🔄 Ringkasan:\n",
    "\n",
    "| Fitur               | Fungsi Singkat                           |\n",
    "| ------------------- | ---------------------------------------- |\n",
    "| **Decorator**       | Tambahkan logika ke fungsi lain          |\n",
    "| **Context Manager** | Kelola sumber daya (buka/tutup) otomatis |\n",
    "\n",
    "---\n",
    "\n",
    "Kalau kamu mau, aku bisa bantu bikin **contoh nyata** seperti:\n",
    "\n",
    "* Decorator untuk cek login\n",
    "* Context Manager untuk stopwatch (waktu eksekusi)\n",
    "\n",
    "Tertarik?\n"
   ]
  },
  {
   "cell_type": "markdown",
   "id": "689665ce",
   "metadata": {},
   "source": [
    "# Simple"
   ]
  },
  {
   "cell_type": "code",
   "execution_count": null,
   "id": "4f11c484",
   "metadata": {},
   "outputs": [
    {
     "name": "stdout",
     "output_type": "stream",
     "text": [
      "Function sample_function took 1.430511474609375e-06 seconds to execute.\n"
     ]
    },
    {
     "data": {
      "text/plain": [
       "250000"
      ]
     },
     "execution_count": 1,
     "metadata": {},
     "output_type": "execute_result"
    }
   ],
   "source": [
    "import time\n",
    "\n",
    "# agak susah ini decotator\n",
    "def timing_decorator(func):\n",
    "    def wrapper(*args, **kwargs):\n",
    "        start_time = time.time()\n",
    "        result = func(*args, **kwargs)\n",
    "        end_time = time.time()\n",
    "        print(f\"Function {func.__name__} took {end_time - start_time} seconds to execute.\")\n",
    "        return result\n",
    "    return wrapper\n",
    "\n",
    "@timing_decorator\n",
    "def sample_function():\n",
    "    return 500 ** 2\n",
    "\n",
    "sample_function()\n"
   ]
  },
  {
   "cell_type": "code",
   "execution_count": 2,
   "id": "0dbaa2e8",
   "metadata": {},
   "outputs": [
    {
     "name": "stdout",
     "output_type": "stream",
     "text": [
      "Calling add with args: (2, 3), kwargs: {}\n",
      "add returned 5\n"
     ]
    }
   ],
   "source": [
    "def log_decorator(func):\n",
    "    def wrapper(*args, **kwargs):\n",
    "        print(f\"Calling {func.__name__} with args: {args}, kwargs: {kwargs}\")\n",
    "        result = func(*args, **kwargs)\n",
    "        print(f\"{func.__name__} returned {result}\")\n",
    "        return result\n",
    "    return wrapper\n",
    "\n",
    "@log_decorator\n",
    "def add(a, b):\n",
    "    return a + b\n",
    "\n",
    "results = add(2, 3)\n"
   ]
  },
  {
   "cell_type": "markdown",
   "id": "d6ebc746",
   "metadata": {},
   "source": [
    "# Intermediate"
   ]
  },
  {
   "cell_type": "markdown",
   "id": "fc5a1a6d",
   "metadata": {},
   "source": [
    "`from contextlib import contextmanager` adalah bagian dari **library standar Python** (`contextlib`) yang menyediakan **cara mudah untuk membuat context manager** menggunakan fungsi (bukan class).\n",
    "\n",
    "---\n",
    "\n",
    "## 🧠 Kenapa Ada `@contextmanager`?\n",
    "\n",
    "Biasanya untuk membuat context manager, kamu harus membuat class dengan `__enter__()` dan `__exit__()` seperti ini:\n",
    "\n",
    "```python\n",
    "class MyContext:\n",
    "    def __enter__(self):\n",
    "        print(\"Masuk\")\n",
    "    def __exit__(self, exc_type, exc_value, traceback):\n",
    "        print(\"Keluar\")\n",
    "\n",
    "with MyContext():\n",
    "    print(\"Di dalam blok\")\n",
    "```\n",
    "\n",
    "Tapi dengan `@contextmanager`, kamu bisa bikin yang sama hanya pakai **fungsi generator**.\n",
    "\n",
    "---\n",
    "\n",
    "## ✅ Contoh Penggunaan `@contextmanager`\n",
    "\n",
    "```python\n",
    "from contextlib import contextmanager\n",
    "\n",
    "@contextmanager\n",
    "def buka_file(nama_file):\n",
    "    f = open(nama_file, 'r')\n",
    "    try:\n",
    "        yield f  # bagian ini jadi isi `with`\n",
    "    finally:\n",
    "        f.close()\n",
    "\n",
    "with buka_file('data.txt') as file:\n",
    "    isi = file.read()\n",
    "    print(isi)\n",
    "```\n",
    "\n",
    "📝 Penjelasan:\n",
    "\n",
    "* Fungsi `buka_file()` dibungkus dengan `@contextmanager`\n",
    "* `yield` menandai bagian `with` — sebelum `yield` dijalankan saat masuk, setelah `yield` dijalankan saat keluar\n",
    "* `finally:` menjamin file ditutup **meskipun terjadi error**\n",
    "\n",
    "---\n",
    "\n",
    "## ⚡ Kapan Kamu Butuh `@contextmanager`?\n",
    "\n",
    "Jika kamu:\n",
    "\n",
    "* Ingin **membuka dan menutup** resource (file, koneksi, timer)\n",
    "* Tidak ingin bikin class `__enter__` dan `__exit__` yang panjang\n",
    "* Ingin lebih simpel dan **pythonic**\n",
    "\n",
    "---\n",
    "\n",
    "## 🔧 Contoh Praktis: Timer\n",
    "\n",
    "```python\n",
    "import time\n",
    "from contextlib import contextmanager\n",
    "\n",
    "@contextmanager\n",
    "def stopwatch():\n",
    "    start = time.time()\n",
    "    yield\n",
    "    end = time.time()\n",
    "    print(f\"Durasi: {end - start:.2f} detik\")\n",
    "\n",
    "with stopwatch():\n",
    "    time.sleep(1.5)\n",
    "```\n",
    "\n",
    "---\n",
    "\n",
    "Kalau kamu tertarik, aku bisa bantu bikin context manager untuk kasus seperti:\n",
    "\n",
    "* Logging data preprocessing\n",
    "* Timer pelatihan model\n",
    "* Manajemen koneksi database\n",
    "\n",
    "Tinggal bilang aja ya.\n"
   ]
  },
  {
   "cell_type": "code",
   "execution_count": 3,
   "id": "b815ccb0",
   "metadata": {},
   "outputs": [
    {
     "name": "stdout",
     "output_type": "stream",
     "text": [
      "Code block took 3.000105619430542 seconds to run.\n"
     ]
    }
   ],
   "source": [
    "import time\n",
    "from contextlib import contextmanager\n",
    "\n",
    "@contextmanager\n",
    "def timer_context_manager():\n",
    "    start_time = time.time()\n",
    "    yield\n",
    "    end_time = time.time()\n",
    "    print(f\"Code block took {end_time - start_time} seconds to run.\")\n",
    "\n",
    "with timer_context_manager():\n",
    "    time.sleep(3)\n"
   ]
  },
  {
   "cell_type": "code",
   "execution_count": 4,
   "id": "9a2c8e4a",
   "metadata": {},
   "outputs": [],
   "source": [
    "from contextlib import contextmanager\n",
    "\n",
    "@contextmanager\n",
    "def file_opener(filename, mode):\n",
    "    try:\n",
    "        file = open(filename, mode)\n",
    "        yield file\n",
    "    finally:\n",
    "        file.close()\n",
    "\n",
    "with file_opener(\"sample.txt\", \"w\") as file:\n",
    "    file.write(\"Hello, Context Managers!\")\n"
   ]
  },
  {
   "cell_type": "markdown",
   "id": "fc0cfa8b",
   "metadata": {},
   "source": [
    "# Advanced"
   ]
  },
  {
   "cell_type": "code",
   "execution_count": 5,
   "id": "041acadb",
   "metadata": {},
   "outputs": [
    {
     "name": "stdout",
     "output_type": "stream",
     "text": [
      "Function multiply(4, 5) returned 20\n"
     ]
    },
    {
     "data": {
      "text/plain": [
       "20"
      ]
     },
     "execution_count": 5,
     "metadata": {},
     "output_type": "execute_result"
    }
   ],
   "source": [
    "def advanced_log_decorator(func):\n",
    "    def wrapper(*args, **kwargs):\n",
    "        args_str = ', '.join([str(arg) for arg in args])\n",
    "        kwargs_str = ', '.join([f\"{key}={value}\" for key, value in kwargs.items()])\n",
    "        all_args = ', '.join(filter(None, [args_str, kwargs_str]))\n",
    "\n",
    "        result = func(*args, **kwargs)\n",
    "        print(f\"Function {func.__name__}({all_args}) returned {result}\")\n",
    "        return result\n",
    "    return wrapper\n",
    "\n",
    "@advanced_log_decorator\n",
    "def multiply(x, y):\n",
    "    return x * y\n",
    "\n",
    "multiply(4, 5)\n"
   ]
  },
  {
   "cell_type": "code",
   "execution_count": null,
   "id": "6c557046",
   "metadata": {},
   "outputs": [
    {
     "name": "stdout",
     "output_type": "stream",
     "text": [
      "Caught exception: division by zero\n"
     ]
    }
   ],
   "source": [
    "from contextlib import contextmanager\n",
    "#decorator selesai\n",
    "\n",
    "@contextmanager\n",
    "def exception_handler(exception_type):\n",
    "    try:\n",
    "        yield\n",
    "    except exception_type as e:\n",
    "        print(f\"Caught exception: {e}\")\n",
    "\n",
    "with exception_handler(ZeroDivisionError):\n",
    "    result = 10 / 0\n"
   ]
  }
 ],
 "metadata": {
  "kernelspec": {
   "display_name": "base",
   "language": "python",
   "name": "python3"
  },
  "language_info": {
   "codemirror_mode": {
    "name": "ipython",
    "version": 3
   },
   "file_extension": ".py",
   "mimetype": "text/x-python",
   "name": "python",
   "nbconvert_exporter": "python",
   "pygments_lexer": "ipython3",
   "version": "3.12.4"
  }
 },
 "nbformat": 4,
 "nbformat_minor": 5
}
